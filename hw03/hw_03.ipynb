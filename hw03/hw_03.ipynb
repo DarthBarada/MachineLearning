{
  "cells": [
    {
      "cell_type": "markdown",
      "metadata": {
        "id": "7uLSt3vBI0zr"
      },
      "source": [
        "# Домашнее задание 3. Свёрточные и рекуррентные нейронные сети\n",
        "## Фамилия Имя Группа"
      ]
    },
    {
      "cell_type": "markdown",
      "metadata": {
        "id": "2JxNVonhRMgf"
      },
      "source": [
        "В зависимости от варианта, для решения задачи используйте следующие наборы данных:\n",
        "\n",
        "<table>\n",
        "    <thead>\n",
        "         <tr>\n",
        "            <th colspan=1>Задача генерации</th>\n",
        "            <th colspan=5>Задача классификации</th>\n",
        "        </tr>\n",
        "        <tr>\n",
        "            <th> </th>\n",
        "            <th>A</th>\n",
        "            <th>B</th>\n",
        "            <th style=\"background-color:red; color:white\">C</th>\n",
        "            <th>D</th>\n",
        "            <th>E</th>\n",
        "        </tr>\n",
        "    </thead>\n",
        "    <tbody>\n",
        "        <tr>\n",
        "            <td>K</td>\n",
        "            <td>1</td>\n",
        "            <td>2</td>\n",
        "            <td>3</td>\n",
        "            <td>4</td>\n",
        "            <td>5</td>\n",
        "        </tr>\n",
        "        <tr>\n",
        "            <td style=\"background-color:red; color:white\">L</td>\n",
        "            <td>6</td>\n",
        "            <td>7</td>\n",
        "            <td style=\"background-color:red; color:white\">8</td>\n",
        "            <td>9</td>\n",
        "            <td>10</td>\n",
        "        </tr>\n",
        "        <tr>\n",
        "            <td>M</td>\n",
        "            <td>11</td>\n",
        "            <td>12</td>\n",
        "            <td>13</td>\n",
        "            <td>14</td>\n",
        "            <td>15</td>\n",
        "        </tr>\n",
        "        <tr>\n",
        "            <td>N</td>\n",
        "            <td>16</td>\n",
        "            <td>17</td>\n",
        "            <td>18</td>\n",
        "            <td>19</td>\n",
        "            <td>20</td>\n",
        "        </tr>\n",
        "        <tr>\n",
        "            <td>O</td>\n",
        "            <td>21</td>\n",
        "            <td>22</td>\n",
        "            <td>23</td>\n",
        "            <td>24</td>\n",
        "            <td>25</td>\n",
        "        </tr>\n",
        "    </tbody>\n",
        "</table>\n",
        "\n",
        "### Наборы данных\n",
        "\n",
        "**Задача классификации картинок**\n",
        "\n",
        "A. [Набор данных \"Fashion MNIST\"](https://pytorch.org/vision/main/generated/torchvision.datasets.FashionMNIST.html) `torchvision.datasets.FashionMNIST train=True и False`\n",
        "\n",
        "B. [Набор данных \"Текстуры\"](https://pytorch.org/vision/main/generated/torchvision.datasets.DTD.html#torchvision.datasets.DTD) `torchvision.datasets.DTD split='train' и 'test'`\n",
        "\n",
        "C. **[Набор данных \"Буквы\"](https://pytorch.org/vision/main/generated/torchvision.datasets.EMNIST.html#torchvision.datasets.EMNIST)** `torchvision.datasets.EMNIST split=letters train=True и False`\n",
        "\n",
        "D. [Набор данных \"Кошки и собаки\"](https://pytorch.org/vision/main/generated/torchvision.datasets.OxfordIIITPet.html) `torchvision.datasets.OxfordIIITPet split = 'trainval' и 'test'` (объекты разбиты по породам (всего 37 пород), нужно построить бинарный классификатор собак и кошек)\n",
        "\n",
        "E. [Набор данных \"Дорожные знаки\"](https://pytorch.org/vision/main/generated/torchvision.datasets.GTSRB.html) `torchvision.datasets.GTSRB split = 'train' и 'test'`\n",
        "\n",
        "\n",
        "---\n",
        "\n",
        "**Задача генерации текстов**\n",
        "\n",
        "K. [Набор данных \"Евгений Онегин\"]() `onegin.txt`\n",
        "\n",
        "L. **[Набор данных \"Война и Мир\"]() `war_and_piece.txt`**\n",
        "\n",
        "M. [Набор данных \"Стихи\"]() `stihi.csv`\n",
        "\n",
        "N. [Набор данных \"Сказки\"]() `fairytales.txt`\n",
        "\n",
        "O. [Набор данных \"Новости\"]() `news.txt` или https://github.com/yutkin/Lenta.Ru-News-Dataset/releases"
      ]
    },
    {
      "cell_type": "markdown",
      "metadata": {
        "id": "zsqatIg_JBu7"
      },
      "source": [
        "# 0. Инициализация библиотек"
      ]
    },
    {
      "cell_type": "code",
      "execution_count": null,
      "metadata": {
        "id": "WGZt4ftTJxg4",
        "notebookRunGroups": {
          "groupValue": "1"
        }
      },
      "outputs": [],
      "source": [
        "import torch\n",
        "import torchvision\n",
        "import numpy as np\n",
        "import pandas as pd\n",
        "import torch.nn as nn\n",
        "from tqdm import tqdm\n",
        "from torch import optim\n",
        "from os.path import exists\n",
        "import kornia.augmentation as K\n",
        "import torch.nn.functional as F\n",
        "import matplotlib.pyplot as plt\n",
        "from torchsummary import summary\n",
        "from torch.autograd import Variable\n",
        "import matplotlib.animation as animation\n",
        "import torchvision.transforms as transforms"
      ]
    },
    {
      "cell_type": "markdown",
      "metadata": {
        "id": "aGY7pMa8_vhU"
      },
      "source": [
        "Подсказка по разделению пород на два класса\n",
        "```\n",
        "import torchvision\n",
        "\n",
        "# Все классы\n",
        "len(torchvision.datasets.OxfordIIITPet(root='data_train', download=True).classes)\n",
        "\n",
        "# кошки\n",
        "cats = ['Abyssinian', 'Bengal', 'Birman', 'Bombay', 'British Shorthair', 'Egyptian Mau', 'Maine Coon', 'Persian', 'Ragdoll', 'Russian Blue', 'Siamese', 'Sphynx']\n",
        "\n",
        "# собаки\n",
        "dogs = ['American Bulldog', 'American Pit Bull Terrier', 'Basset Hound', 'Beagle', 'Boxer', 'Chihuahua', 'English Cocker Spaniel', 'English Setter', 'German Shorthaired', 'Great Pyrenees',\n",
        "        'Havanese', 'Japanese Chin', 'Keeshond', 'Leonberger', 'Miniature Pinscher', 'Newfoundland', 'Pomeranian', 'Pug', 'Saint Bernard', 'Samoyed', 'Scottish Terrier', 'Shiba Inu',\n",
        "        'Staffordshire Bull Terrier', 'Wheaten Terrier', 'Yorkshire Terrier']\n",
        "```"
      ]
    },
    {
      "cell_type": "markdown",
      "metadata": {
        "id": "5oGgl1uGJBxH"
      },
      "source": [
        "# 1. Свёрточная нейронная сеть для классификации изображений (9 баллов)"
      ]
    },
    {
      "cell_type": "markdown",
      "metadata": {
        "id": "qV47VXssLKa9",
        "notebookRunGroups": {
          "groupValue": ""
        }
      },
      "source": [
        "## 1.1 Загрузка данных, разделение на train и test\n",
        "\n",
        "Загрузите данные при помощи torchvision.datasets. Можете предусмотреть опредлённые транфсофрмации картинки, например, изменение размера до 128 px, кроп по центру в 196 px и преобразование к классу torch.Tensor:\n",
        "\n",
        "```\n",
        "import torchvision\n",
        "\n",
        "\n",
        "transform = torchvision.transforms.Compose([\n",
        "    # resize\n",
        "    torchvision.transforms.Resize(128),\n",
        "    torchvision.transforms.CenterCrop(196),\n",
        "    torchvision.transforms.ToTensor()\n",
        "])\n",
        "```"
      ]
    },
    {
      "cell_type": "code",
      "execution_count": 2,
      "metadata": {
        "notebookRunGroups": {
          "groupValue": "1"
        }
      },
      "outputs": [],
      "source": [
        "transform = transforms.Compose([\n",
        "\ttransforms.Resize(24),\n",
        "\ttransforms.CenterCrop(32),\n",
        "\ttransforms.ToTensor()\n",
        "])"
      ]
    },
    {
      "cell_type": "code",
      "execution_count": 3,
      "metadata": {
        "notebookRunGroups": {
          "groupValue": "1"
        }
      },
      "outputs": [],
      "source": [
        "data_train = torchvision.datasets.EMNIST(\n",
        "\troot = './data/letters/', \n",
        "\tsplit = \"letters\", \n",
        "\ttrain = True, \n",
        "\tdownload = True,\n",
        "\ttransform = transform\n",
        ")\n",
        "\n",
        "data_test = torchvision.datasets.EMNIST(\n",
        "\troot = './data/letters/', \n",
        "\tsplit = \"letters\", \n",
        "\ttrain = False, \n",
        "\tdownload = True,\n",
        "\ttransform = transform\n",
        ")"
      ]
    },
    {
      "cell_type": "code",
      "execution_count": 4,
      "metadata": {
        "notebookRunGroups": {
          "groupValue": "1"
        }
      },
      "outputs": [],
      "source": [
        "nbatch = 16\n",
        "trainset = torch.utils.data.DataLoader(\n",
        "\tdata_train, \n",
        "\tbatch_size = nbatch, \n",
        "\tshuffle = True,\n",
        "\tnum_workers=2\n",
        ")\n",
        "testset = torch.utils.data.DataLoader(\n",
        "\tdata_test, \n",
        "\tbatch_size = nbatch, \n",
        "\tshuffle = False,\n",
        "\tnum_workers=2\n",
        ") "
      ]
    },
    {
      "cell_type": "code",
      "execution_count": 5,
      "metadata": {
        "notebookRunGroups": {
          "groupValue": "1"
        }
      },
      "outputs": [
        {
          "name": "stdout",
          "output_type": "stream",
          "text": [
            "n o i o n y j n m o o l m n a u\n"
          ]
        },
        {
          "data": {
            "image/png": "[encoded data removed]",
            "text/plain": [
              "<Figure size 432x288 with 1 Axes>"
            ]
          },
          "metadata": {
            "needs_background": "light"
          },
          "output_type": "display_data"
        }
      ],
      "source": [
        "def imshow(img):\n",
        "    npimg = img.numpy()\n",
        "    plt.axis(\"off\")\n",
        "    npimg = np.transpose(npimg,(2, 1, 0))\n",
        "    plt.imshow(npimg)\n",
        "    plt.show\n",
        "    \n",
        "dataiter = iter(trainset)\n",
        "images, labels = dataiter.next()\n",
        "\n",
        "imshow(torchvision.utils.make_grid(images, nrow = 1))\n",
        "\n",
        "print(\" \".join(str(data_train.classes[labels[j]]) for j in range(nbatch)))"
      ]
    },
    {
      "cell_type": "markdown",
      "metadata": {
        "id": "MYWcgRrZSWfY"
      },
      "source": [
        "## 1.2 Предобработка данных (по необходимости)"
      ]
    },
    {
      "cell_type": "code",
      "execution_count": null,
      "metadata": {
        "id": "C-LVM7AwJ8si"
      },
      "outputs": [],
      "source": []
    },
    {
      "cell_type": "markdown",
      "metadata": {
        "id": "tP7e_V16J9zV"
      },
      "source": [
        "## 1.3 Инициализация объекта свёрточной нейронной сети\n",
        "\n",
        "Создайте нейронную сеть с 2-4 свёрточными слоями. В остальном конфигурация сети может быть произвольной. "
      ]
    },
    {
      "cell_type": "code",
      "execution_count": 8,
      "metadata": {},
      "outputs": [],
      "source": [
        "class EmptyLayer(nn.Module):\n",
        "    def __init__(self):\n",
        "        super().__init__()\n",
        "        \n",
        "    def forward(self, x):\n",
        "        return x"
      ]
    },
    {
      "cell_type": "code",
      "execution_count": 9,
      "metadata": {
        "id": "YcsgF13xhcEa",
        "notebookRunGroups": {
          "groupValue": "1"
        }
      },
      "outputs": [],
      "source": [
        "class CNN(nn.Module):\n",
        "\tdef __init__(self, regularization:dict = None):\n",
        "\t\tsuper(CNN, self).__init__()\n",
        "\t\tself.conv1 = nn.Sequential(\n",
        "\t\t\tnn.Conv2d(\n",
        "\t\t\t\tin_channels = 1, \n",
        "\t\t\t\tout_channels = 32, \n",
        "\t\t\t\tkernel_size = 3,\n",
        "\t\t\t\tstride = 1,\n",
        "\t\t\t\tpadding = 1\n",
        "\t\t\t),\n",
        "\t\t\tnn.ReLU(),\n",
        "\t\t\tEmptyLayer() if not regularization else nn.BatchNorm2d(\n",
        "\t\t\t\t32, \n",
        "\t\t\t\teps = regularization['eps'], \n",
        "\t\t\t\tmomentum = regularization['momentum']\n",
        "\t\t\t),\n",
        "\t\t\tnn.MaxPool2d(\n",
        "\t\t\t\tkernel_size = 2,\n",
        "\t\t\t\tstride = 2\n",
        "\t\t\t),\n",
        "\t\t)\n",
        "\t\tself.conv2 = nn.Sequential(\n",
        "\t\t\tnn.Conv2d(\n",
        "\t\t\t\tin_channels = 32, \n",
        "\t\t\t\tout_channels = 64, \n",
        "\t\t\t\tkernel_size = 3,\n",
        "\t\t\t\tstride = 1,\n",
        "\t\t\t\tpadding = 1\n",
        "\t\t\t),\n",
        "\t\t\tnn.ReLU(),\n",
        "\t\t\tEmptyLayer() if not regularization else nn.BatchNorm2d(\n",
        "\t\t\t\t64, \n",
        "\t\t\t\teps = regularization['eps'], \n",
        "\t\t\t\tmomentum = regularization['momentum']\n",
        "\t\t\t),\n",
        "\t\t\tnn.MaxPool2d(\n",
        "\t\t\t\tkernel_size = 2,\n",
        "\t\t\t\tstride = 2\n",
        "\t\t\t),\n",
        "\t\t)\n",
        "\t\tself.conv3 = nn.Sequential(\n",
        "\t\t\tnn.Conv2d(\n",
        "\t\t\t\tin_channels = 64, \n",
        "\t\t\t\tout_channels = 128, \n",
        "\t\t\t\tkernel_size = 3,\n",
        "\t\t\t\tstride = 1,\n",
        "\t\t\t\tpadding = 1\n",
        "\t\t\t),\n",
        "\t\t\tnn.ReLU(),\n",
        "\t\t\tnn.Conv2d(\n",
        "\t\t\t\tin_channels = 128, \n",
        "\t\t\t\tout_channels = 256, \n",
        "\t\t\t\tkernel_size = 3,\n",
        "\t\t\t\tstride = 1,\n",
        "\t\t\t\tpadding = 1\n",
        "\t\t\t),\n",
        "\t\t\tnn.ReLU(),\n",
        "\t\t\tEmptyLayer() if not regularization else nn.BatchNorm2d(\n",
        "\t\t\t\t256, \n",
        "\t\t\t\teps = regularization['eps'], \n",
        "\t\t\t\tmomentum = regularization['momentum']\n",
        "\t\t\t),\n",
        "\t\t\tnn.MaxPool2d(\n",
        "\t\t\t\tkernel_size = 2,\n",
        "\t\t\t\tstride = 2\n",
        "\t\t\t),\n",
        "\t\t)\n",
        "\t\tself.out = nn.Sequential(\n",
        "\t\t\tnn.Linear(256 * 4 * 4, 1024),\n",
        "\t\t\tnn.ReLU(),\n",
        "\t\t\tEmptyLayer() if not regularization else nn.Dropout(p = regularization['p']),\n",
        "\t\t\tnn.Linear(1024, 512),\n",
        "\t\t\tnn.ReLU(),\n",
        "\t\t\tEmptyLayer() if not regularization else nn.Dropout(p = regularization['p']),\n",
        "\t\t\tnn.Linear(512, 27),\n",
        "\t\t)\n",
        "\t\t\t\n",
        "\tdef forward(self, x):\n",
        "\t\tx = self.conv1(x)\n",
        "\t\tx = self.conv2(x)\n",
        "\t\tx = self.conv3(x)\n",
        "\t\t# flatten the output of conv2 to (batch_size, 32 * 7 * 7)\n",
        "\t\tx = x.view(x.size(0), -1)       \n",
        "\t\toutput = self.out(x)\n",
        "\t\treturn output, x    # return x for visualization\t\t\n",
        "\t\t\n"
      ]
    },
    {
      "cell_type": "code",
      "execution_count": 11,
      "metadata": {
        "notebookRunGroups": {
          "groupValue": "1"
        }
      },
      "outputs": [
        {
          "name": "stdout",
          "output_type": "stream",
          "text": [
            "==========================================================================================\n",
            "Layer (type:depth-idx)                   Output Shape              Param #\n",
            "==========================================================================================\n",
            "├─Sequential: 1-1                        [-1, 32, 16, 16]          --\n",
            "|    └─Conv2d: 2-1                       [-1, 32, 32, 32]          320\n",
            "|    └─ReLU: 2-2                         [-1, 32, 32, 32]          --\n",
            "|    └─EmptyLayer: 2-3                   [-1, 32, 32, 32]          --\n",
            "|    └─MaxPool2d: 2-4                    [-1, 32, 16, 16]          --\n",
            "├─Sequential: 1-2                        [-1, 64, 8, 8]            --\n",
            "|    └─Conv2d: 2-5                       [-1, 64, 16, 16]          18,496\n",
            "|    └─ReLU: 2-6                         [-1, 64, 16, 16]          --\n",
            "|    └─EmptyLayer: 2-7                   [-1, 64, 16, 16]          --\n",
            "|    └─MaxPool2d: 2-8                    [-1, 64, 8, 8]            --\n",
            "├─Sequential: 1-3                        [-1, 256, 4, 4]           --\n",
            "|    └─Conv2d: 2-9                       [-1, 128, 8, 8]           73,856\n",
            "|    └─ReLU: 2-10                        [-1, 128, 8, 8]           --\n",
            "|    └─Conv2d: 2-11                      [-1, 256, 8, 8]           295,168\n",
            "|    └─ReLU: 2-12                        [-1, 256, 8, 8]           --\n",
            "|    └─EmptyLayer: 2-13                  [-1, 256, 8, 8]           --\n",
            "|    └─MaxPool2d: 2-14                   [-1, 256, 4, 4]           --\n",
            "├─Sequential: 1-4                        [-1, 27]                  --\n",
            "|    └─Linear: 2-15                      [-1, 1024]                4,195,328\n",
            "|    └─ReLU: 2-16                        [-1, 1024]                --\n",
            "|    └─EmptyLayer: 2-17                  [-1, 1024]                --\n",
            "|    └─Linear: 2-18                      [-1, 512]                 524,800\n",
            "|    └─ReLU: 2-19                        [-1, 512]                 --\n",
            "|    └─EmptyLayer: 2-20                  [-1, 512]                 --\n",
            "|    └─Linear: 2-21                      [-1, 27]                  13,851\n",
            "==========================================================================================\n",
            "Total params: 5,121,819\n",
            "Trainable params: 5,121,819\n",
            "Non-trainable params: 0\n",
            "Total mult-adds (M): 38.46\n",
            "==========================================================================================\n",
            "Input size (MB): 0.00\n",
            "Forward/backward pass size (MB): 0.57\n",
            "Params size (MB): 19.54\n",
            "Estimated Total Size (MB): 20.12\n",
            "==========================================================================================\n"
          ]
        },
        {
          "data": {
            "text/plain": [
              "==========================================================================================\n",
              "Layer (type:depth-idx)                   Output Shape              Param #\n",
              "==========================================================================================\n",
              "├─Sequential: 1-1                        [-1, 32, 16, 16]          --\n",
              "|    └─Conv2d: 2-1                       [-1, 32, 32, 32]          320\n",
              "|    └─ReLU: 2-2                         [-1, 32, 32, 32]          --\n",
              "|    └─EmptyLayer: 2-3                   [-1, 32, 32, 32]          --\n",
              "|    └─MaxPool2d: 2-4                    [-1, 32, 16, 16]          --\n",
              "├─Sequential: 1-2                        [-1, 64, 8, 8]            --\n",
              "|    └─Conv2d: 2-5                       [-1, 64, 16, 16]          18,496\n",
              "|    └─ReLU: 2-6                         [-1, 64, 16, 16]          --\n",
              "|    └─EmptyLayer: 2-7                   [-1, 64, 16, 16]          --\n",
              "|    └─MaxPool2d: 2-8                    [-1, 64, 8, 8]            --\n",
              "├─Sequential: 1-3                        [-1, 256, 4, 4]           --\n",
              "|    └─Conv2d: 2-9                       [-1, 128, 8, 8]           73,856\n",
              "|    └─ReLU: 2-10                        [-1, 128, 8, 8]           --\n",
              "|    └─Conv2d: 2-11                      [-1, 256, 8, 8]           295,168\n",
              "|    └─ReLU: 2-12                        [-1, 256, 8, 8]           --\n",
              "|    └─EmptyLayer: 2-13                  [-1, 256, 8, 8]           --\n",
              "|    └─MaxPool2d: 2-14                   [-1, 256, 4, 4]           --\n",
              "├─Sequential: 1-4                        [-1, 27]                  --\n",
              "|    └─Linear: 2-15                      [-1, 1024]                4,195,328\n",
              "|    └─ReLU: 2-16                        [-1, 1024]                --\n",
              "|    └─EmptyLayer: 2-17                  [-1, 1024]                --\n",
              "|    └─Linear: 2-18                      [-1, 512]                 524,800\n",
              "|    └─ReLU: 2-19                        [-1, 512]                 --\n",
              "|    └─EmptyLayer: 2-20                  [-1, 512]                 --\n",
              "|    └─Linear: 2-21                      [-1, 27]                  13,851\n",
              "==========================================================================================\n",
              "Total params: 5,121,819\n",
              "Trainable params: 5,121,819\n",
              "Non-trainable params: 0\n",
              "Total mult-adds (M): 38.46\n",
              "==========================================================================================\n",
              "Input size (MB): 0.00\n",
              "Forward/backward pass size (MB): 0.57\n",
              "Params size (MB): 19.54\n",
              "Estimated Total Size (MB): 20.12\n",
              "=========================================================================================="
            ]
          },
          "execution_count": 11,
          "metadata": {},
          "output_type": "execute_result"
        }
      ],
      "source": [
        "device = torch.device(\"cuda:0\" if torch.cuda.is_available() else \"cpu\")\n",
        "cnn = CNN()\n",
        "cnn.to(device)\n",
        "summary(cnn, (1, 32, 32))"
      ]
    },
    {
      "cell_type": "markdown",
      "metadata": {
        "id": "fH3m86cZKMDU"
      },
      "source": [
        "## 1.4 Обучение свёрточной нейронной сети для решения задачи классификации"
      ]
    },
    {
      "cell_type": "code",
      "execution_count": 12,
      "metadata": {
        "id": "qW6LwnnQKQ04",
        "notebookRunGroups": {
          "groupValue": "1"
        }
      },
      "outputs": [],
      "source": [
        "loss_func = nn.CrossEntropyLoss()\n",
        "#optimizer = optim.SGD(cnn.parameters(), lr=0.001, momentum=0.9)\n",
        "# optimizer = optim.Adam(cnn.parameters(), lr=0.0001)"
      ]
    },
    {
      "cell_type": "code",
      "execution_count": 20,
      "metadata": {
        "notebookRunGroups": {
          "groupValue": "1"
        }
      },
      "outputs": [],
      "source": [
        "def train( \tmodel: nn.Module,\n",
        "\t\t\tdataset:torch.utils.data.DataLoader,\n",
        "\t\t\toptimizer:optim.Optimizer,\n",
        "\t\t\tlossFunc:nn.Module = nn.CrossEntropyLoss(),\n",
        "\t\t\ttransformation:K.AugmentationSequential = None):\n",
        "\t# switch model to train state\n",
        "\tmodel.train()\n",
        "\t# local variables\n",
        "\t__running_loss = 0\n",
        "\t__correct_pred = 0\n",
        "\t__total_pred = 0\n",
        "\t# loop on all batches in dataset\n",
        "\tfor data in tqdm(dataset, desc = 'batch', leave = False):\n",
        "\t\tinputs, labels = data[0].to(device), data[1].to(device)\n",
        "\t\tif transformation is not None:\n",
        "\t\t\tinputs = transformation(inputs)\n",
        "\t\t# gives batch data, normalize x when iterate train_loader\n",
        "\t\toutput = model(inputs)[0]         \n",
        "\t\tloss = lossFunc(output, labels)\n",
        "\t\t# clear gradients for this training step   \n",
        "\t\toptimizer.zero_grad()           \n",
        "\t\t# backpropagation, compute gradients \n",
        "\t\tloss.backward()                # apply gradients             \n",
        "\t\toptimizer.step()   \n",
        "\t\t# \n",
        "\t\tpredicted = torch.max(output, 1)[1].data.squeeze()\n",
        "\t\t__running_loss += loss.item()\n",
        "\t\t__total_pred += labels.size(0)\n",
        "\t\t__correct_pred += predicted.eq(labels).sum().item()             \n",
        "\t\tpass\n",
        "\t__train_loss = __running_loss/len(dataset)\n",
        "\t__accuracy = 100.*__correct_pred/__total_pred\n",
        "\treturn __train_loss, __accuracy"
      ]
    },
    {
      "cell_type": "code",
      "execution_count": 19,
      "metadata": {
        "notebookRunGroups": {
          "groupValue": "1"
        }
      },
      "outputs": [],
      "source": [
        "def test(\tmodel: nn.Module,\n",
        "\t\t\tdataset:torch.utils.data.DataLoader,\n",
        "\t\t\tlossFunc:nn.Module = nn.CrossEntropyLoss()):\n",
        "\t# Test the model\n",
        "\tmodel.eval()\n",
        "\t# local variables\n",
        "\t__running_loss = 0\n",
        "\t__correct_pred = 0\n",
        "\t__total_pred = 0\n",
        "\n",
        "\twith torch.no_grad():\n",
        "\t\tcorrect = 0\n",
        "\t\ttotal = 0\n",
        "\t\tfor data in tqdm(dataset, desc = 'batch', leave = False):\n",
        "\t\t\tinputs, labels = data[0].to(device), data[1].to(device)\n",
        "\t\t\toutput = model(inputs)[0]\n",
        "\n",
        "\t\t\tloss = lossFunc(output,labels)\n",
        "\t\t\t__running_loss+=loss.item()\n",
        "\t\t\t\n",
        "\t\t\tpredicted = torch.max(output, 1)[1].data.squeeze()\n",
        "\t\t\t__total_pred += labels.size(0)\t\n",
        "\t\t\t__correct_pred += predicted.eq(labels).sum().item()\n",
        "\t\t\tpass\n",
        "\tpass\n",
        "\t__test_loss = __running_loss/len(dataset)\n",
        "\t__accuracy = 100.*__correct_pred/__total_pred\n",
        "\treturn __test_loss, __accuracy"
      ]
    },
    {
      "cell_type": "code",
      "execution_count": 21,
      "metadata": {
        "notebookRunGroups": {
          "groupValue": "1"
        }
      },
      "outputs": [],
      "source": [
        "def trainF(\tmodel: nn.Module,\n",
        "\t\t\tdataset:torch.utils.data.DataLoader,\n",
        "\t\t\tdumpName: str, \n",
        "\t\t\toptimizer:optim.Optimizer,\n",
        "\t\t\tlossFunc:nn.Module = nn.CrossEntropyLoss(),\n",
        "\t\t\tmaxEpochs: int = 100,\n",
        "\t\t\ttransformation:K.AugmentationSequential = None,\n",
        "\t\t\tloadAndTrain: bool = False):\n",
        "\t# load previous state\n",
        "\tif loadAndTrain and exists(f'./model/{dumpName}.dump'):\n",
        "\t\tmodel.load_state_dict(torch.load(f'./model/{dumpName}.dump'))\n",
        "\t# train the model\n",
        "\t__trainLoss = []\n",
        "\t__trainAccuracy = []\n",
        "\t# loop on epochs\n",
        "\tprint (\"{:^13} {:^10} {:^10}\".format('Epoch', 'Loss', 'Accuracy'))\t\n",
        "\tfor epoch in range(maxEpochs):\n",
        "\t\t__loss, __accur = train(\n",
        "\t\t\tmodel = model, \n",
        "\t\t\tdataset = dataset,\n",
        "\t\t\toptimizer = optimizer,\n",
        "\t\t\tlossFunc = lossFunc,\n",
        "\t\t\ttransformation = transformation\n",
        "\t\t)\n",
        "\t\t__trainLoss.append(__loss)\n",
        "\t\t__trainAccuracy.append(__accur)\n",
        "\t\tprint ('[{:>5}/{:<5}] {:^10.4f} {:^10.4f}'.format(epoch + 1, maxEpochs, __loss, __accur))\n",
        "\tpass\n",
        "\ttorch.save(model.state_dict(), f'./model/{dumpName}.dump')\n",
        "\treturn __lossHistory, __accurHistory\n",
        "\t"
      ]
    },
    {
      "cell_type": "code",
      "execution_count": 22,
      "metadata": {
        "notebookRunGroups": {
          "groupValue": "1"
        }
      },
      "outputs": [],
      "source": [
        "def trainNtest(\tmodel: nn.Module,\n",
        "\t\t\t\tdatasets: [torch.utils.data.DataLoader, torch.utils.data.DataLoader],\n",
        "\t\t\t\tdumpName: str, \n",
        "\t\t\t\toptimizer:optim.Optimizer,\n",
        "\t\t\t\tlossFunc:nn.Module = nn.CrossEntropyLoss(),\n",
        "\t\t\t\tmaxEpochs: int = 100,\n",
        "\t\t\t\ttransformation:K.AugmentationSequential = None,\n",
        "\t\t\t\tloadNtrain: bool = False):\n",
        "\t# load previous state\n",
        "\tif loadNtrain and exists(f'./model/{dumpName}.dump'):\n",
        "\t\tmodel.load_state_dict(torch.load(f'./model/{dumpName}.dump'))\n",
        "\t# local variables\n",
        "\t__trainLoss = []\n",
        "\t__trainAccuracy = []\n",
        "\t__testLoss = []\n",
        "\t__testAccuracy = []\n",
        "\t# loop on epochs\n",
        "\tprint (\"{:^13} {:^10} {:^10}\".format('Epoch', 'Loss', 'Accuracy'), end='')\n",
        "\tfor epoch in range(maxEpochs):\n",
        "\t\t# train model \n",
        "\t\t__loss, __accur = train(\n",
        "\t\t\tmodel = model, \n",
        "\t\t\tdataset = datasets[0],\n",
        "\t\t\toptimizer = optimizer,\n",
        "\t\t\tlossFunc = lossFunc,\n",
        "\t\t\ttransformation = transformation\n",
        "\t\t)\n",
        "\t\t__trainLoss.append(__loss)\n",
        "\t\t__trainAccuracy.append(__accur)\n",
        "\t\tprint ('[{:>5}/{:<5}] {:^10.4f} {:^10.4f}'.format(epoch + 1, maxEpochs, __loss, __accur))\n",
        "\t\t# test model \n",
        "\t\t__loss, __accur = test(\n",
        "\t\t\tmodel = model, \n",
        "\t\t\tdataset = datasets[1],\n",
        "\t\t\tlossFunc = lossFunc\n",
        "\t\t)\n",
        "\t\t__testLoss.append(__loss)\n",
        "\t\t__testAccuracy.append(__accur)\n",
        "\tpass\n",
        "\ttorch.save(model.state_dict(), f'./model/{dumpName}.dump')\n",
        "\treturn __trainLoss, __trainAccuracy, __testLoss, __testAccuracy\n"
      ]
    },
    {
      "cell_type": "code",
      "execution_count": 14,
      "metadata": {
        "notebookRunGroups": {
          "groupValue": ""
        }
      },
      "outputs": [
        {
          "name": "stdout",
          "output_type": "stream",
          "text": [
            "    Epoch        Loss     Accuracy "
          ]
        },
        {
          "name": "stderr",
          "output_type": "stream",
          "text": [
            "                                                           \r"
          ]
        },
        {
          "name": "stdout",
          "output_type": "stream",
          "text": [
            "[    1/100  ]   1.7599    47.2252  \n"
          ]
        },
        {
          "name": "stderr",
          "output_type": "stream",
          "text": [
            "                                                           \r"
          ]
        },
        {
          "name": "stdout",
          "output_type": "stream",
          "text": [
            "[    2/100  ]   0.3392    88.7043  \n"
          ]
        },
        {
          "name": "stderr",
          "output_type": "stream",
          "text": [
            "                                                           \r"
          ]
        },
        {
          "name": "stdout",
          "output_type": "stream",
          "text": [
            "[    3/100  ]   0.2463    91.6178  \n"
          ]
        },
        {
          "name": "stderr",
          "output_type": "stream",
          "text": [
            "                                                           \r"
          ]
        },
        {
          "name": "stdout",
          "output_type": "stream",
          "text": [
            "[    4/100  ]   0.2049    92.8397  \n"
          ]
        },
        {
          "name": "stderr",
          "output_type": "stream",
          "text": [
            "                                                           \r"
          ]
        },
        {
          "name": "stdout",
          "output_type": "stream",
          "text": [
            "[    5/100  ]   0.1806    93.5697  \n"
          ]
        },
        {
          "name": "stderr",
          "output_type": "stream",
          "text": [
            "                                                           \r"
          ]
        },
        {
          "name": "stdout",
          "output_type": "stream",
          "text": [
            "[    6/100  ]   0.1602    94.2300  \n"
          ]
        },
        {
          "name": "stderr",
          "output_type": "stream",
          "text": [
            "                                                           \r"
          ]
        },
        {
          "name": "stdout",
          "output_type": "stream",
          "text": [
            "[    7/100  ]   0.1439    94.8109  \n"
          ]
        },
        {
          "name": "stderr",
          "output_type": "stream",
          "text": [
            "                                                           \r"
          ]
        },
        {
          "name": "stdout",
          "output_type": "stream",
          "text": [
            "[    8/100  ]   0.1309    95.1050  \n"
          ]
        },
        {
          "name": "stderr",
          "output_type": "stream",
          "text": [
            "                                                           \r"
          ]
        },
        {
          "name": "stdout",
          "output_type": "stream",
          "text": [
            "[    9/100  ]   0.1198    95.5184  \n"
          ]
        },
        {
          "name": "stderr",
          "output_type": "stream",
          "text": [
            "                                                           \r"
          ]
        },
        {
          "name": "stdout",
          "output_type": "stream",
          "text": [
            "[   10/100  ]   0.1085    95.8542  \n"
          ]
        },
        {
          "name": "stderr",
          "output_type": "stream",
          "text": [
            "                                                           \r"
          ]
        },
        {
          "name": "stdout",
          "output_type": "stream",
          "text": [
            "[   11/100  ]   0.0992    96.1458  \n"
          ]
        },
        {
          "name": "stderr",
          "output_type": "stream",
          "text": [
            "                                                           \r"
          ]
        },
        {
          "name": "stdout",
          "output_type": "stream",
          "text": [
            "[   12/100  ]   0.0917    96.3389  \n"
          ]
        },
        {
          "name": "stderr",
          "output_type": "stream",
          "text": [
            "                                                           \r"
          ]
        },
        {
          "name": "stdout",
          "output_type": "stream",
          "text": [
            "[   13/100  ]   0.0841    96.6186  \n"
          ]
        },
        {
          "name": "stderr",
          "output_type": "stream",
          "text": [
            "                                                           \r"
          ]
        },
        {
          "name": "stdout",
          "output_type": "stream",
          "text": [
            "[   14/100  ]   0.0782    96.8005  \n"
          ]
        },
        {
          "name": "stderr",
          "output_type": "stream",
          "text": [
            "                                                           \r"
          ]
        },
        {
          "name": "stdout",
          "output_type": "stream",
          "text": [
            "[   15/100  ]   0.0737    96.9231  \n"
          ]
        },
        {
          "name": "stderr",
          "output_type": "stream",
          "text": [
            "                                                           \r"
          ]
        },
        {
          "name": "stdout",
          "output_type": "stream",
          "text": [
            "[   16/100  ]   0.0691    97.0777  \n"
          ]
        },
        {
          "name": "stderr",
          "output_type": "stream",
          "text": [
            "                                                           \r"
          ]
        },
        {
          "name": "stdout",
          "output_type": "stream",
          "text": [
            "[   17/100  ]   0.0659    97.2123  \n"
          ]
        },
        {
          "name": "stderr",
          "output_type": "stream",
          "text": [
            "                                                           \r"
          ]
        },
        {
          "name": "stdout",
          "output_type": "stream",
          "text": [
            "[   18/100  ]   0.0618    97.3486  \n"
          ]
        },
        {
          "name": "stderr",
          "output_type": "stream",
          "text": [
            "                                                           \r"
          ]
        },
        {
          "name": "stdout",
          "output_type": "stream",
          "text": [
            "[   19/100  ]   0.0576    97.5024  \n"
          ]
        },
        {
          "name": "stderr",
          "output_type": "stream",
          "text": [
            "                                                           \r"
          ]
        },
        {
          "name": "stdout",
          "output_type": "stream",
          "text": [
            "[   20/100  ]   0.0550    97.5721  \n"
          ]
        },
        {
          "name": "stderr",
          "output_type": "stream",
          "text": [
            "                                                           \r"
          ]
        },
        {
          "name": "stdout",
          "output_type": "stream",
          "text": [
            "[   21/100  ]   0.0554    97.6050  \n"
          ]
        },
        {
          "name": "stderr",
          "output_type": "stream",
          "text": [
            "                                                           \r"
          ]
        },
        {
          "name": "stdout",
          "output_type": "stream",
          "text": [
            "[   22/100  ]   0.0545    97.6426  \n"
          ]
        },
        {
          "name": "stderr",
          "output_type": "stream",
          "text": [
            "                                                           \r"
          ]
        },
        {
          "name": "stdout",
          "output_type": "stream",
          "text": [
            "[   23/100  ]   0.0486    97.8654  \n"
          ]
        },
        {
          "name": "stderr",
          "output_type": "stream",
          "text": [
            "                                                           \r"
          ]
        },
        {
          "name": "stdout",
          "output_type": "stream",
          "text": [
            "[   24/100  ]   0.0476    97.9303  \n"
          ]
        },
        {
          "name": "stderr",
          "output_type": "stream",
          "text": [
            "                                                           \r"
          ]
        },
        {
          "name": "stdout",
          "output_type": "stream",
          "text": [
            "[   25/100  ]   0.0501    97.8341  \n"
          ]
        },
        {
          "name": "stderr",
          "output_type": "stream",
          "text": [
            "                                                           \r"
          ]
        },
        {
          "name": "stdout",
          "output_type": "stream",
          "text": [
            "[   26/100  ]   0.0473    97.9071  \n"
          ]
        },
        {
          "name": "stderr",
          "output_type": "stream",
          "text": [
            "                                                           \r"
          ]
        },
        {
          "name": "stdout",
          "output_type": "stream",
          "text": [
            "[   27/100  ]   0.0421    98.0954  \n"
          ]
        },
        {
          "name": "stderr",
          "output_type": "stream",
          "text": [
            "                                                           \r"
          ]
        },
        {
          "name": "stdout",
          "output_type": "stream",
          "text": [
            "[   28/100  ]   0.0440    98.0865  \n"
          ]
        },
        {
          "name": "stderr",
          "output_type": "stream",
          "text": [
            "                                                           \r"
          ]
        },
        {
          "name": "stdout",
          "output_type": "stream",
          "text": [
            "[   29/100  ]   0.0448    98.0481  \n"
          ]
        },
        {
          "name": "stderr",
          "output_type": "stream",
          "text": [
            "                                                           \r"
          ]
        },
        {
          "name": "stdout",
          "output_type": "stream",
          "text": [
            "[   30/100  ]   0.0442    98.0561  \n"
          ]
        },
        {
          "name": "stderr",
          "output_type": "stream",
          "text": [
            "                                                           \r"
          ]
        },
        {
          "name": "stdout",
          "output_type": "stream",
          "text": [
            "[   31/100  ]   0.0405    98.2155  \n"
          ]
        },
        {
          "name": "stderr",
          "output_type": "stream",
          "text": [
            "                                                           \r"
          ]
        },
        {
          "name": "stdout",
          "output_type": "stream",
          "text": [
            "[   32/100  ]   0.0397    98.2332  \n"
          ]
        },
        {
          "name": "stderr",
          "output_type": "stream",
          "text": [
            "                                                           \r"
          ]
        },
        {
          "name": "stdout",
          "output_type": "stream",
          "text": [
            "[   33/100  ]   0.0385    98.2845  \n"
          ]
        },
        {
          "name": "stderr",
          "output_type": "stream",
          "text": [
            "                                                           \r"
          ]
        },
        {
          "name": "stdout",
          "output_type": "stream",
          "text": [
            "[   34/100  ]   0.0385    98.3381  \n"
          ]
        },
        {
          "name": "stderr",
          "output_type": "stream",
          "text": [
            "                                                           \r"
          ]
        },
        {
          "name": "stdout",
          "output_type": "stream",
          "text": [
            "[   35/100  ]   0.0362    98.4030  \n"
          ]
        },
        {
          "name": "stderr",
          "output_type": "stream",
          "text": [
            "                                                           \r"
          ]
        },
        {
          "name": "stdout",
          "output_type": "stream",
          "text": [
            "[   36/100  ]   0.0305    98.6186  \n"
          ]
        },
        {
          "name": "stderr",
          "output_type": "stream",
          "text": [
            "                                                           \r"
          ]
        },
        {
          "name": "stdout",
          "output_type": "stream",
          "text": [
            "[   37/100  ]   0.0283    98.6595  \n"
          ]
        },
        {
          "name": "stderr",
          "output_type": "stream",
          "text": [
            "                                                           \r"
          ]
        },
        {
          "name": "stdout",
          "output_type": "stream",
          "text": [
            "[   38/100  ]   0.0395    98.3229  \n"
          ]
        },
        {
          "name": "stderr",
          "output_type": "stream",
          "text": [
            "                                                           \r"
          ]
        },
        {
          "name": "stdout",
          "output_type": "stream",
          "text": [
            "[   39/100  ]   0.0338    98.4984  \n"
          ]
        },
        {
          "name": "stderr",
          "output_type": "stream",
          "text": [
            "                                                           \r"
          ]
        },
        {
          "name": "stdout",
          "output_type": "stream",
          "text": [
            "[   40/100  ]   0.0320    98.5938  \n"
          ]
        },
        {
          "name": "stderr",
          "output_type": "stream",
          "text": [
            "                                                           \r"
          ]
        },
        {
          "name": "stdout",
          "output_type": "stream",
          "text": [
            "[   41/100  ]   0.0344    98.5280  \n"
          ]
        },
        {
          "name": "stderr",
          "output_type": "stream",
          "text": [
            "                                                           \r"
          ]
        },
        {
          "name": "stdout",
          "output_type": "stream",
          "text": [
            "[   42/100  ]   0.0302    98.6827  \n"
          ]
        },
        {
          "name": "stderr",
          "output_type": "stream",
          "text": [
            "                                                           \r"
          ]
        },
        {
          "name": "stdout",
          "output_type": "stream",
          "text": [
            "[   43/100  ]   0.0278    98.7716  \n"
          ]
        },
        {
          "name": "stderr",
          "output_type": "stream",
          "text": [
            "                                                           \r"
          ]
        },
        {
          "name": "stdout",
          "output_type": "stream",
          "text": [
            "[   44/100  ]   0.0283    98.7644  \n"
          ]
        },
        {
          "name": "stderr",
          "output_type": "stream",
          "text": [
            "                                                           \r"
          ]
        },
        {
          "name": "stdout",
          "output_type": "stream",
          "text": [
            "[   45/100  ]   0.0330    98.5905  \n"
          ]
        },
        {
          "name": "stderr",
          "output_type": "stream",
          "text": [
            "                                                           \r"
          ]
        },
        {
          "name": "stdout",
          "output_type": "stream",
          "text": [
            "[   46/100  ]   0.0306    98.7011  \n"
          ]
        },
        {
          "name": "stderr",
          "output_type": "stream",
          "text": [
            "                                                           \r"
          ]
        },
        {
          "name": "stdout",
          "output_type": "stream",
          "text": [
            "[   47/100  ]   0.0315    98.6795  \n"
          ]
        },
        {
          "name": "stderr",
          "output_type": "stream",
          "text": [
            "                                                           \r"
          ]
        },
        {
          "name": "stdout",
          "output_type": "stream",
          "text": [
            "[   48/100  ]   0.0301    98.7284  \n"
          ]
        },
        {
          "name": "stderr",
          "output_type": "stream",
          "text": [
            "                                                           \r"
          ]
        },
        {
          "name": "stdout",
          "output_type": "stream",
          "text": [
            "[   49/100  ]   0.0240    98.9471  \n"
          ]
        },
        {
          "name": "stderr",
          "output_type": "stream",
          "text": [
            "                                                           \r"
          ]
        },
        {
          "name": "stdout",
          "output_type": "stream",
          "text": [
            "[   50/100  ]   0.0227    99.0272  \n"
          ]
        },
        {
          "name": "stderr",
          "output_type": "stream",
          "text": [
            "                                                           \r"
          ]
        },
        {
          "name": "stdout",
          "output_type": "stream",
          "text": [
            "[   51/100  ]   0.0208    99.0817  \n"
          ]
        },
        {
          "name": "stderr",
          "output_type": "stream",
          "text": [
            "                                                           \r"
          ]
        },
        {
          "name": "stdout",
          "output_type": "stream",
          "text": [
            "[   52/100  ]   0.0221    99.0521  \n"
          ]
        },
        {
          "name": "stderr",
          "output_type": "stream",
          "text": [
            "                                                           \r"
          ]
        },
        {
          "name": "stdout",
          "output_type": "stream",
          "text": [
            "[   53/100  ]   0.0250    98.9631  \n"
          ]
        },
        {
          "name": "stderr",
          "output_type": "stream",
          "text": [
            "                                                           \r"
          ]
        },
        {
          "name": "stdout",
          "output_type": "stream",
          "text": [
            "[   54/100  ]   0.0229    99.0577  \n"
          ]
        },
        {
          "name": "stderr",
          "output_type": "stream",
          "text": [
            "                                                           \r"
          ]
        },
        {
          "name": "stdout",
          "output_type": "stream",
          "text": [
            "[   55/100  ]   0.0214    99.0954  \n"
          ]
        },
        {
          "name": "stderr",
          "output_type": "stream",
          "text": [
            "                                                           \r"
          ]
        },
        {
          "name": "stdout",
          "output_type": "stream",
          "text": [
            "[   56/100  ]   0.0201    99.1667  \n"
          ]
        },
        {
          "name": "stderr",
          "output_type": "stream",
          "text": [
            "                                                           \r"
          ]
        },
        {
          "name": "stdout",
          "output_type": "stream",
          "text": [
            "[   57/100  ]   0.0191    99.1939  \n"
          ]
        },
        {
          "name": "stderr",
          "output_type": "stream",
          "text": [
            "                                                           \r"
          ]
        },
        {
          "name": "stdout",
          "output_type": "stream",
          "text": [
            "[   58/100  ]   0.0204    99.1627  \n"
          ]
        },
        {
          "name": "stderr",
          "output_type": "stream",
          "text": [
            "                                                           \r"
          ]
        },
        {
          "name": "stdout",
          "output_type": "stream",
          "text": [
            "[   59/100  ]   0.0209    99.1843  \n"
          ]
        },
        {
          "name": "stderr",
          "output_type": "stream",
          "text": [
            "                                                           \r"
          ]
        },
        {
          "name": "stdout",
          "output_type": "stream",
          "text": [
            "[   60/100  ]   0.0269    98.9519  \n"
          ]
        },
        {
          "name": "stderr",
          "output_type": "stream",
          "text": [
            "                                                           \r"
          ]
        },
        {
          "name": "stdout",
          "output_type": "stream",
          "text": [
            "[   61/100  ]   0.0276    98.9391  \n"
          ]
        },
        {
          "name": "stderr",
          "output_type": "stream",
          "text": [
            "                                                           \r"
          ]
        },
        {
          "name": "stdout",
          "output_type": "stream",
          "text": [
            "[   62/100  ]   0.0245    99.0321  \n"
          ]
        },
        {
          "name": "stderr",
          "output_type": "stream",
          "text": [
            "                                                           \r"
          ]
        },
        {
          "name": "stdout",
          "output_type": "stream",
          "text": [
            "[   63/100  ]   0.0199    99.2212  \n"
          ]
        },
        {
          "name": "stderr",
          "output_type": "stream",
          "text": [
            "                                                           \r"
          ]
        },
        {
          "name": "stdout",
          "output_type": "stream",
          "text": [
            "[   64/100  ]   0.0159    99.3862  \n"
          ]
        },
        {
          "name": "stderr",
          "output_type": "stream",
          "text": [
            "                                                           \r"
          ]
        },
        {
          "name": "stdout",
          "output_type": "stream",
          "text": [
            "[   65/100  ]   0.0149    99.4135  \n"
          ]
        },
        {
          "name": "stderr",
          "output_type": "stream",
          "text": [
            "                                                           \r"
          ]
        },
        {
          "name": "stdout",
          "output_type": "stream",
          "text": [
            "[   66/100  ]   0.0117    99.5152  \n"
          ]
        },
        {
          "name": "stderr",
          "output_type": "stream",
          "text": [
            "                                                           \r"
          ]
        },
        {
          "name": "stdout",
          "output_type": "stream",
          "text": [
            "[   67/100  ]   0.0105    99.5585  \n"
          ]
        },
        {
          "name": "stderr",
          "output_type": "stream",
          "text": [
            "                                                           \r"
          ]
        },
        {
          "name": "stdout",
          "output_type": "stream",
          "text": [
            "[   68/100  ]   0.0121    99.5521  \n"
          ]
        },
        {
          "name": "stderr",
          "output_type": "stream",
          "text": [
            "                                                           \r"
          ]
        },
        {
          "name": "stdout",
          "output_type": "stream",
          "text": [
            "[   69/100  ]   0.0194    99.2724  \n"
          ]
        },
        {
          "name": "stderr",
          "output_type": "stream",
          "text": [
            "                                                           \r"
          ]
        },
        {
          "name": "stdout",
          "output_type": "stream",
          "text": [
            "[   70/100  ]   0.0193    99.2925  \n"
          ]
        },
        {
          "name": "stderr",
          "output_type": "stream",
          "text": [
            "                                                           \r"
          ]
        },
        {
          "name": "stdout",
          "output_type": "stream",
          "text": [
            "[   71/100  ]   0.0206    99.2324  \n"
          ]
        },
        {
          "name": "stderr",
          "output_type": "stream",
          "text": [
            "                                                           \r"
          ]
        },
        {
          "name": "stdout",
          "output_type": "stream",
          "text": [
            "[   72/100  ]   0.0208    99.2420  \n"
          ]
        },
        {
          "name": "stderr",
          "output_type": "stream",
          "text": [
            "                                                           \r"
          ]
        },
        {
          "name": "stdout",
          "output_type": "stream",
          "text": [
            "[   73/100  ]   0.0174    99.4046  \n"
          ]
        },
        {
          "name": "stderr",
          "output_type": "stream",
          "text": [
            "                                                           \r"
          ]
        },
        {
          "name": "stdout",
          "output_type": "stream",
          "text": [
            "[   74/100  ]   0.0129    99.5192  \n"
          ]
        },
        {
          "name": "stderr",
          "output_type": "stream",
          "text": [
            "                                                           \r"
          ]
        },
        {
          "name": "stdout",
          "output_type": "stream",
          "text": [
            "[   75/100  ]   0.0153    99.4567  \n"
          ]
        },
        {
          "name": "stderr",
          "output_type": "stream",
          "text": [
            "                                                           \r"
          ]
        },
        {
          "name": "stdout",
          "output_type": "stream",
          "text": [
            "[   76/100  ]   0.0145    99.4696  \n"
          ]
        },
        {
          "name": "stderr",
          "output_type": "stream",
          "text": [
            "                                                           \r"
          ]
        },
        {
          "name": "stdout",
          "output_type": "stream",
          "text": [
            "[   77/100  ]   0.0205    99.3165  \n"
          ]
        },
        {
          "name": "stderr",
          "output_type": "stream",
          "text": [
            "                                                           \r"
          ]
        },
        {
          "name": "stdout",
          "output_type": "stream",
          "text": [
            "[   78/100  ]   0.0152    99.4856  \n"
          ]
        },
        {
          "name": "stderr",
          "output_type": "stream",
          "text": [
            "                                                           \r"
          ]
        },
        {
          "name": "stdout",
          "output_type": "stream",
          "text": [
            "[   79/100  ]   0.0109    99.6098  \n"
          ]
        },
        {
          "name": "stderr",
          "output_type": "stream",
          "text": [
            "                                                           \r"
          ]
        },
        {
          "name": "stdout",
          "output_type": "stream",
          "text": [
            "[   80/100  ]   0.0100    99.6530  \n"
          ]
        },
        {
          "name": "stderr",
          "output_type": "stream",
          "text": [
            "                                                           \r"
          ]
        },
        {
          "name": "stdout",
          "output_type": "stream",
          "text": [
            "[   81/100  ]   0.0103    99.6506  \n"
          ]
        },
        {
          "name": "stderr",
          "output_type": "stream",
          "text": [
            "                                                           \r"
          ]
        },
        {
          "name": "stdout",
          "output_type": "stream",
          "text": [
            "[   82/100  ]   0.0075    99.7540  \n"
          ]
        },
        {
          "name": "stderr",
          "output_type": "stream",
          "text": [
            "                                                           \r"
          ]
        },
        {
          "name": "stdout",
          "output_type": "stream",
          "text": [
            "[   83/100  ]   0.0083    99.7260  \n"
          ]
        },
        {
          "name": "stderr",
          "output_type": "stream",
          "text": [
            "                                                           \r"
          ]
        },
        {
          "name": "stdout",
          "output_type": "stream",
          "text": [
            "[   84/100  ]   0.0068    99.7548  \n"
          ]
        },
        {
          "name": "stderr",
          "output_type": "stream",
          "text": [
            "                                                           \r"
          ]
        },
        {
          "name": "stdout",
          "output_type": "stream",
          "text": [
            "[   85/100  ]   0.0087    99.6963  \n"
          ]
        },
        {
          "name": "stderr",
          "output_type": "stream",
          "text": [
            "                                                           \r"
          ]
        },
        {
          "name": "stdout",
          "output_type": "stream",
          "text": [
            "[   86/100  ]   0.0079    99.7268  \n"
          ]
        },
        {
          "name": "stderr",
          "output_type": "stream",
          "text": [
            "                                                           \r"
          ]
        },
        {
          "name": "stdout",
          "output_type": "stream",
          "text": [
            "[   87/100  ]   0.0124    99.6050  \n"
          ]
        },
        {
          "name": "stderr",
          "output_type": "stream",
          "text": [
            "                                                           \r"
          ]
        },
        {
          "name": "stdout",
          "output_type": "stream",
          "text": [
            "[   88/100  ]   0.0154    99.5032  \n"
          ]
        },
        {
          "name": "stderr",
          "output_type": "stream",
          "text": [
            "                                                           \r"
          ]
        },
        {
          "name": "stdout",
          "output_type": "stream",
          "text": [
            "[   89/100  ]   0.0112    99.6667  \n"
          ]
        },
        {
          "name": "stderr",
          "output_type": "stream",
          "text": [
            "                                                           \r"
          ]
        },
        {
          "name": "stdout",
          "output_type": "stream",
          "text": [
            "[   90/100  ]   0.0082    99.7412  \n"
          ]
        },
        {
          "name": "stderr",
          "output_type": "stream",
          "text": [
            "                                                           \r"
          ]
        },
        {
          "name": "stdout",
          "output_type": "stream",
          "text": [
            "[   91/100  ]   0.0111    99.6506  \n"
          ]
        },
        {
          "name": "stderr",
          "output_type": "stream",
          "text": [
            "                                                           \r"
          ]
        },
        {
          "name": "stdout",
          "output_type": "stream",
          "text": [
            "[   92/100  ]   0.0118    99.6218  \n"
          ]
        },
        {
          "name": "stderr",
          "output_type": "stream",
          "text": [
            "                                                           \r"
          ]
        },
        {
          "name": "stdout",
          "output_type": "stream",
          "text": [
            "[   93/100  ]   0.0098    99.7308  \n"
          ]
        },
        {
          "name": "stderr",
          "output_type": "stream",
          "text": [
            "                                                           \r"
          ]
        },
        {
          "name": "stdout",
          "output_type": "stream",
          "text": [
            "[   94/100  ]   0.0086    99.7356  \n"
          ]
        },
        {
          "name": "stderr",
          "output_type": "stream",
          "text": [
            "                                                           \r"
          ]
        },
        {
          "name": "stdout",
          "output_type": "stream",
          "text": [
            "[   95/100  ]   0.0047    99.8606  \n"
          ]
        },
        {
          "name": "stderr",
          "output_type": "stream",
          "text": [
            "                                                           \r"
          ]
        },
        {
          "name": "stdout",
          "output_type": "stream",
          "text": [
            "[   96/100  ]   0.0024    99.9543  \n"
          ]
        },
        {
          "name": "stderr",
          "output_type": "stream",
          "text": [
            "                                                           \r"
          ]
        },
        {
          "name": "stdout",
          "output_type": "stream",
          "text": [
            "[   97/100  ]   0.0049    99.8662  \n"
          ]
        },
        {
          "name": "stderr",
          "output_type": "stream",
          "text": [
            "                                                           \r"
          ]
        },
        {
          "name": "stdout",
          "output_type": "stream",
          "text": [
            "[   98/100  ]   0.0028    99.9319  \n"
          ]
        },
        {
          "name": "stderr",
          "output_type": "stream",
          "text": [
            "                                                           \r"
          ]
        },
        {
          "name": "stdout",
          "output_type": "stream",
          "text": [
            "[   99/100  ]   0.0064    99.8269  \n"
          ]
        },
        {
          "name": "stderr",
          "output_type": "stream",
          "text": [
            "                                                           \r"
          ]
        },
        {
          "name": "stdout",
          "output_type": "stream",
          "text": [
            "[  100/100  ]   0.0066    99.7861  \n"
          ]
        },
        {
          "name": "stderr",
          "output_type": "stream",
          "text": [
            "                                                           \r"
          ]
        }
      ],
      "source": [
        "num_epochs = 100\n",
        "loadAndTrain = False\n",
        "trainLoss, trainAccuracy, testLoss, testAccuracy = trainNtest(\n",
        "\tmodel = cnn,\n",
        "\tdatasets = [trainset, testset],\n",
        "\tdumpName = 'cnn_1',\n",
        "\toptimizer = optim.SGD(cnn.parameters(), lr=0.001, momentum=0.9),\n",
        "\tmaxEpochs = num_epochs,\n",
        "\tloadNtrain = loadAndTrain\n",
        ")"
      ]
    },
    {
      "cell_type": "code",
      "execution_count": 15,
      "metadata": {},
      "outputs": [
        {
          "data": {
            "image/png": "[encoded data removed]",
            "text/plain": [
              "<Figure size 432x288 with 1 Axes>"
            ]
          },
          "metadata": {
            "needs_background": "light"
          },
          "output_type": "display_data"
        },
        {
          "data": {
            "image/png": "[encoded data removed]",
            "text/plain": [
              "<Figure size 432x288 with 1 Axes>"
            ]
          },
          "metadata": {
            "needs_background": "light"
          },
          "output_type": "display_data"
        }
      ],
      "source": [
        "plt.plot(trainLoss, label='Train')\n",
        "plt.plot(testLoss, label='Test')\n",
        "plt.ylabel('losses')\n",
        "plt.xlabel('epoch')\n",
        "plt.title('Train vs Test Losses')\n",
        "plt.legend()\n",
        "plt.show()\n",
        "\n",
        "plt.plot(trainAccuracy, label='Train')\n",
        "plt.plot(testAccuracy, label='Test')\n",
        "plt.ylabel('accuracy')\n",
        "plt.xlabel('epoch')\n",
        "plt.title('Train vs Test Accuracy')\n",
        "plt.legend()\n",
        "plt.show()"
      ]
    },
    {
      "cell_type": "markdown",
      "metadata": {
        "id": "ML_5LCyrKSv9"
      },
      "source": [
        "## 1.5 Агументация данных и регулряизация нейросети\n",
        "\n",
        "Попобуйте добавить аугументацию (случайные повороты, увеличение, уменьшение) в данные, а также регуляризацию (Drop out и Batch Norm слои) в модель. Как меняется метрика accuracy на обучающей и тестовой выборке в процессе обучения? Постройте график."
      ]
    },
    {
      "cell_type": "code",
      "execution_count": 23,
      "metadata": {
        "notebookRunGroups": {
          "groupValue": "1"
        }
      },
      "outputs": [],
      "source": [
        "randTransform = K.AugmentationSequential(\n",
        "\tK.RandomPerspective(),\n",
        "\tK.RandomAffine(degrees=(-180, 180), scale = (0.5, 1)),\n",
        "\tK.RandomResizedCrop((32,32), scale = (0.2, 1)),\n",
        "\tK.RandomCrop((32,32), padding = 4),\n",
        "\tK.RandomVerticalFlip(),\n",
        "\tK.RandomHorizontalFlip(),\n",
        "\tdata_keys = [\"Input\"],\n",
        "\trandom_apply = (1,),\n",
        "\tsame_on_batch = False\n",
        ")"
      ]
    },
    {
      "cell_type": "code",
      "execution_count": 17,
      "metadata": {
        "notebookRunGroups": {
          "groupValue": "1"
        }
      },
      "outputs": [
        {
          "name": "stdout",
          "output_type": "stream",
          "text": [
            "i r d u t m b l u w y t x p y a\n"
          ]
        },
        {
          "name": "stderr",
          "output_type": "stream",
          "text": [
            "C:\\Users\\Perihelion\\AppData\\Local\\Packages\\PythonSoftwareFoundation.Python.3.10_qbz5n2kfra8p0\\LocalCache\\local-packages\\Python310\\site-packages\\torch\\functional.py:568: UserWarning: torch.meshgrid: in an upcoming release, it will be required to pass the indexing argument. (Triggered internally at  ..\\aten\\src\\ATen\\native\\TensorShape.cpp:2228.)\n",
            "  return _VF.meshgrid(tensors, **kwargs)  # type: ignore[attr-defined]\n"
          ]
        },
        {
          "data": {
            "image/png": "[encoded data removed]",
            "text/plain": [
              "<Figure size 432x288 with 1 Axes>"
            ]
          },
          "metadata": {
            "needs_background": "light"
          },
          "output_type": "display_data"
        }
      ],
      "source": [
        "dataiter = iter(trainset)\n",
        "images, labels = dataiter.next()\n",
        "images = randTransform(images)\n",
        "\n",
        "imshow(torchvision.utils.make_grid(images, nrow = 1))\n",
        "\n",
        "print(\" \".join(str(data_train.classes[labels[j]]) for j in range(nbatch)))"
      ]
    },
    {
      "cell_type": "code",
      "execution_count": 18,
      "metadata": {},
      "outputs": [
        {
          "name": "stdout",
          "output_type": "stream",
          "text": [
            "==========================================================================================\n",
            "Layer (type:depth-idx)                   Output Shape              Param #\n",
            "==========================================================================================\n",
            "├─Sequential: 1-1                        [-1, 32, 16, 16]          --\n",
            "|    └─Conv2d: 2-1                       [-1, 32, 32, 32]          320\n",
            "|    └─BatchNorm2d: 2-2                  [-1, 32, 32, 32]          64\n",
            "|    └─ReLU: 2-3                         [-1, 32, 32, 32]          --\n",
            "|    └─MaxPool2d: 2-4                    [-1, 32, 16, 16]          --\n",
            "├─Sequential: 1-2                        [-1, 64, 8, 8]            --\n",
            "|    └─Conv2d: 2-5                       [-1, 64, 16, 16]          18,496\n",
            "|    └─BatchNorm2d: 2-6                  [-1, 64, 16, 16]          128\n",
            "|    └─ReLU: 2-7                         [-1, 64, 16, 16]          --\n",
            "|    └─MaxPool2d: 2-8                    [-1, 64, 8, 8]            --\n",
            "├─Sequential: 1-3                        [-1, 256, 4, 4]           --\n",
            "|    └─Conv2d: 2-9                       [-1, 128, 8, 8]           73,856\n",
            "|    └─BatchNorm2d: 2-10                 [-1, 128, 8, 8]           256\n",
            "|    └─ReLU: 2-11                        [-1, 128, 8, 8]           --\n",
            "|    └─Conv2d: 2-12                      [-1, 256, 8, 8]           295,168\n",
            "|    └─BatchNorm2d: 2-13                 [-1, 256, 8, 8]           512\n",
            "|    └─ReLU: 2-14                        [-1, 256, 8, 8]           --\n",
            "|    └─MaxPool2d: 2-15                   [-1, 256, 4, 4]           --\n",
            "├─Sequential: 1-4                        [-1, 27]                  --\n",
            "|    └─Linear: 2-16                      [-1, 1024]                4,195,328\n",
            "|    └─ReLU: 2-17                        [-1, 1024]                --\n",
            "|    └─Dropout: 2-18                     [-1, 1024]                --\n",
            "|    └─Linear: 2-19                      [-1, 512]                 524,800\n",
            "|    └─ReLU: 2-20                        [-1, 512]                 --\n",
            "|    └─Dropout: 2-21                     [-1, 512]                 --\n",
            "|    └─Linear: 2-22                      [-1, 27]                  13,851\n",
            "==========================================================================================\n",
            "Total params: 5,122,779\n",
            "Trainable params: 5,122,779\n",
            "Non-trainable params: 0\n",
            "Total mult-adds (M): 38.46\n",
            "==========================================================================================\n",
            "Input size (MB): 0.00\n",
            "Forward/backward pass size (MB): 1.14\n",
            "Params size (MB): 19.54\n",
            "Estimated Total Size (MB): 20.68\n",
            "==========================================================================================\n"
          ]
        },
        {
          "data": {
            "text/plain": [
              "==========================================================================================\n",
              "Layer (type:depth-idx)                   Output Shape              Param #\n",
              "==========================================================================================\n",
              "├─Sequential: 1-1                        [-1, 32, 16, 16]          --\n",
              "|    └─Conv2d: 2-1                       [-1, 32, 32, 32]          320\n",
              "|    └─BatchNorm2d: 2-2                  [-1, 32, 32, 32]          64\n",
              "|    └─ReLU: 2-3                         [-1, 32, 32, 32]          --\n",
              "|    └─MaxPool2d: 2-4                    [-1, 32, 16, 16]          --\n",
              "├─Sequential: 1-2                        [-1, 64, 8, 8]            --\n",
              "|    └─Conv2d: 2-5                       [-1, 64, 16, 16]          18,496\n",
              "|    └─BatchNorm2d: 2-6                  [-1, 64, 16, 16]          128\n",
              "|    └─ReLU: 2-7                         [-1, 64, 16, 16]          --\n",
              "|    └─MaxPool2d: 2-8                    [-1, 64, 8, 8]            --\n",
              "├─Sequential: 1-3                        [-1, 256, 4, 4]           --\n",
              "|    └─Conv2d: 2-9                       [-1, 128, 8, 8]           73,856\n",
              "|    └─BatchNorm2d: 2-10                 [-1, 128, 8, 8]           256\n",
              "|    └─ReLU: 2-11                        [-1, 128, 8, 8]           --\n",
              "|    └─Conv2d: 2-12                      [-1, 256, 8, 8]           295,168\n",
              "|    └─BatchNorm2d: 2-13                 [-1, 256, 8, 8]           512\n",
              "|    └─ReLU: 2-14                        [-1, 256, 8, 8]           --\n",
              "|    └─MaxPool2d: 2-15                   [-1, 256, 4, 4]           --\n",
              "├─Sequential: 1-4                        [-1, 27]                  --\n",
              "|    └─Linear: 2-16                      [-1, 1024]                4,195,328\n",
              "|    └─ReLU: 2-17                        [-1, 1024]                --\n",
              "|    └─Dropout: 2-18                     [-1, 1024]                --\n",
              "|    └─Linear: 2-19                      [-1, 512]                 524,800\n",
              "|    └─ReLU: 2-20                        [-1, 512]                 --\n",
              "|    └─Dropout: 2-21                     [-1, 512]                 --\n",
              "|    └─Linear: 2-22                      [-1, 27]                  13,851\n",
              "==========================================================================================\n",
              "Total params: 5,122,779\n",
              "Trainable params: 5,122,779\n",
              "Non-trainable params: 0\n",
              "Total mult-adds (M): 38.46\n",
              "==========================================================================================\n",
              "Input size (MB): 0.00\n",
              "Forward/backward pass size (MB): 1.14\n",
              "Params size (MB): 19.54\n",
              "Estimated Total Size (MB): 20.68\n",
              "=========================================================================================="
            ]
          },
          "execution_count": 18,
          "metadata": {},
          "output_type": "execute_result"
        }
      ],
      "source": [
        "cnnR = CNN(\n",
        "\tregularization={\n",
        "\t\t'eps': 0.00001,\t\t# default 'eps': 0.00001\n",
        "\t\t'momentum': 0.1, \t# default 'momentum': 0.1\n",
        "\t\t'p': 0.5\t\t\t# default 'p': 0.5\n",
        "\t}\n",
        ")\n",
        "cnnR.to(device)\n",
        "summary(cnnR, (1, 32, 32))"
      ]
    },
    {
      "cell_type": "markdown",
      "metadata": {
        "id": "aTD5QBT-bsnu"
      },
      "source": [
        "## 1.6 Обучение нейросети на данных с аугументацией "
      ]
    },
    {
      "cell_type": "code",
      "execution_count": null,
      "metadata": {
        "id": "rmlsO4C2bsii"
      },
      "outputs": [],
      "source": [
        "num_epochs = 100\n",
        "loadAndTrain = False\n",
        "trainLossR, trainAccuracyR, testLossR, testAccuracyR = trainNtest(\n",
        "\tmodel = cnnR,\n",
        "\tdatasets = [trainset, testset],\n",
        "\tdumpName = 'cnn_2',\n",
        "\toptimizer = optim.SGD(cnnR.parameters(), lr=0.001, momentum=0.9),\n",
        "\tmaxEpochs = num_epochs,\n",
        "\tloadNtrain = loadAndTrain,\n",
        "\ttransformation = randTransform\n",
        ")"
      ]
    },
    {
      "cell_type": "code",
      "execution_count": 20,
      "metadata": {},
      "outputs": [
        {
          "data": {
            "image/png": "[encoded data removed]",
            "text/plain": [
              "<Figure size 432x288 with 1 Axes>"
            ]
          },
          "metadata": {
            "needs_background": "light"
          },
          "output_type": "display_data"
        },
        {
          "data": {
            "image/png": "[encoded data removed]",
            "text/plain": [
              "<Figure size 432x288 with 1 Axes>"
            ]
          },
          "metadata": {
            "needs_background": "light"
          },
          "output_type": "display_data"
        }
      ],
      "source": [
        "plt.plot(trainLossR, label='Train')\n",
        "plt.plot(testLossR, label='Test')\n",
        "plt.ylabel('losses')\n",
        "plt.xlabel('epoch')\n",
        "plt.title('Train vs Test Losses')\n",
        "plt.legend()\n",
        "plt.show()\n",
        "\n",
        "plt.plot(trainAccuracyR, label='Train')\n",
        "plt.plot(testAccuracyR, label='Test')\n",
        "plt.ylabel('accuracy')\n",
        "plt.xlabel('epoch')\n",
        "plt.title('Train vs Test Accuracy')\n",
        "plt.legend()\n",
        "plt.show()"
      ]
    },
    {
      "cell_type": "markdown",
      "metadata": {
        "id": "uydqxWwQKWYQ"
      },
      "source": [
        "## 1.7 Выводы\n",
        "\n",
        "> Что удалось попробовать? Что получилось, а что — нет? Повлияло ли добавление аугументации на качество?\n",
        "\n",
        "В ходе выполения задания была создана структура свёрточной нейронной сети, основой которой послужила AlexNet. Обучение собственной нейронной сети дало результаты, представленные на графиках. Регуляриязация должна была привести к тому, что увеличивается точноть классификации, что в совокупности с аугментацией тренировочных датасетов давало бы преимущество, однако, как показывают графики, "
      ]
    },
    {
      "cell_type": "markdown",
      "metadata": {
        "id": "D5G-61iAKh0A"
      },
      "source": [
        "# 2. Рекуррентная нейронная сеть для генерации текстов (9 баллов)"
      ]
    },
    {
      "cell_type": "markdown",
      "metadata": {
        "id": "BIVlZeMLKwc6"
      },
      "source": [
        "## 2.1 Загрузка данных\n",
        "\n"
      ]
    },
    {
      "cell_type": "code",
      "execution_count": 3,
      "metadata": {
        "notebookRunGroups": {
          "groupValue": "2"
        }
      },
      "outputs": [],
      "source": [
        "from src.text_generator import RNNTextGenerator\n",
        "from src.dataset import Dataset\n",
        "import tensorflow as tf\n",
        "tf.compat.v1.disable_eager_execution()"
      ]
    },
    {
      "cell_type": "code",
      "execution_count": 4,
      "metadata": {
        "id": "m0CBKtrJL9kt",
        "notebookRunGroups": {
          "groupValue": "2"
        }
      },
      "outputs": [],
      "source": [
        "seq_length = 25\n",
        "batch_size = 25\n",
        "learning_rate = 0.01\n",
        "epoch = 5"
      ]
    },
    {
      "cell_type": "markdown",
      "metadata": {
        "id": "v4TTaWpIKwc9"
      },
      "source": [
        "## 2.2 Преодбработка/нормализация данных по необходимости\n",
        "\n",
        "Например, можно привести все слова к нижнему регистру"
      ]
    },
    {
      "cell_type": "code",
      "execution_count": 5,
      "metadata": {
        "id": "qtBeZ7VRVfxn",
        "notebookRunGroups": {
          "groupValue": "2"
        }
      },
      "outputs": [],
      "source": [
        "dataset = Dataset(['./data/war_and_piece.txt'], seq_length)"
      ]
    },
    {
      "cell_type": "markdown",
      "metadata": {
        "id": "7xeKpLH3Kwc9"
      },
      "source": [
        "## 2.3 Инициализация объекта рекуррентной нейронной сети"
      ]
    },
    {
      "cell_type": "code",
      "execution_count": null,
      "metadata": {
        "id": "mjsbLlkVSwiL",
        "notebookRunGroups": {
          "groupValue": "2"
        }
      },
      "outputs": [],
      "source": [
        "model = RNNTextGenerator(\n",
        "\tseq_length,\n",
        "\tdataset.vocab_size,\n",
        "\tlearning_rate=learning_rate,\n",
        "\tepoch=epoch,\n",
        "\tbatch_size=batch_size,\n",
        ")"
      ]
    },
    {
      "cell_type": "markdown",
      "metadata": {
        "id": "liOZimvTKwc-"
      },
      "source": [
        "## 2.4 Обучение обычной рекуррентной нейронной сети"
      ]
    },
    {
      "cell_type": "code",
      "execution_count": 8,
      "metadata": {
        "id": "DfTeyL-eS-nZ",
        "notebookRunGroups": {
          "groupValue": "2"
        }
      },
      "outputs": [],
      "source": [
        "scores = model.fit(dataset, save_scores=True)"
      ]
    },
    {
      "cell_type": "code",
      "execution_count": 16,
      "metadata": {},
      "outputs": [
        {
          "data": {
            "image/png": "[encoded data removed]",
            "text/plain": [
              "<Figure size 432x288 with 1 Axes>"
            ]
          },
          "metadata": {
            "needs_background": "light"
          },
          "output_type": "display_data"
        }
      ],
      "source": [
        "scores['accuracy'].plot()\n",
        "plt.ylabel('accuracy')\n",
        "plt.xlabel('steps')\n",
        "plt.show()"
      ]
    },
    {
      "cell_type": "code",
      "execution_count": 17,
      "metadata": {},
      "outputs": [
        {
          "data": {
            "image/png": "[encoded data removed]",
            "text/plain": [
              "<Figure size 432x288 with 1 Axes>"
            ]
          },
          "metadata": {
            "needs_background": "light"
          },
          "output_type": "display_data"
        }
      ],
      "source": [
        "scores['loss'].plot()\n",
        "plt.ylabel('loss')\n",
        "plt.xlabel('steps')\n",
        "plt.show()"
      ]
    },
    {
      "cell_type": "markdown",
      "metadata": {
        "id": "2K6Inp-qKwc_"
      },
      "source": [
        "## 2.5 Генерация текстов при помощи обычной рекуррентной сети"
      ]
    },
    {
      "cell_type": "code",
      "execution_count": 21,
      "metadata": {
        "id": "JRt6j0VsKhdW",
        "notebookRunGroups": {
          "groupValue": "2"
        }
      },
      "outputs": [
        {
          "name": "stdout",
          "output_type": "stream",
          "text": [
            ">>>>>>\n",
            "Как в  вопросе астрономии  тогда\n",
            "INFO:tensorflow:./model\\RNNTextGenerator.data-00000-of-00001\n",
            "INFO:tensorflow:500\n",
            "INFO:tensorflow:./model\\RNNTextGenerator.index\n",
            "INFO:tensorflow:500\n",
            "INFO:tensorflow:./model\\RNNTextGenerator.meta\n",
            "INFO:tensorflow:600\n"
          ]
        },
        {
          "name": "stderr",
          "output_type": "stream",
          "text": [
            "g:\\My_Files\\BMSTU\\4 курс\\8 семестр\\Обнаружение и распознавание сигналов\\Домашние работы\\Домашняя работа №3\\hw03\\src\\text_generator.py:103: UserWarning: `tf.nn.rnn_cell.BasicRNNCell` is deprecated and will be removed in a future version. This class is equivalent as `tf.keras.layers.SimpleRNNCell`, and will be replaced by that in Tensorflow 2.0.\n",
            "  self._tf_rnn_cell = rnn_cell(\n",
            "g:\\My_Files\\BMSTU\\4 курс\\8 семестр\\Обнаружение и распознавание сигналов\\Домашние работы\\Домашняя работа №3\\hw03\\src\\text_generator.py:112: UserWarning: `tf.layers.dense` is deprecated and will be removed in a future version. Please use `tf.keras.layers.Dense` instead.\n",
            "  logits = tf.compat.v1.layers.dense(\n"
          ]
        },
        {
          "name": "stdout",
          "output_type": "stream",
          "text": [
            "INFO:tensorflow:Restoring parameters from ./model/RNNTextGenerator\n",
            " в  мосто Наполузясь  все любий  того шутся  смге \n",
            "<<<<<<\n"
          ]
        }
      ],
      "source": [
        "start_seq = 'Как в  вопросе астрономии  тогда'\n",
        "print('>>>>>>\\n{}'.format(start_seq))\n",
        "print(model.generate(\n",
        "\tdataset,\n",
        "\tstart_seq,\n",
        "\t50\n",
        "))\n",
        "print('<<<<<<')"
      ]
    },
    {
      "cell_type": "markdown",
      "metadata": {
        "id": "PQIhCxJsLRZA"
      },
      "source": [
        "## 2.6 Обучение рекуррентной нейронной сети с LSTM-ячейками"
      ]
    },
    {
      "cell_type": "code",
      "execution_count": null,
      "metadata": {
        "id": "hzGeu7iXLRfl",
        "notebookRunGroups": {
          "groupValue": "2"
        }
      },
      "outputs": [],
      "source": [
        "modelLSTM = RNNTextGenerator(\n",
        "\tseq_length,\n",
        "\tdataset.vocab_size,\n",
        "\tlearning_rate = learning_rate,\n",
        "\tepoch = epoch,\n",
        "\tbatch_size = batch_size,\n",
        "\tname = 'RNNLSTMTextGenerator',\n",
        "\trnn_cell = tf.compat.v1.nn.rnn_cell.LSTMCell,\n",
        ")"
      ]
    },
    {
      "cell_type": "code",
      "execution_count": 1,
      "metadata": {
        "notebookRunGroups": {
          "groupValue": "2"
        }
      },
      "outputs": [
        {
          "name": "stdout",
          "output_type": "stream",
          "text": [
            ">>>>>>\n",
            "Как в  вопросе астрономии  тогда\n"
          ]
        },
        {
          "ename": "NameError",
          "evalue": "name 'modelLSTM' is not defined",
          "output_type": "error",
          "traceback": [
            "\u001b[1;31m---------------------------------------------------------------------------\u001b[0m",
            "\u001b[1;31mNameError\u001b[0m                                 Traceback (most recent call last)",
            "\u001b[1;32mg:\\My_Files\\BMSTU\\4 курс\\8 семестр\\Обнаружение и распознавание сигналов\\Домашние работы\\Домашняя работа №3\\hw03\\hw_03.ipynb Cell 48'\u001b[0m in \u001b[0;36m<cell line: 3>\u001b[1;34m()\u001b[0m\n\u001b[0;32m      <a href='vscode-notebook-cell:/g%3A/My_Files/BMSTU/4%20%D0%BA%D1%83%D1%80%D1%81/8%20%D1%81%D0%B5%D0%BC%D0%B5%D1%81%D1%82%D1%80/%D0%9E%D0%B1%D0%BD%D0%B0%D1%80%D1%83%D0%B6%D0%B5%D0%BD%D0%B8%D0%B5%20%D0%B8%20%D1%80%D0%B0%D1%81%D0%BF%D0%BE%D0%B7%D0%BD%D0%B0%D0%B2%D0%B0%D0%BD%D0%B8%D0%B5%20%D1%81%D0%B8%D0%B3%D0%BD%D0%B0%D0%BB%D0%BE%D0%B2/%D0%94%D0%BE%D0%BC%D0%B0%D1%88%D0%BD%D0%B8%D0%B5%20%D1%80%D0%B0%D0%B1%D0%BE%D1%82%D1%8B/%D0%94%D0%BE%D0%BC%D0%B0%D1%88%D0%BD%D1%8F%D1%8F%20%D1%80%D0%B0%D0%B1%D0%BE%D1%82%D0%B0%20%E2%84%963/hw03/hw_03.ipynb#ch0000047?line=0'>1</a>\u001b[0m start_seq \u001b[39m=\u001b[39m \u001b[39m'\u001b[39m\u001b[39mКак в  вопросе астрономии  тогда\u001b[39m\u001b[39m'\u001b[39m\n\u001b[0;32m      <a href='vscode-notebook-cell:/g%3A/My_Files/BMSTU/4%20%D0%BA%D1%83%D1%80%D1%81/8%20%D1%81%D0%B5%D0%BC%D0%B5%D1%81%D1%82%D1%80/%D0%9E%D0%B1%D0%BD%D0%B0%D1%80%D1%83%D0%B6%D0%B5%D0%BD%D0%B8%D0%B5%20%D0%B8%20%D1%80%D0%B0%D1%81%D0%BF%D0%BE%D0%B7%D0%BD%D0%B0%D0%B2%D0%B0%D0%BD%D0%B8%D0%B5%20%D1%81%D0%B8%D0%B3%D0%BD%D0%B0%D0%BB%D0%BE%D0%B2/%D0%94%D0%BE%D0%BC%D0%B0%D1%88%D0%BD%D0%B8%D0%B5%20%D1%80%D0%B0%D0%B1%D0%BE%D1%82%D1%8B/%D0%94%D0%BE%D0%BC%D0%B0%D1%88%D0%BD%D1%8F%D1%8F%20%D1%80%D0%B0%D0%B1%D0%BE%D1%82%D0%B0%20%E2%84%963/hw03/hw_03.ipynb#ch0000047?line=1'>2</a>\u001b[0m \u001b[39mprint\u001b[39m(\u001b[39m'\u001b[39m\u001b[39m>>>>>>\u001b[39m\u001b[39m\\n\u001b[39;00m\u001b[39m{}\u001b[39;00m\u001b[39m'\u001b[39m\u001b[39m.\u001b[39mformat(start_seq))\n\u001b[1;32m----> <a href='vscode-notebook-cell:/g%3A/My_Files/BMSTU/4%20%D0%BA%D1%83%D1%80%D1%81/8%20%D1%81%D0%B5%D0%BC%D0%B5%D1%81%D1%82%D1%80/%D0%9E%D0%B1%D0%BD%D0%B0%D1%80%D1%83%D0%B6%D0%B5%D0%BD%D0%B8%D0%B5%20%D0%B8%20%D1%80%D0%B0%D1%81%D0%BF%D0%BE%D0%B7%D0%BD%D0%B0%D0%B2%D0%B0%D0%BD%D0%B8%D0%B5%20%D1%81%D0%B8%D0%B3%D0%BD%D0%B0%D0%BB%D0%BE%D0%B2/%D0%94%D0%BE%D0%BC%D0%B0%D1%88%D0%BD%D0%B8%D0%B5%20%D1%80%D0%B0%D0%B1%D0%BE%D1%82%D1%8B/%D0%94%D0%BE%D0%BC%D0%B0%D1%88%D0%BD%D1%8F%D1%8F%20%D1%80%D0%B0%D0%B1%D0%BE%D1%82%D0%B0%20%E2%84%963/hw03/hw_03.ipynb#ch0000047?line=2'>3</a>\u001b[0m \u001b[39mprint\u001b[39m(modelLSTM\u001b[39m.\u001b[39mgenerate(\n\u001b[0;32m      <a href='vscode-notebook-cell:/g%3A/My_Files/BMSTU/4%20%D0%BA%D1%83%D1%80%D1%81/8%20%D1%81%D0%B5%D0%BC%D0%B5%D1%81%D1%82%D1%80/%D0%9E%D0%B1%D0%BD%D0%B0%D1%80%D1%83%D0%B6%D0%B5%D0%BD%D0%B8%D0%B5%20%D0%B8%20%D1%80%D0%B0%D1%81%D0%BF%D0%BE%D0%B7%D0%BD%D0%B0%D0%B2%D0%B0%D0%BD%D0%B8%D0%B5%20%D1%81%D0%B8%D0%B3%D0%BD%D0%B0%D0%BB%D0%BE%D0%B2/%D0%94%D0%BE%D0%BC%D0%B0%D1%88%D0%BD%D0%B8%D0%B5%20%D1%80%D0%B0%D0%B1%D0%BE%D1%82%D1%8B/%D0%94%D0%BE%D0%BC%D0%B0%D1%88%D0%BD%D1%8F%D1%8F%20%D1%80%D0%B0%D0%B1%D0%BE%D1%82%D0%B0%20%E2%84%963/hw03/hw_03.ipynb#ch0000047?line=3'>4</a>\u001b[0m \tdataset,\n\u001b[0;32m      <a href='vscode-notebook-cell:/g%3A/My_Files/BMSTU/4%20%D0%BA%D1%83%D1%80%D1%81/8%20%D1%81%D0%B5%D0%BC%D0%B5%D1%81%D1%82%D1%80/%D0%9E%D0%B1%D0%BD%D0%B0%D1%80%D1%83%D0%B6%D0%B5%D0%BD%D0%B8%D0%B5%20%D0%B8%20%D1%80%D0%B0%D1%81%D0%BF%D0%BE%D0%B7%D0%BD%D0%B0%D0%B2%D0%B0%D0%BD%D0%B8%D0%B5%20%D1%81%D0%B8%D0%B3%D0%BD%D0%B0%D0%BB%D0%BE%D0%B2/%D0%94%D0%BE%D0%BC%D0%B0%D1%88%D0%BD%D0%B8%D0%B5%20%D1%80%D0%B0%D0%B1%D0%BE%D1%82%D1%8B/%D0%94%D0%BE%D0%BC%D0%B0%D1%88%D0%BD%D1%8F%D1%8F%20%D1%80%D0%B0%D0%B1%D0%BE%D1%82%D0%B0%20%E2%84%963/hw03/hw_03.ipynb#ch0000047?line=4'>5</a>\u001b[0m \tstart_seq,\n\u001b[0;32m      <a href='vscode-notebook-cell:/g%3A/My_Files/BMSTU/4%20%D0%BA%D1%83%D1%80%D1%81/8%20%D1%81%D0%B5%D0%BC%D0%B5%D1%81%D1%82%D1%80/%D0%9E%D0%B1%D0%BD%D0%B0%D1%80%D1%83%D0%B6%D0%B5%D0%BD%D0%B8%D0%B5%20%D0%B8%20%D1%80%D0%B0%D1%81%D0%BF%D0%BE%D0%B7%D0%BD%D0%B0%D0%B2%D0%B0%D0%BD%D0%B8%D0%B5%20%D1%81%D0%B8%D0%B3%D0%BD%D0%B0%D0%BB%D0%BE%D0%B2/%D0%94%D0%BE%D0%BC%D0%B0%D1%88%D0%BD%D0%B8%D0%B5%20%D1%80%D0%B0%D0%B1%D0%BE%D1%82%D1%8B/%D0%94%D0%BE%D0%BC%D0%B0%D1%88%D0%BD%D1%8F%D1%8F%20%D1%80%D0%B0%D0%B1%D0%BE%D1%82%D0%B0%20%E2%84%963/hw03/hw_03.ipynb#ch0000047?line=5'>6</a>\u001b[0m \t\u001b[39m50\u001b[39m\n\u001b[0;32m      <a href='vscode-notebook-cell:/g%3A/My_Files/BMSTU/4%20%D0%BA%D1%83%D1%80%D1%81/8%20%D1%81%D0%B5%D0%BC%D0%B5%D1%81%D1%82%D1%80/%D0%9E%D0%B1%D0%BD%D0%B0%D1%80%D1%83%D0%B6%D0%B5%D0%BD%D0%B8%D0%B5%20%D0%B8%20%D1%80%D0%B0%D1%81%D0%BF%D0%BE%D0%B7%D0%BD%D0%B0%D0%B2%D0%B0%D0%BD%D0%B8%D0%B5%20%D1%81%D0%B8%D0%B3%D0%BD%D0%B0%D0%BB%D0%BE%D0%B2/%D0%94%D0%BE%D0%BC%D0%B0%D1%88%D0%BD%D0%B8%D0%B5%20%D1%80%D0%B0%D0%B1%D0%BE%D1%82%D1%8B/%D0%94%D0%BE%D0%BC%D0%B0%D1%88%D0%BD%D1%8F%D1%8F%20%D1%80%D0%B0%D0%B1%D0%BE%D1%82%D0%B0%20%E2%84%963/hw03/hw_03.ipynb#ch0000047?line=6'>7</a>\u001b[0m ))\n\u001b[0;32m      <a href='vscode-notebook-cell:/g%3A/My_Files/BMSTU/4%20%D0%BA%D1%83%D1%80%D1%81/8%20%D1%81%D0%B5%D0%BC%D0%B5%D1%81%D1%82%D1%80/%D0%9E%D0%B1%D0%BD%D0%B0%D1%80%D1%83%D0%B6%D0%B5%D0%BD%D0%B8%D0%B5%20%D0%B8%20%D1%80%D0%B0%D1%81%D0%BF%D0%BE%D0%B7%D0%BD%D0%B0%D0%B2%D0%B0%D0%BD%D0%B8%D0%B5%20%D1%81%D0%B8%D0%B3%D0%BD%D0%B0%D0%BB%D0%BE%D0%B2/%D0%94%D0%BE%D0%BC%D0%B0%D1%88%D0%BD%D0%B8%D0%B5%20%D1%80%D0%B0%D0%B1%D0%BE%D1%82%D1%8B/%D0%94%D0%BE%D0%BC%D0%B0%D1%88%D0%BD%D1%8F%D1%8F%20%D1%80%D0%B0%D0%B1%D0%BE%D1%82%D0%B0%20%E2%84%963/hw03/hw_03.ipynb#ch0000047?line=7'>8</a>\u001b[0m \u001b[39mprint\u001b[39m(\u001b[39m'\u001b[39m\u001b[39m<<<<<<\u001b[39m\u001b[39m'\u001b[39m)\n",
            "\u001b[1;31mNameError\u001b[0m: name 'modelLSTM' is not defined"
          ]
        }
      ],
      "source": [
        "start_seq = 'Как в  вопросе астрономии  тогда'\n",
        "print('>>>>>>\\n{}'.format(start_seq))\n",
        "print(modelLSTM.generate(\n",
        "\tdataset,\n",
        "\tstart_seq,\n",
        "\t50\n",
        "))\n",
        "print('<<<<<<')"
      ]
    },
    {
      "cell_type": "markdown",
      "metadata": {
        "id": "hodfK4dxLWO3"
      },
      "source": [
        "## 2.7 Генерация текстов с разной температурой\n",
        "\n",
        "Попробуйте сгенерировать тексты с температурой из списка: `[0.1, 0.2, 0.4, 0.6, 0.8, 1.0]` (см. нотубук с семинара по RNN)"
      ]
    },
    {
      "cell_type": "code",
      "execution_count": null,
      "metadata": {
        "id": "5SsbA8hSLWWJ"
      },
      "outputs": [],
      "source": []
    },
    {
      "cell_type": "markdown",
      "metadata": {
        "id": "wmkAq2N7LdzA"
      },
      "source": [
        "## 2.8 Выводы"
      ]
    },
    {
      "cell_type": "markdown",
      "metadata": {
        "id": "KdFzjKnbV4yG"
      },
      "source": []
    }
  ],
  "metadata": {
    "accelerator": "GPU",
    "colab": {
      "collapsed_sections": [],
      "name": "oirs_hw_3.ipynb",
      "provenance": []
    },
    "interpreter": {
      "hash": "f45b512e9d6597108c983dc14036aa59df50132be952a879b132e54811f3c585"
    },
    "kernelspec": {
      "display_name": "Python 3.10.5 64-bit (windows store)",
      "language": "python",
      "name": "python3"
    },
    "language_info": {
      "codemirror_mode": {
        "name": "ipython",
        "version": 3
      },
      "file_extension": ".py",
      "mimetype": "text/x-python",
      "name": "python",
      "nbconvert_exporter": "python",
      "pygments_lexer": "ipython3",
      "version": "3.10.5"
    }
  },
  "nbformat": 4,
  "nbformat_minor": 0
}
