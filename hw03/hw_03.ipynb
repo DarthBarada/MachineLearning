{
  "cells": [
    {
      "cell_type": "markdown",
      "metadata": {
        "id": "7uLSt3vBI0zr"
      },
      "source": [
        "# Домашнее задание 3. Свёрточные и рекуррентные нейронные сети\n",
        "## Фамилия Имя Группа"
      ]
    },
    {
      "cell_type": "markdown",
      "metadata": {
        "id": "2JxNVonhRMgf"
      },
      "source": [
        "В зависимости от варианта, для решения задачи используйте следующие наборы данных:\n",
        "\n",
        "<table>\n",
        "    <thead>\n",
        "         <tr>\n",
        "            <th colspan=1>Задача генерации</th>\n",
        "            <th colspan=5>Задача классификации</th>\n",
        "        </tr>\n",
        "        <tr>\n",
        "            <th> </th>\n",
        "            <th>A</th>\n",
        "            <th>B</th>\n",
        "            <th style=\"background-color:red; color:white\">C</th>\n",
        "            <th>D</th>\n",
        "            <th>E</th>\n",
        "        </tr>\n",
        "    </thead>\n",
        "    <tbody>\n",
        "        <tr>\n",
        "            <td>K</td>\n",
        "            <td>1</td>\n",
        "            <td>2</td>\n",
        "            <td>3</td>\n",
        "            <td>4</td>\n",
        "            <td>5</td>\n",
        "        </tr>\n",
        "        <tr>\n",
        "            <td style=\"background-color:red; color:white\">L</td>\n",
        "            <td>6</td>\n",
        "            <td>7</td>\n",
        "            <td style=\"background-color:red; color:white\">8</td>\n",
        "            <td>9</td>\n",
        "            <td>10</td>\n",
        "        </tr>\n",
        "        <tr>\n",
        "            <td>M</td>\n",
        "            <td>11</td>\n",
        "            <td>12</td>\n",
        "            <td>13</td>\n",
        "            <td>14</td>\n",
        "            <td>15</td>\n",
        "        </tr>\n",
        "        <tr>\n",
        "            <td>N</td>\n",
        "            <td>16</td>\n",
        "            <td>17</td>\n",
        "            <td>18</td>\n",
        "            <td>19</td>\n",
        "            <td>20</td>\n",
        "        </tr>\n",
        "        <tr>\n",
        "            <td>O</td>\n",
        "            <td>21</td>\n",
        "            <td>22</td>\n",
        "            <td>23</td>\n",
        "            <td>24</td>\n",
        "            <td>25</td>\n",
        "        </tr>\n",
        "    </tbody>\n",
        "</table>\n",
        "\n",
        "### Наборы данных\n",
        "\n",
        "**Задача классификации картинок**\n",
        "\n",
        "A. [Набор данных \"Fashion MNIST\"](https://pytorch.org/vision/main/generated/torchvision.datasets.FashionMNIST.html) `torchvision.datasets.FashionMNIST train=True и False`\n",
        "\n",
        "B. [Набор данных \"Текстуры\"](https://pytorch.org/vision/main/generated/torchvision.datasets.DTD.html#torchvision.datasets.DTD) `torchvision.datasets.DTD split='train' и 'test'`\n",
        "\n",
        "C. **[Набор данных \"Буквы\"](https://pytorch.org/vision/main/generated/torchvision.datasets.EMNIST.html#torchvision.datasets.EMNIST)** `torchvision.datasets.EMNIST split=letters train=True и False`\n",
        "\n",
        "D. [Набор данных \"Кошки и собаки\"](https://pytorch.org/vision/main/generated/torchvision.datasets.OxfordIIITPet.html) `torchvision.datasets.OxfordIIITPet split = 'trainval' и 'test'` (объекты разбиты по породам (всего 37 пород), нужно построить бинарный классификатор собак и кошек)\n",
        "\n",
        "E. [Набор данных \"Дорожные знаки\"](https://pytorch.org/vision/main/generated/torchvision.datasets.GTSRB.html) `torchvision.datasets.GTSRB split = 'train' и 'test'`\n",
        "\n",
        "\n",
        "---\n",
        "\n",
        "**Задача генерации текстов**\n",
        "\n",
        "K. [Набор данных \"Евгений Онегин\"]() `onegin.txt`\n",
        "\n",
        "L. **[Набор данных \"Война и Мир\"]() `war_and_piece.txt`**\n",
        "\n",
        "M. [Набор данных \"Стихи\"]() `stihi.csv`\n",
        "\n",
        "N. [Набор данных \"Сказки\"]() `fairytales.txt`\n",
        "\n",
        "O. [Набор данных \"Новости\"]() `news.txt` или https://github.com/yutkin/Lenta.Ru-News-Dataset/releases"
      ]
    },
    {
      "cell_type": "markdown",
      "metadata": {
        "id": "zsqatIg_JBu7"
      },
      "source": [
        "# 0. Инициализация библиотек"
      ]
    },
    {
      "cell_type": "code",
      "execution_count": 2,
      "metadata": {
        "id": "WGZt4ftTJxg4",
        "notebookRunGroups": {
          "groupValue": "1"
        }
      },
      "outputs": [],
      "source": [
        "import torch\n",
        "import torchvision\n",
        "import numpy as np\n",
        "import pandas as pd\n",
        "import torch.nn as nn\n",
        "from torch import optim\n",
        "from os.path import exists\n",
        "import kornia.augmentation as K\n",
        "import torch.nn.functional as F\n",
        "import matplotlib.pyplot as plt\n",
        "from torchsummary import summary\n",
        "from torch.autograd import Variable\n",
        "import matplotlib.animation as animation\n",
        "import torchvision.transforms as transforms"
      ]
    },
    {
      "cell_type": "markdown",
      "metadata": {
        "id": "aGY7pMa8_vhU"
      },
      "source": [
        "Подсказка по разделению пород на два класса\n",
        "```\n",
        "import torchvision\n",
        "\n",
        "# Все классы\n",
        "len(torchvision.datasets.OxfordIIITPet(root='data_train', download=True).classes)\n",
        "\n",
        "# кошки\n",
        "cats = ['Abyssinian', 'Bengal', 'Birman', 'Bombay', 'British Shorthair', 'Egyptian Mau', 'Maine Coon', 'Persian', 'Ragdoll', 'Russian Blue', 'Siamese', 'Sphynx']\n",
        "\n",
        "# собаки\n",
        "dogs = ['American Bulldog', 'American Pit Bull Terrier', 'Basset Hound', 'Beagle', 'Boxer', 'Chihuahua', 'English Cocker Spaniel', 'English Setter', 'German Shorthaired', 'Great Pyrenees',\n",
        "        'Havanese', 'Japanese Chin', 'Keeshond', 'Leonberger', 'Miniature Pinscher', 'Newfoundland', 'Pomeranian', 'Pug', 'Saint Bernard', 'Samoyed', 'Scottish Terrier', 'Shiba Inu',\n",
        "        'Staffordshire Bull Terrier', 'Wheaten Terrier', 'Yorkshire Terrier']\n",
        "```"
      ]
    },
    {
      "cell_type": "markdown",
      "metadata": {
        "id": "5oGgl1uGJBxH"
      },
      "source": [
        "# 1. Свёрточная нейронная сеть для классификации изображений (9 баллов)"
      ]
    },
    {
      "cell_type": "markdown",
      "metadata": {
        "id": "qV47VXssLKa9",
        "notebookRunGroups": {
          "groupValue": ""
        }
      },
      "source": [
        "## 1.1 Загрузка данных, разделение на train и test\n",
        "\n",
        "Загрузите данные при помощи torchvision.datasets. Можете предусмотреть опредлённые транфсофрмации картинки, например, изменение размера до 128 px, кроп по центру в 196 px и преобразование к классу torch.Tensor:\n",
        "\n",
        "```\n",
        "import torchvision\n",
        "\n",
        "\n",
        "transform = torchvision.transforms.Compose([\n",
        "    # resize\n",
        "    torchvision.transforms.Resize(128),\n",
        "    torchvision.transforms.CenterCrop(196),\n",
        "    torchvision.transforms.ToTensor()\n",
        "])\n",
        "```"
      ]
    },
    {
      "cell_type": "code",
      "execution_count": 84,
      "metadata": {
        "notebookRunGroups": {
          "groupValue": "1"
        }
      },
      "outputs": [],
      "source": [
        "transform = transforms.Compose([\n",
        "\ttransforms.Resize(24),\n",
        "\ttransforms.CenterCrop(32),\n",
        "\ttransforms.ToTensor()\n",
        "])"
      ]
    },
    {
      "cell_type": "code",
      "execution_count": 85,
      "metadata": {
        "notebookRunGroups": {
          "groupValue": "1"
        }
      },
      "outputs": [],
      "source": [
        "data_train = torchvision.datasets.EMNIST(\n",
        "\troot = './data/sets/letters/', \n",
        "\tsplit = \"letters\", \n",
        "\ttrain = True, \n",
        "\tdownload = True,\n",
        "\ttransform = transform\n",
        ")\n",
        "\n",
        "data_test = torchvision.datasets.EMNIST(\n",
        "\troot = './data/sets/letters/', \n",
        "\tsplit = \"letters\", \n",
        "\ttrain = False, \n",
        "\tdownload = True,\n",
        "\ttransform = transform\n",
        ")"
      ]
    },
    {
      "cell_type": "code",
      "execution_count": 86,
      "metadata": {
        "notebookRunGroups": {
          "groupValue": "1"
        }
      },
      "outputs": [],
      "source": [
        "nbatch = 16\n",
        "trainset = torch.utils.data.DataLoader(\n",
        "\tdata_train, \n",
        "\tbatch_size = nbatch, \n",
        "\tshuffle = True,\n",
        "\tnum_workers=2\n",
        ")\n",
        "testset = torch.utils.data.DataLoader(\n",
        "\tdata_test, \n",
        "\tbatch_size = nbatch, \n",
        "\tshuffle = False,\n",
        "\tnum_workers=2\n",
        ") "
      ]
    },
    {
      "cell_type": "code",
      "execution_count": 87,
      "metadata": {
        "notebookRunGroups": {
          "groupValue": "1"
        }
      },
      "outputs": [
        {
          "name": "stdout",
          "output_type": "stream",
          "text": [
            "z p s r g d e b o s n y p c q p\n"
          ]
        },
        {
          "data": {
            "image/png": "[encoded data removed]",
            "text/plain": [
              "<Figure size 432x288 with 1 Axes>"
            ]
          },
          "metadata": {
            "needs_background": "light"
          },
          "output_type": "display_data"
        }
      ],
      "source": [
        "def imshow(img):\n",
        "    npimg = img.numpy()\n",
        "    plt.axis(\"off\")\n",
        "    npimg = np.transpose(npimg,(2, 1, 0))\n",
        "    plt.imshow(npimg)\n",
        "    plt.show\n",
        "    \n",
        "dataiter = iter(trainset)\n",
        "images, labels = dataiter.next()\n",
        "\n",
        "imshow(torchvision.utils.make_grid(images, nrow = 1))\n",
        "\n",
        "print(\" \".join(str(data_train.classes[labels[j]]) for j in range(nbatch)))"
      ]
    },
    {
      "cell_type": "markdown",
      "metadata": {
        "id": "MYWcgRrZSWfY"
      },
      "source": [
        "## 1.2 Предобработка данных (по необходимости)"
      ]
    },
    {
      "cell_type": "code",
      "execution_count": null,
      "metadata": {
        "id": "C-LVM7AwJ8si"
      },
      "outputs": [],
      "source": []
    },
    {
      "cell_type": "markdown",
      "metadata": {
        "id": "tP7e_V16J9zV"
      },
      "source": [
        "## 1.3 Инициализация объекта свёрточной нейронной сети\n",
        "\n",
        "Создайте нейронную сеть с 2-4 свёрточными слоями. В остальном конфигурация сети может быть произвольной. "
      ]
    },
    {
      "cell_type": "code",
      "execution_count": 88,
      "metadata": {},
      "outputs": [],
      "source": [
        "class EmptyLayer(nn.Module):\n",
        "    def __init__(self):\n",
        "        super().__init__()\n",
        "        \n",
        "    def forward(self, x):\n",
        "        return x"
      ]
    },
    {
      "cell_type": "code",
      "execution_count": 146,
      "metadata": {
        "id": "YcsgF13xhcEa",
        "notebookRunGroups": {
          "groupValue": "1"
        }
      },
      "outputs": [],
      "source": [
        "class CNN(nn.Module):\n",
        "\tdef __init__(self, regularization:dict = None):\n",
        "\t\tsuper(CNN, self).__init__()\n",
        "\t\tself.conv1 = nn.Sequential(\n",
        "\t\t\tnn.Conv2d(\n",
        "\t\t\t\tin_channels = 1, \n",
        "\t\t\t\tout_channels = 32, \n",
        "\t\t\t\tkernel_size = 3,\n",
        "\t\t\t\tstride = 1,\n",
        "\t\t\t\tpadding = 1\n",
        "\t\t\t),\n",
        "\t\t\tEmptyLayer() if not regularization else nn.BatchNorm2d(\n",
        "\t\t\t\t32, \n",
        "\t\t\t\teps = regularization['eps'], \n",
        "\t\t\t\tmomentum = regularization['momentum']\n",
        "\t\t\t),\n",
        "\t\t\tnn.ReLU(),\n",
        "\t\t\tnn.MaxPool2d(\n",
        "\t\t\t\tkernel_size = 2,\n",
        "\t\t\t\tstride = 2\n",
        "\t\t\t),\n",
        "\t\t)\n",
        "\t\tself.conv2 = nn.Sequential(\n",
        "\t\t\tnn.Conv2d(\n",
        "\t\t\t\tin_channels = 32, \n",
        "\t\t\t\tout_channels = 64, \n",
        "\t\t\t\tkernel_size = 3,\n",
        "\t\t\t\tstride = 1,\n",
        "\t\t\t\tpadding = 1\n",
        "\t\t\t),\n",
        "\t\t\tEmptyLayer() if not regularization else nn.BatchNorm2d(\n",
        "\t\t\t\t64, \n",
        "\t\t\t\teps = regularization['eps'], \n",
        "\t\t\t\tmomentum = regularization['momentum']\n",
        "\t\t\t),\n",
        "\t\t\tnn.ReLU(),\n",
        "\t\t\tnn.MaxPool2d(\n",
        "\t\t\t\tkernel_size = 2,\n",
        "\t\t\t\tstride = 2\n",
        "\t\t\t),\n",
        "\t\t)\n",
        "\t\tself.conv3 = nn.Sequential(\n",
        "\t\t\tnn.Conv2d(\n",
        "\t\t\t\tin_channels = 64, \n",
        "\t\t\t\tout_channels = 128, \n",
        "\t\t\t\tkernel_size = 3,\n",
        "\t\t\t\tstride = 1,\n",
        "\t\t\t\tpadding = 1\n",
        "\t\t\t),\n",
        "\t\t\tEmptyLayer() if not regularization else nn.BatchNorm2d(\n",
        "\t\t\t\t128, \n",
        "\t\t\t\teps = regularization['eps'], \n",
        "\t\t\t\tmomentum = regularization['momentum']\n",
        "\t\t\t),\n",
        "\t\t\tnn.ReLU(),\n",
        "\t\t\tnn.Conv2d(\n",
        "\t\t\t\tin_channels = 128, \n",
        "\t\t\t\tout_channels = 256, \n",
        "\t\t\t\tkernel_size = 3,\n",
        "\t\t\t\tstride = 1,\n",
        "\t\t\t\tpadding = 1\n",
        "\t\t\t),\n",
        "\t\t\tEmptyLayer() if not regularization else nn.BatchNorm2d(\n",
        "\t\t\t\t256, \n",
        "\t\t\t\teps = regularization['eps'], \n",
        "\t\t\t\tmomentum = regularization['momentum']\n",
        "\t\t\t),\n",
        "\t\t\tnn.ReLU(),\n",
        "\t\t\tnn.MaxPool2d(\n",
        "\t\t\t\tkernel_size = 2,\n",
        "\t\t\t\tstride = 2\n",
        "\t\t\t),\n",
        "\t\t)\n",
        "\t\tself.out = nn.Sequential(\n",
        "\t\t\tnn.Linear(256 * 4 * 4, 1024),\n",
        "\t\t\tnn.ReLU(),\n",
        "\t\t\tEmptyLayer() if not regularization else nn.Dropout(p = regularization['p']),\n",
        "\t\t\tnn.Linear(1024, 512),\n",
        "\t\t\tnn.ReLU(),\n",
        "\t\t\tEmptyLayer() if not regularization else nn.Dropout(p = regularization['p']),\n",
        "\t\t\tnn.Linear(512, 27),\n",
        "\t\t)\n",
        "\t\t\t\n",
        "\t\n",
        "\tdef forward(self, x):\n",
        "\t\tx = self.conv1(x)\n",
        "\t\tx = self.conv2(x)\n",
        "\t\tx = self.conv3(x)\n",
        "\t\t# flatten the output of conv2 to (batch_size, 32 * 7 * 7)\n",
        "\t\tx = x.view(x.size(0), -1)       \n",
        "\t\toutput = self.out(x)\n",
        "\t\treturn output, x    # return x for visualization\t\t\n",
        "\t\t\n"
      ]
    },
    {
      "cell_type": "code",
      "execution_count": 136,
      "metadata": {
        "notebookRunGroups": {
          "groupValue": "1"
        }
      },
      "outputs": [
        {
          "name": "stdout",
          "output_type": "stream",
          "text": [
            "==========================================================================================\n",
            "Layer (type:depth-idx)                   Output Shape              Param #\n",
            "==========================================================================================\n",
            "├─Sequential: 1-1                        [-1, 32, 16, 16]          --\n",
            "|    └─Conv2d: 2-1                       [-1, 32, 32, 32]          320\n",
            "|    └─EmptyLayer: 2-2                   [-1, 32, 32, 32]          --\n",
            "|    └─ReLU: 2-3                         [-1, 32, 32, 32]          --\n",
            "|    └─MaxPool2d: 2-4                    [-1, 32, 16, 16]          --\n",
            "├─Sequential: 1-2                        [-1, 64, 8, 8]            --\n",
            "|    └─Conv2d: 2-5                       [-1, 64, 16, 16]          18,496\n",
            "|    └─EmptyLayer: 2-6                   [-1, 64, 16, 16]          --\n",
            "|    └─ReLU: 2-7                         [-1, 64, 16, 16]          --\n",
            "|    └─MaxPool2d: 2-8                    [-1, 64, 8, 8]            --\n",
            "├─Sequential: 1-3                        [-1, 256, 4, 4]           --\n",
            "|    └─Conv2d: 2-9                       [-1, 128, 8, 8]           73,856\n",
            "|    └─EmptyLayer: 2-10                  [-1, 128, 8, 8]           --\n",
            "|    └─ReLU: 2-11                        [-1, 128, 8, 8]           --\n",
            "|    └─Conv2d: 2-12                      [-1, 256, 8, 8]           295,168\n",
            "|    └─EmptyLayer: 2-13                  [-1, 256, 8, 8]           --\n",
            "|    └─ReLU: 2-14                        [-1, 256, 8, 8]           --\n",
            "|    └─MaxPool2d: 2-15                   [-1, 256, 4, 4]           --\n",
            "├─Sequential: 1-4                        [-1, 27]                  --\n",
            "|    └─Linear: 2-16                      [-1, 1024]                4,195,328\n",
            "|    └─ReLU: 2-17                        [-1, 1024]                --\n",
            "|    └─EmptyLayer: 2-18                  [-1, 1024]                --\n",
            "|    └─Linear: 2-19                      [-1, 512]                 524,800\n",
            "|    └─ReLU: 2-20                        [-1, 512]                 --\n",
            "|    └─EmptyLayer: 2-21                  [-1, 512]                 --\n",
            "|    └─Linear: 2-22                      [-1, 27]                  13,851\n",
            "==========================================================================================\n",
            "Total params: 5,121,819\n",
            "Trainable params: 5,121,819\n",
            "Non-trainable params: 0\n",
            "Total mult-adds (M): 38.46\n",
            "==========================================================================================\n",
            "Input size (MB): 0.00\n",
            "Forward/backward pass size (MB): 0.57\n",
            "Params size (MB): 19.54\n",
            "Estimated Total Size (MB): 20.12\n",
            "==========================================================================================\n"
          ]
        },
        {
          "data": {
            "text/plain": [
              "==========================================================================================\n",
              "Layer (type:depth-idx)                   Output Shape              Param #\n",
              "==========================================================================================\n",
              "├─Sequential: 1-1                        [-1, 32, 16, 16]          --\n",
              "|    └─Conv2d: 2-1                       [-1, 32, 32, 32]          320\n",
              "|    └─EmptyLayer: 2-2                   [-1, 32, 32, 32]          --\n",
              "|    └─ReLU: 2-3                         [-1, 32, 32, 32]          --\n",
              "|    └─MaxPool2d: 2-4                    [-1, 32, 16, 16]          --\n",
              "├─Sequential: 1-2                        [-1, 64, 8, 8]            --\n",
              "|    └─Conv2d: 2-5                       [-1, 64, 16, 16]          18,496\n",
              "|    └─EmptyLayer: 2-6                   [-1, 64, 16, 16]          --\n",
              "|    └─ReLU: 2-7                         [-1, 64, 16, 16]          --\n",
              "|    └─MaxPool2d: 2-8                    [-1, 64, 8, 8]            --\n",
              "├─Sequential: 1-3                        [-1, 256, 4, 4]           --\n",
              "|    └─Conv2d: 2-9                       [-1, 128, 8, 8]           73,856\n",
              "|    └─EmptyLayer: 2-10                  [-1, 128, 8, 8]           --\n",
              "|    └─ReLU: 2-11                        [-1, 128, 8, 8]           --\n",
              "|    └─Conv2d: 2-12                      [-1, 256, 8, 8]           295,168\n",
              "|    └─EmptyLayer: 2-13                  [-1, 256, 8, 8]           --\n",
              "|    └─ReLU: 2-14                        [-1, 256, 8, 8]           --\n",
              "|    └─MaxPool2d: 2-15                   [-1, 256, 4, 4]           --\n",
              "├─Sequential: 1-4                        [-1, 27]                  --\n",
              "|    └─Linear: 2-16                      [-1, 1024]                4,195,328\n",
              "|    └─ReLU: 2-17                        [-1, 1024]                --\n",
              "|    └─EmptyLayer: 2-18                  [-1, 1024]                --\n",
              "|    └─Linear: 2-19                      [-1, 512]                 524,800\n",
              "|    └─ReLU: 2-20                        [-1, 512]                 --\n",
              "|    └─EmptyLayer: 2-21                  [-1, 512]                 --\n",
              "|    └─Linear: 2-22                      [-1, 27]                  13,851\n",
              "==========================================================================================\n",
              "Total params: 5,121,819\n",
              "Trainable params: 5,121,819\n",
              "Non-trainable params: 0\n",
              "Total mult-adds (M): 38.46\n",
              "==========================================================================================\n",
              "Input size (MB): 0.00\n",
              "Forward/backward pass size (MB): 0.57\n",
              "Params size (MB): 19.54\n",
              "Estimated Total Size (MB): 20.12\n",
              "=========================================================================================="
            ]
          },
          "execution_count": 136,
          "metadata": {},
          "output_type": "execute_result"
        }
      ],
      "source": [
        "cnn = CNN()\n",
        "cnn.cuda()\n",
        "summary(cnn, (1, 32, 32))"
      ]
    },
    {
      "cell_type": "markdown",
      "metadata": {
        "id": "fH3m86cZKMDU"
      },
      "source": [
        "## 1.4 Обучение свёрточной нейронной сети для решения задачи классификации"
      ]
    },
    {
      "cell_type": "code",
      "execution_count": 137,
      "metadata": {
        "id": "qW6LwnnQKQ04",
        "notebookRunGroups": {
          "groupValue": "1"
        }
      },
      "outputs": [],
      "source": [
        "loss_func = nn.CrossEntropyLoss()\n",
        "optimizer = optim.SGD(cnn.parameters(), lr=0.001, momentum=0.9)\n",
        "# optimizer = optim.Adam(cnn.parameters(), lr=0.0001)"
      ]
    },
    {
      "cell_type": "code",
      "execution_count": 173,
      "metadata": {
        "notebookRunGroups": {
          "groupValue": "1"
        }
      },
      "outputs": [],
      "source": [
        "def train(num_epochs, cnn, train_set, dumpName: str, transformation = None):\n",
        "\t\n",
        "\tcnn.train()\n",
        "\t\t\n",
        "\t# Train the model\n",
        "\t__total_step = len(train_set)\n",
        "\t__lossHistory = []\n",
        "\t__accurHistory = []\n",
        "\tprint (\"{:^13} {:^10} {:^10}\".format('Epoch', 'Loss', 'Accuracy'))\t\n",
        "\tfor epoch in range(num_epochs):\n",
        "\t\t__running_loss = 0\n",
        "\t\t__correct_pred = 0\n",
        "\t\t__total_pred = 0\n",
        "\t\tfor i, (images, labels) in enumerate(train_set):\n",
        "\t\t\tif transformation is not None:\n",
        "\t\t\t\timages = transformation(images)\n",
        "\t\t\t# gives batch data, normalize x when iterate train_loader\n",
        "\t\t\tb_x = Variable(images.cuda())   # batch x\n",
        "\t\t\tb_y = Variable(labels.cuda())   # batch y\n",
        "\t\t\toutput = cnn(b_x)[1]            \n",
        "\t\t\tloss = loss_func(output, b_y)\n",
        "\t\t\t# clear gradients for this training step   \n",
        "\t\t\toptimizer.zero_grad()           \n",
        "\t\t\t# \n",
        "\t\t\t_, predicted = output.max(1)\n",
        "\t\t\t__running_loss += loss.item()\n",
        "\t\t\t__total_pred += labels.size(0)\n",
        "\t\t\t__correct_pred += predicted.eq(b_y).sum().item()\n",
        "\t\t\t# backpropagation, compute gradients \n",
        "\t\t\tloss.backward()                # apply gradients             \n",
        "\t\t\toptimizer.step()                \n",
        "\t\tpass\n",
        "\t\t__train_loss = __running_loss/__total_step\n",
        "\t\t__accuracy = 100.*__correct_pred/__total_pred\n",
        "\t\t__lossHistory.append(__train_loss)\n",
        "\t\t__accurHistory.append(__accuracy)\n",
        "\t\tprint (\"[{:>5}/{:<5}] {:^10.4f} {:^10.4f}\".format(epoch + 1, num_epochs, __train_loss, __accuracy))\n",
        "\tpass\n",
        "\ttorch.save(cnn.state_dict(), f'./data/dumps/{dumpName}.dump')\n",
        "\treturn __lossHistory, __accurHistory\n",
        "\t"
      ]
    },
    {
      "cell_type": "code",
      "execution_count": 172,
      "metadata": {
        "notebookRunGroups": {
          "groupValue": ""
        }
      },
      "outputs": [
        {
          "name": "stdout",
          "output_type": "stream",
          "text": [
            "    Epoch        Loss     Accuracy \n",
            "[    1/2    ]   0.6041    81.6747  \n",
            "[    2/2    ]   0.5382    83.5080  \n"
          ]
        },
        {
          "data": {
            "image/png": "[encoded data removed]",
            "text/plain": [
              "<Figure size 432x288 with 1 Axes>"
            ]
          },
          "metadata": {
            "needs_background": "light"
          },
          "output_type": "display_data"
        },
        {
          "data": {
            "image/png": "[encoded data removed]",
            "text/plain": [
              "<Figure size 432x288 with 1 Axes>"
            ]
          },
          "metadata": {
            "needs_background": "light"
          },
          "output_type": "display_data"
        }
      ],
      "source": [
        "num_epochs = 2\n",
        "loadAndTrain = True\n",
        "if  not loadAndTrain and exists('./data/dumps/cnn_1.dump'):\n",
        "\tcnn.load_state_dict(torch.load('./data/dumps/cnn_1.dump'))\n",
        "else:\n",
        "\tif loadAndTrain and exists('./data/dumps/cnn_1.dump'):\n",
        "\t\tcnn.load_state_dict(torch.load('./data/dumps/cnn_1.dump'))\n",
        "\ttrainLoss, trainAccuracy = train(num_epochs, cnn, trainset, 'cnn_1')\n",
        "\tplt.plot(trainLoss)\n",
        "\tplt.xlabel('loss')\n",
        "\tplt.ylabel('epoch')\n",
        "\tplt.show()\n",
        "\tplt.plot(trainAccuracy)\n",
        "\tplt.xlabel('accuracy')\n",
        "\tplt.ylabel('epoch')\n",
        "\tplt.show()"
      ]
    },
    {
      "cell_type": "code",
      "execution_count": 140,
      "metadata": {
        "notebookRunGroups": {
          "groupValue": "1"
        }
      },
      "outputs": [],
      "source": [
        "def test(test_set):\n",
        "    # Test the model\n",
        "    cnn.eval()\n",
        "    __accuracy_list = []\n",
        "\n",
        "    with torch.no_grad():\n",
        "        correct = 0\n",
        "        total = 0\n",
        "        for images, labels in test_set:\n",
        "            test_output, last_layer = cnn(images.cuda())\n",
        "            pred_y = torch.max(test_output, 1)[1].data.squeeze()\n",
        "            accuracy = (pred_y == labels.cuda()).sum().item() / float(labels.cuda().size(0))\n",
        "            __accuracy_list.append(accuracy)\n",
        "            pass\n",
        "        print(f'Проверка точности модели на {len(test_set) * nbatch} тестовых изображениях: {np.average(__accuracy_list)}')\n",
        "    pass\n",
        "    return __accuracy_list"
      ]
    },
    {
      "cell_type": "code",
      "execution_count": 141,
      "metadata": {},
      "outputs": [
        {
          "name": "stdout",
          "output_type": "stream",
          "text": [
            "Проверка точности модели на 20800 тестовых изображениях: 0.9055288461538461\n"
          ]
        },
        {
          "data": {
            "image/png": "[encoded data removed]",
            "text/plain": [
              "<Figure size 432x288 with 1 Axes>"
            ]
          },
          "metadata": {
            "needs_background": "light"
          },
          "output_type": "display_data"
        }
      ],
      "source": [
        "accuracy = test(testset)\n",
        "plt.plot(accuracy)\n",
        "plt.xlabel('batch')\n",
        "plt.ylabel('accuracy')\n",
        "plt.show()"
      ]
    },
    {
      "cell_type": "markdown",
      "metadata": {
        "id": "ML_5LCyrKSv9"
      },
      "source": [
        "## 1.5 Агументация данных и регулряизация нейросети\n",
        "\n",
        "Попобуйте добавить аугументацию (случайные повороты, увеличение, уменьшение) в данные, а также регуляризацию (Drop out и Batch Norm слои) в модель. Как меняется метрика accuracy на обучающей и тестовой выборке в процессе обучения? Постройте график."
      ]
    },
    {
      "cell_type": "code",
      "execution_count": 142,
      "metadata": {
        "notebookRunGroups": {
          "groupValue": "1"
        }
      },
      "outputs": [],
      "source": [
        "randTransform = K.AugmentationSequential(\n",
        "\tK.RandomPerspective(),\n",
        "\tK.RandomAffine(degrees=(-180, 180), scale = (0.5, 1)),\n",
        "\tK.RandomResizedCrop((32,32), scale = (0.2, 1)),\n",
        "\tK.RandomCrop((32,32), padding = 4),\n",
        "\tK.RandomVerticalFlip(),\n",
        "\tK.RandomHorizontalFlip(),\n",
        "\tdata_keys = [\"Input\"],\n",
        "\trandom_apply = (1,),\n",
        "\tsame_on_batch = False\n",
        ")"
      ]
    },
    {
      "cell_type": "code",
      "execution_count": 174,
      "metadata": {
        "notebookRunGroups": {
          "groupValue": "1"
        }
      },
      "outputs": [
        {
          "name": "stdout",
          "output_type": "stream",
          "text": [
            "i c f v h k m h p u p o u a s s\n"
          ]
        },
        {
          "data": {
            "image/png": "[encoded data removed]",
            "text/plain": [
              "<Figure size 432x288 with 1 Axes>"
            ]
          },
          "metadata": {
            "needs_background": "light"
          },
          "output_type": "display_data"
        }
      ],
      "source": [
        "dataiter = iter(trainset)\n",
        "images, labels = dataiter.next()\n",
        "images = randTransform(images)\n",
        "\n",
        "imshow(torchvision.utils.make_grid(images, nrow = 1))\n",
        "\n",
        "print(\" \".join(str(data_train.classes[labels[j]]) for j in range(nbatch)))"
      ]
    },
    {
      "cell_type": "code",
      "execution_count": 147,
      "metadata": {},
      "outputs": [
        {
          "name": "stdout",
          "output_type": "stream",
          "text": [
            "==========================================================================================\n",
            "Layer (type:depth-idx)                   Output Shape              Param #\n",
            "==========================================================================================\n",
            "├─Sequential: 1-1                        [-1, 32, 16, 16]          --\n",
            "|    └─Conv2d: 2-1                       [-1, 32, 32, 32]          320\n",
            "|    └─BatchNorm2d: 2-2                  [-1, 32, 32, 32]          64\n",
            "|    └─ReLU: 2-3                         [-1, 32, 32, 32]          --\n",
            "|    └─MaxPool2d: 2-4                    [-1, 32, 16, 16]          --\n",
            "├─Sequential: 1-2                        [-1, 64, 8, 8]            --\n",
            "|    └─Conv2d: 2-5                       [-1, 64, 16, 16]          18,496\n",
            "|    └─BatchNorm2d: 2-6                  [-1, 64, 16, 16]          128\n",
            "|    └─ReLU: 2-7                         [-1, 64, 16, 16]          --\n",
            "|    └─MaxPool2d: 2-8                    [-1, 64, 8, 8]            --\n",
            "├─Sequential: 1-3                        [-1, 256, 4, 4]           --\n",
            "|    └─Conv2d: 2-9                       [-1, 128, 8, 8]           73,856\n",
            "|    └─BatchNorm2d: 2-10                 [-1, 128, 8, 8]           256\n",
            "|    └─ReLU: 2-11                        [-1, 128, 8, 8]           --\n",
            "|    └─Conv2d: 2-12                      [-1, 256, 8, 8]           295,168\n",
            "|    └─BatchNorm2d: 2-13                 [-1, 256, 8, 8]           512\n",
            "|    └─ReLU: 2-14                        [-1, 256, 8, 8]           --\n",
            "|    └─MaxPool2d: 2-15                   [-1, 256, 4, 4]           --\n",
            "├─Sequential: 1-4                        [-1, 27]                  --\n",
            "|    └─Linear: 2-16                      [-1, 1024]                4,195,328\n",
            "|    └─ReLU: 2-17                        [-1, 1024]                --\n",
            "|    └─Dropout: 2-18                     [-1, 1024]                --\n",
            "|    └─Linear: 2-19                      [-1, 512]                 524,800\n",
            "|    └─ReLU: 2-20                        [-1, 512]                 --\n",
            "|    └─Dropout: 2-21                     [-1, 512]                 --\n",
            "|    └─Linear: 2-22                      [-1, 27]                  13,851\n",
            "==========================================================================================\n",
            "Total params: 5,122,779\n",
            "Trainable params: 5,122,779\n",
            "Non-trainable params: 0\n",
            "Total mult-adds (M): 38.46\n",
            "==========================================================================================\n",
            "Input size (MB): 0.00\n",
            "Forward/backward pass size (MB): 1.14\n",
            "Params size (MB): 19.54\n",
            "Estimated Total Size (MB): 20.68\n",
            "==========================================================================================\n"
          ]
        },
        {
          "data": {
            "text/plain": [
              "==========================================================================================\n",
              "Layer (type:depth-idx)                   Output Shape              Param #\n",
              "==========================================================================================\n",
              "├─Sequential: 1-1                        [-1, 32, 16, 16]          --\n",
              "|    └─Conv2d: 2-1                       [-1, 32, 32, 32]          320\n",
              "|    └─BatchNorm2d: 2-2                  [-1, 32, 32, 32]          64\n",
              "|    └─ReLU: 2-3                         [-1, 32, 32, 32]          --\n",
              "|    └─MaxPool2d: 2-4                    [-1, 32, 16, 16]          --\n",
              "├─Sequential: 1-2                        [-1, 64, 8, 8]            --\n",
              "|    └─Conv2d: 2-5                       [-1, 64, 16, 16]          18,496\n",
              "|    └─BatchNorm2d: 2-6                  [-1, 64, 16, 16]          128\n",
              "|    └─ReLU: 2-7                         [-1, 64, 16, 16]          --\n",
              "|    └─MaxPool2d: 2-8                    [-1, 64, 8, 8]            --\n",
              "├─Sequential: 1-3                        [-1, 256, 4, 4]           --\n",
              "|    └─Conv2d: 2-9                       [-1, 128, 8, 8]           73,856\n",
              "|    └─BatchNorm2d: 2-10                 [-1, 128, 8, 8]           256\n",
              "|    └─ReLU: 2-11                        [-1, 128, 8, 8]           --\n",
              "|    └─Conv2d: 2-12                      [-1, 256, 8, 8]           295,168\n",
              "|    └─BatchNorm2d: 2-13                 [-1, 256, 8, 8]           512\n",
              "|    └─ReLU: 2-14                        [-1, 256, 8, 8]           --\n",
              "|    └─MaxPool2d: 2-15                   [-1, 256, 4, 4]           --\n",
              "├─Sequential: 1-4                        [-1, 27]                  --\n",
              "|    └─Linear: 2-16                      [-1, 1024]                4,195,328\n",
              "|    └─ReLU: 2-17                        [-1, 1024]                --\n",
              "|    └─Dropout: 2-18                     [-1, 1024]                --\n",
              "|    └─Linear: 2-19                      [-1, 512]                 524,800\n",
              "|    └─ReLU: 2-20                        [-1, 512]                 --\n",
              "|    └─Dropout: 2-21                     [-1, 512]                 --\n",
              "|    └─Linear: 2-22                      [-1, 27]                  13,851\n",
              "==========================================================================================\n",
              "Total params: 5,122,779\n",
              "Trainable params: 5,122,779\n",
              "Non-trainable params: 0\n",
              "Total mult-adds (M): 38.46\n",
              "==========================================================================================\n",
              "Input size (MB): 0.00\n",
              "Forward/backward pass size (MB): 1.14\n",
              "Params size (MB): 19.54\n",
              "Estimated Total Size (MB): 20.68\n",
              "=========================================================================================="
            ]
          },
          "execution_count": 147,
          "metadata": {},
          "output_type": "execute_result"
        }
      ],
      "source": [
        "cnnR = CNN(\n",
        "\tregularization={\n",
        "\t\t'eps': 0.00001,\t\t# default 'eps': 0.00001\n",
        "\t\t'momentum': 0.1, \t# default 'momentum': 0.1\n",
        "\t\t'p': 0.5\t\t\t# default 'p': 0.5\n",
        "\t}\n",
        ")\n",
        "cnnR.cuda()\n",
        "summary(cnnR, (1, 32, 32))"
      ]
    },
    {
      "cell_type": "markdown",
      "metadata": {
        "id": "aTD5QBT-bsnu"
      },
      "source": [
        "## 1.6 Обучение нейросети на данных с аугументацией "
      ]
    },
    {
      "cell_type": "code",
      "execution_count": 175,
      "metadata": {
        "id": "rmlsO4C2bsii"
      },
      "outputs": [
        {
          "name": "stdout",
          "output_type": "stream",
          "text": [
            "    Epoch        Loss     Accuracy \n",
            "[    1/2    ]   8.6932     0.0144  \n",
            "[    2/2    ]   8.6922     0.0096  \n"
          ]
        },
        {
          "data": {
            "image/png": "[encoded data removed]",
            "text/plain": [
              "<Figure size 432x288 with 1 Axes>"
            ]
          },
          "metadata": {
            "needs_background": "light"
          },
          "output_type": "display_data"
        },
        {
          "data": {
            "image/png": "[encoded data removed]",
            "text/plain": [
              "<Figure size 432x288 with 1 Axes>"
            ]
          },
          "metadata": {
            "needs_background": "light"
          },
          "output_type": "display_data"
        }
      ],
      "source": [
        "num_epochs = 2\n",
        "loadAndTrain = False\n",
        "if  not loadAndTrain and exists('./data/dumps/cnn_2.dump'):\n",
        "\tcnnR.load_state_dict(torch.load('./data/dumps/cnn_2.dump'))\n",
        "else:\n",
        "\tif loadAndTrain and exists('./data/dumps/cnn_2.dump'):\n",
        "\t\tcnnR.load_state_dict(torch.load('./data/dumps/cnn_2.dump'))\n",
        "\ttrainLoss,trainAccuracy = train(num_epochs, cnnR, trainset, 'cnn_2', randTransform)\n",
        "\tplt.plot(trainLoss)\n",
        "\tplt.xlabel('loss')\n",
        "\tplt.ylabel('epoch')\n",
        "\tplt.show()\n",
        "\tplt.plot(trainAccuracy)\n",
        "\tplt.xlabel('accuracy')\n",
        "\tplt.ylabel('epoch')\n",
        "\tplt.show()"
      ]
    },
    {
      "cell_type": "code",
      "execution_count": 176,
      "metadata": {},
      "outputs": [
        {
          "name": "stdout",
          "output_type": "stream",
          "text": [
            "Проверка точности модели на 20800 тестовых изображениях: 0.07807692307692307\n"
          ]
        },
        {
          "data": {
            "image/png": "[encoded data removed]",
            "text/plain": [
              "<Figure size 432x288 with 1 Axes>"
            ]
          },
          "metadata": {
            "needs_background": "light"
          },
          "output_type": "display_data"
        }
      ],
      "source": [
        "accuracyWithAug = test(testset)\n",
        "plt.plot(accuracyWithAug, color='b', label='with augmentation')\n",
        "plt.plot(accuracy, color='r', label='without augmentation')\n",
        "plt.xlabel('batch')\n",
        "plt.ylabel('accuracy')\n",
        "plt.legend()\n",
        "plt.show()"
      ]
    },
    {
      "cell_type": "markdown",
      "metadata": {
        "id": "uydqxWwQKWYQ"
      },
      "source": [
        "## 1.7 Выводы\n",
        "\n",
        "> Что удалось попробовать? Что получилось, а что — нет? Повлияло ли добавление аугументации на качество?\n",
        "\n",
        "В ходе выполения задания была создана структура свёрточной нейронной сети, основой которой послужила AlexNet. Обучение собственной нейронной сети дало результаты, представленные на графиках. Регуляриязация приводит к тому, что увеличивается точноть классификации, что в совокупности с аугментацией тренировочных датасетов даёт преимущество."
      ]
    },
    {
      "cell_type": "markdown",
      "metadata": {
        "id": "D5G-61iAKh0A"
      },
      "source": [
        "# 2. Рекуррентная нейронная сеть для генерации текстов (9 баллов)"
      ]
    },
    {
      "cell_type": "markdown",
      "metadata": {
        "id": "BIVlZeMLKwc6"
      },
      "source": [
        "## 2.1 Загрузка данных\n",
        "\n"
      ]
    },
    {
      "cell_type": "code",
      "execution_count": null,
      "metadata": {
        "id": "m0CBKtrJL9kt"
      },
      "outputs": [],
      "source": []
    },
    {
      "cell_type": "markdown",
      "metadata": {
        "id": "v4TTaWpIKwc9"
      },
      "source": [
        "## 2.2 Преодбработка/нормализация данных по необходимости\n",
        "\n",
        "Например, можно привести все слова к нижнему регистру"
      ]
    },
    {
      "cell_type": "code",
      "execution_count": null,
      "metadata": {
        "id": "qtBeZ7VRVfxn"
      },
      "outputs": [],
      "source": []
    },
    {
      "cell_type": "markdown",
      "metadata": {
        "id": "7xeKpLH3Kwc9"
      },
      "source": [
        "## 2.3 Инициализация объекта рекуррентной нейронной сети"
      ]
    },
    {
      "cell_type": "code",
      "execution_count": null,
      "metadata": {
        "id": "mjsbLlkVSwiL"
      },
      "outputs": [],
      "source": []
    },
    {
      "cell_type": "markdown",
      "metadata": {
        "id": "liOZimvTKwc-"
      },
      "source": [
        "## 2.4 Обучение обычной рекуррентной нейронной сети"
      ]
    },
    {
      "cell_type": "code",
      "execution_count": null,
      "metadata": {
        "id": "DfTeyL-eS-nZ"
      },
      "outputs": [],
      "source": []
    },
    {
      "cell_type": "markdown",
      "metadata": {
        "id": "2K6Inp-qKwc_"
      },
      "source": [
        "## 2.5 Генерация текстов при помощи обычной рекуррентной сети"
      ]
    },
    {
      "cell_type": "code",
      "execution_count": null,
      "metadata": {
        "id": "JRt6j0VsKhdW"
      },
      "outputs": [],
      "source": []
    },
    {
      "cell_type": "markdown",
      "metadata": {
        "id": "PQIhCxJsLRZA"
      },
      "source": [
        "## 2.6 Обучение рекуррентной нейронной сети с LSTM-ячейками"
      ]
    },
    {
      "cell_type": "code",
      "execution_count": null,
      "metadata": {
        "id": "hzGeu7iXLRfl"
      },
      "outputs": [],
      "source": []
    },
    {
      "cell_type": "markdown",
      "metadata": {
        "id": "hodfK4dxLWO3"
      },
      "source": [
        "## 2.7 Генерация текстов с разной температурой\n",
        "\n",
        "Попробуйте сгенерировать тексты с температурой из списка: `[0.1, 0.2, 0.4, 0.6, 0.8, 1.0]` (см. нотубук с семинара по RNN)"
      ]
    },
    {
      "cell_type": "code",
      "execution_count": null,
      "metadata": {
        "id": "5SsbA8hSLWWJ"
      },
      "outputs": [],
      "source": []
    },
    {
      "cell_type": "markdown",
      "metadata": {
        "id": "wmkAq2N7LdzA"
      },
      "source": [
        "## 2.8 Выводы"
      ]
    },
    {
      "cell_type": "markdown",
      "metadata": {
        "id": "KdFzjKnbV4yG"
      },
      "source": []
    }
  ],
  "metadata": {
    "accelerator": "GPU",
    "colab": {
      "collapsed_sections": [],
      "name": "oirs_hw_3.ipynb",
      "provenance": []
    },
    "interpreter": {
      "hash": "f45b512e9d6597108c983dc14036aa59df50132be952a879b132e54811f3c585"
    },
    "kernelspec": {
      "display_name": "Python 3.10.5 64-bit (windows store)",
      "language": "python",
      "name": "python3"
    },
    "language_info": {
      "codemirror_mode": {
        "name": "ipython",
        "version": 3
      },
      "file_extension": ".py",
      "mimetype": "text/x-python",
      "name": "python",
      "nbconvert_exporter": "python",
      "pygments_lexer": "ipython3",
      "version": "3.10.5"
    }
  },
  "nbformat": 4,
  "nbformat_minor": 0
}
