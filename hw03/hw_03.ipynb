{
  "cells": [
    {
      "cell_type": "markdown",
      "metadata": {
        "id": "7uLSt3vBI0zr"
      },
      "source": [
        "# Домашнее задание 3. Свёрточные и рекуррентные нейронные сети\n",
        "## Фамилия Имя Группа"
      ]
    },
    {
      "cell_type": "markdown",
      "metadata": {
        "id": "2JxNVonhRMgf"
      },
      "source": [
        "В зависимости от варианта, для решения задачи используйте следующие наборы данных:\n",
        "\n",
        "<table>\n",
        "    <thead>\n",
        "         <tr>\n",
        "            <th colspan=1>Задача генерации</th>\n",
        "            <th colspan=5>Задача классификации</th>\n",
        "        </tr>\n",
        "        <tr>\n",
        "            <th> </th>\n",
        "            <th>A</th>\n",
        "            <th>B</th>\n",
        "            <th style=\"background-color:red; color:white\">C</th>\n",
        "            <th>D</th>\n",
        "            <th>E</th>\n",
        "        </tr>\n",
        "    </thead>\n",
        "    <tbody>\n",
        "        <tr>\n",
        "            <td>K</td>\n",
        "            <td>1</td>\n",
        "            <td>2</td>\n",
        "            <td>3</td>\n",
        "            <td>4</td>\n",
        "            <td>5</td>\n",
        "        </tr>\n",
        "        <tr>\n",
        "            <td style=\"background-color:red; color:white\">L</td>\n",
        "            <td>6</td>\n",
        "            <td>7</td>\n",
        "            <td style=\"background-color:red; color:white\">8</td>\n",
        "            <td>9</td>\n",
        "            <td>10</td>\n",
        "        </tr>\n",
        "        <tr>\n",
        "            <td>M</td>\n",
        "            <td>11</td>\n",
        "            <td>12</td>\n",
        "            <td>13</td>\n",
        "            <td>14</td>\n",
        "            <td>15</td>\n",
        "        </tr>\n",
        "        <tr>\n",
        "            <td>N</td>\n",
        "            <td>16</td>\n",
        "            <td>17</td>\n",
        "            <td>18</td>\n",
        "            <td>19</td>\n",
        "            <td>20</td>\n",
        "        </tr>\n",
        "        <tr>\n",
        "            <td>O</td>\n",
        "            <td>21</td>\n",
        "            <td>22</td>\n",
        "            <td>23</td>\n",
        "            <td>24</td>\n",
        "            <td>25</td>\n",
        "        </tr>\n",
        "    </tbody>\n",
        "</table>\n",
        "\n",
        "### Наборы данных\n",
        "\n",
        "**Задача классификации картинок**\n",
        "\n",
        "A. [Набор данных \"Fashion MNIST\"](https://pytorch.org/vision/main/generated/torchvision.datasets.FashionMNIST.html) `torchvision.datasets.FashionMNIST train=True и False`\n",
        "\n",
        "B. [Набор данных \"Текстуры\"](https://pytorch.org/vision/main/generated/torchvision.datasets.DTD.html#torchvision.datasets.DTD) `torchvision.datasets.DTD split='train' и 'test'`\n",
        "\n",
        "C. **[Набор данных \"Буквы\"](https://pytorch.org/vision/main/generated/torchvision.datasets.EMNIST.html#torchvision.datasets.EMNIST)** `torchvision.datasets.EMNIST split=letters train=True и False`\n",
        "\n",
        "D. [Набор данных \"Кошки и собаки\"](https://pytorch.org/vision/main/generated/torchvision.datasets.OxfordIIITPet.html) `torchvision.datasets.OxfordIIITPet split = 'trainval' и 'test'` (объекты разбиты по породам (всего 37 пород), нужно построить бинарный классификатор собак и кошек)\n",
        "\n",
        "E. [Набор данных \"Дорожные знаки\"](https://pytorch.org/vision/main/generated/torchvision.datasets.GTSRB.html) `torchvision.datasets.GTSRB split = 'train' и 'test'`\n",
        "\n",
        "\n",
        "---\n",
        "\n",
        "**Задача генерации текстов**\n",
        "\n",
        "K. [Набор данных \"Евгений Онегин\"]() `onegin.txt`\n",
        "\n",
        "L. **[Набор данных \"Война и Мир\"]() `war_and_piece.txt`**\n",
        "\n",
        "M. [Набор данных \"Стихи\"]() `stihi.csv`\n",
        "\n",
        "N. [Набор данных \"Сказки\"]() `fairytales.txt`\n",
        "\n",
        "O. [Набор данных \"Новости\"]() `news.txt` или https://github.com/yutkin/Lenta.Ru-News-Dataset/releases"
      ]
    },
    {
      "cell_type": "markdown",
      "metadata": {
        "id": "zsqatIg_JBu7"
      },
      "source": [
        "# 0. Инициализация библиотек"
      ]
    },
    {
      "cell_type": "code",
      "execution_count": 1,
      "metadata": {
        "id": "WGZt4ftTJxg4",
        "notebookRunGroups": {
          "groupValue": "1"
        }
      },
      "outputs": [],
      "source": [
        "import torch\n",
        "import torchvision\n",
        "import numpy as np\n",
        "import torch.nn as nn\n",
        "from torch import optim\n",
        "from os.path import exists\n",
        "import kornia.augmentation as K\n",
        "import matplotlib.pyplot as plt\n",
        "from torchinfo import summary\n",
        "import torchvision.transforms as transforms"
      ]
    },
    {
      "cell_type": "markdown",
      "metadata": {
        "id": "aGY7pMa8_vhU"
      },
      "source": [
        "Подсказка по разделению пород на два класса\n",
        "```\n",
        "import torchvision\n",
        "\n",
        "# Все классы\n",
        "len(torchvision.datasets.OxfordIIITPet(root='data_train', download=True).classes)\n",
        "\n",
        "# кошки\n",
        "cats = ['Abyssinian', 'Bengal', 'Birman', 'Bombay', 'British Shorthair', 'Egyptian Mau', 'Maine Coon', 'Persian', 'Ragdoll', 'Russian Blue', 'Siamese', 'Sphynx']\n",
        "\n",
        "# собаки\n",
        "dogs = ['American Bulldog', 'American Pit Bull Terrier', 'Basset Hound', 'Beagle', 'Boxer', 'Chihuahua', 'English Cocker Spaniel', 'English Setter', 'German Shorthaired', 'Great Pyrenees',\n",
        "        'Havanese', 'Japanese Chin', 'Keeshond', 'Leonberger', 'Miniature Pinscher', 'Newfoundland', 'Pomeranian', 'Pug', 'Saint Bernard', 'Samoyed', 'Scottish Terrier', 'Shiba Inu',\n",
        "        'Staffordshire Bull Terrier', 'Wheaten Terrier', 'Yorkshire Terrier']\n",
        "```"
      ]
    },
    {
      "cell_type": "markdown",
      "metadata": {
        "id": "5oGgl1uGJBxH"
      },
      "source": [
        "# 1. Свёрточная нейронная сеть для классификации изображений (9 баллов)"
      ]
    },
    {
      "cell_type": "markdown",
      "metadata": {
        "id": "qV47VXssLKa9",
        "notebookRunGroups": {
          "groupValue": ""
        }
      },
      "source": [
        "## 1.1 Загрузка данных, разделение на train и test\n",
        "\n",
        "Загрузите данные при помощи torchvision.datasets. Можете предусмотреть опредлённые транфсофрмации картинки, например, изменение размера до 128 px, кроп по центру в 196 px и преобразование к классу torch.Tensor:\n",
        "\n",
        "```\n",
        "import torchvision\n",
        "\n",
        "\n",
        "transform = torchvision.transforms.Compose([\n",
        "    # resize\n",
        "    torchvision.transforms.Resize(128),\n",
        "    torchvision.transforms.CenterCrop(196),\n",
        "    torchvision.transforms.ToTensor()\n",
        "])\n",
        "```"
      ]
    },
    {
      "cell_type": "code",
      "execution_count": 2,
      "metadata": {
        "notebookRunGroups": {
          "groupValue": "1"
        }
      },
      "outputs": [],
      "source": [
        "transform = transforms.Compose([\n",
        "\ttransforms.Resize(24),\n",
        "\ttransforms.CenterCrop(32),\n",
        "\ttransforms.ToTensor()\n",
        "])"
      ]
    },
    {
      "cell_type": "code",
      "execution_count": 4,
      "metadata": {
        "notebookRunGroups": {
          "groupValue": "1"
        }
      },
      "outputs": [],
      "source": [
        "data_train = torchvision.datasets.EMNIST(\n",
        "\troot = './data/letters/', \n",
        "\tsplit = \"letters\", \n",
        "\ttrain = True, \n",
        "\tdownload = True,\n",
        "\ttransform = transform\n",
        ")\n",
        "\n",
        "data_test = torchvision.datasets.EMNIST(\n",
        "\troot = './data/letters/', \n",
        "\tsplit = \"letters\", \n",
        "\ttrain = False, \n",
        "\tdownload = True,\n",
        "\ttransform = transform\n",
        ")"
      ]
    },
    {
      "cell_type": "code",
      "execution_count": 21,
      "metadata": {
        "notebookRunGroups": {
          "groupValue": "1"
        }
      },
      "outputs": [],
      "source": [
        "nbatch = 16\n",
        "trainset = torch.utils.data.DataLoader(\n",
        "\tdata_train, \n",
        "\tbatch_size = nbatch, \n",
        "\tshuffle = True,\n",
        "\tnum_workers=2\n",
        ")\n",
        "testset = torch.utils.data.DataLoader(\n",
        "\tdata_test, \n",
        "\tbatch_size = nbatch, \n",
        "\tshuffle = False,\n",
        "\tnum_workers=2\n",
        ") "
      ]
    },
    {
      "cell_type": "code",
      "execution_count": 6,
      "metadata": {
        "notebookRunGroups": {
          "groupValue": "1"
        }
      },
      "outputs": [
        {
          "name": "stdout",
          "output_type": "stream",
          "text": [
            "y u d m w u r m f k k k p l y n\n"
          ]
        },
        {
          "data": {
            "image/png": "[encoded data removed]",
            "text/plain": [
              "<Figure size 432x288 with 1 Axes>"
            ]
          },
          "metadata": {
            "needs_background": "light"
          },
          "output_type": "display_data"
        }
      ],
      "source": [
        "def imshow(img):\n",
        "    npimg = img.numpy()\n",
        "    plt.axis(\"off\")\n",
        "    npimg = np.transpose(npimg,(2, 1, 0))\n",
        "    plt.imshow(npimg)\n",
        "    plt.show\n",
        "    \n",
        "dataiter = iter(trainset)\n",
        "images, labels = dataiter.next()\n",
        "\n",
        "imshow(torchvision.utils.make_grid(images, nrow = 1))\n",
        "\n",
        "print(\" \".join(str(data_train.classes[labels[j]]) for j in range(nbatch)))"
      ]
    },
    {
      "cell_type": "markdown",
      "metadata": {
        "id": "MYWcgRrZSWfY"
      },
      "source": [
        "## 1.2 Предобработка данных (по необходимости)"
      ]
    },
    {
      "cell_type": "code",
      "execution_count": null,
      "metadata": {
        "id": "C-LVM7AwJ8si"
      },
      "outputs": [],
      "source": []
    },
    {
      "cell_type": "markdown",
      "metadata": {
        "id": "tP7e_V16J9zV"
      },
      "source": [
        "## 1.3 Инициализация объекта свёрточной нейронной сети\n",
        "\n",
        "Создайте нейронную сеть с 2-4 свёрточными слоями. В остальном конфигурация сети может быть произвольной. "
      ]
    },
    {
      "cell_type": "code",
      "execution_count": 7,
      "metadata": {},
      "outputs": [],
      "source": [
        "class EmptyLayer(nn.Module):\n",
        "    def __init__(self):\n",
        "        super().__init__()\n",
        "        \n",
        "    def forward(self, x):\n",
        "        return x"
      ]
    },
    {
      "cell_type": "code",
      "execution_count": 8,
      "metadata": {
        "id": "YcsgF13xhcEa",
        "notebookRunGroups": {
          "groupValue": "1"
        }
      },
      "outputs": [],
      "source": [
        "class CNN(nn.Module):\n",
        "\tdef __init__(self, regularization:dict = None):\n",
        "\t\tsuper(CNN, self).__init__()\n",
        "\t\tself.conv1 = nn.Sequential(\n",
        "\t\t\tnn.Conv2d(\n",
        "\t\t\t\tin_channels = 1, \n",
        "\t\t\t\tout_channels = 32, \n",
        "\t\t\t\tkernel_size = 3,\n",
        "\t\t\t\tstride = 1,\n",
        "\t\t\t\tpadding = 1\n",
        "\t\t\t),\n",
        "\t\t\tnn.ReLU(),\n",
        "\t\t\tEmptyLayer() if not regularization else nn.BatchNorm2d(\n",
        "\t\t\t\t32, \n",
        "\t\t\t\teps = regularization['eps'], \n",
        "\t\t\t\tmomentum = regularization['momentum']\n",
        "\t\t\t),\n",
        "\t\t\tnn.MaxPool2d(\n",
        "\t\t\t\tkernel_size = 2,\n",
        "\t\t\t\tstride = 2\n",
        "\t\t\t),\n",
        "\t\t)\n",
        "\t\tself.conv2 = nn.Sequential(\n",
        "\t\t\tnn.Conv2d(\n",
        "\t\t\t\tin_channels = 32, \n",
        "\t\t\t\tout_channels = 64, \n",
        "\t\t\t\tkernel_size = 3,\n",
        "\t\t\t\tstride = 1,\n",
        "\t\t\t\tpadding = 1\n",
        "\t\t\t),\n",
        "\t\t\tnn.ReLU(),\n",
        "\t\t\tEmptyLayer() if not regularization else nn.BatchNorm2d(\n",
        "\t\t\t\t64, \n",
        "\t\t\t\teps = regularization['eps'], \n",
        "\t\t\t\tmomentum = regularization['momentum']\n",
        "\t\t\t),\n",
        "\t\t\tnn.MaxPool2d(\n",
        "\t\t\t\tkernel_size = 2,\n",
        "\t\t\t\tstride = 2\n",
        "\t\t\t),\n",
        "\t\t)\n",
        "\t\tself.conv3 = nn.Sequential(\n",
        "\t\t\tnn.Conv2d(\n",
        "\t\t\t\tin_channels = 64, \n",
        "\t\t\t\tout_channels = 128, \n",
        "\t\t\t\tkernel_size = 3,\n",
        "\t\t\t\tstride = 1,\n",
        "\t\t\t\tpadding = 1\n",
        "\t\t\t),\n",
        "\t\t\tnn.ReLU(),\n",
        "\t\t\tnn.Conv2d(\n",
        "\t\t\t\tin_channels = 128, \n",
        "\t\t\t\tout_channels = 256, \n",
        "\t\t\t\tkernel_size = 3,\n",
        "\t\t\t\tstride = 1,\n",
        "\t\t\t\tpadding = 1\n",
        "\t\t\t),\n",
        "\t\t\tnn.ReLU(),\n",
        "\t\t\tEmptyLayer() if not regularization else nn.BatchNorm2d(\n",
        "\t\t\t\t256, \n",
        "\t\t\t\teps = regularization['eps'], \n",
        "\t\t\t\tmomentum = regularization['momentum']\n",
        "\t\t\t),\n",
        "\t\t\tnn.MaxPool2d(\n",
        "\t\t\t\tkernel_size = 2,\n",
        "\t\t\t\tstride = 2\n",
        "\t\t\t),\n",
        "\t\t)\n",
        "\t\tself.out = nn.Sequential(\n",
        "\t\t\tnn.Linear(256 * 4 * 4, 1024),\n",
        "\t\t\tnn.ReLU(),\n",
        "\t\t\tEmptyLayer() if not regularization else nn.Dropout(p = regularization['p']),\n",
        "\t\t\tnn.Linear(1024, 512),\n",
        "\t\t\tnn.ReLU(),\n",
        "\t\t\tEmptyLayer() if not regularization else nn.Dropout(p = regularization['p']),\n",
        "\t\t\tnn.Linear(512, 27),\n",
        "\t\t)\n",
        "\t\t\t\n",
        "\tdef forward(self, x):\n",
        "\t\tx = self.conv1(x)\n",
        "\t\tx = self.conv2(x)\n",
        "\t\tx = self.conv3(x)\n",
        "\t\t# flatten the output of conv2 to (batch_size, 32 * 7 * 7)\n",
        "\t\tx = x.view(x.size(0), -1)       \n",
        "\t\toutput = self.out(x)\n",
        "\t\treturn output, x    # return x for visualization\t\t\n",
        "\t\t\n"
      ]
    },
    {
      "cell_type": "code",
      "execution_count": 9,
      "metadata": {},
      "outputs": [],
      "source": [
        "device = torch.device(\"cuda:0\" if torch.cuda.is_available() else \"cpu\")"
      ]
    },
    {
      "cell_type": "code",
      "execution_count": 16,
      "metadata": {
        "notebookRunGroups": {
          "groupValue": "1"
        }
      },
      "outputs": [
        {
          "data": {
            "text/plain": [
              "==========================================================================================\n",
              "Layer (type:depth-idx)                   Output Shape              Param #\n",
              "==========================================================================================\n",
              "CNN                                      [16, 27]                  --\n",
              "├─Sequential: 1-1                        [16, 32, 16, 16]          --\n",
              "│    └─Conv2d: 2-1                       [16, 32, 32, 32]          320\n",
              "│    └─ReLU: 2-2                         [16, 32, 32, 32]          --\n",
              "│    └─EmptyLayer: 2-3                   [16, 32, 32, 32]          --\n",
              "│    └─MaxPool2d: 2-4                    [16, 32, 16, 16]          --\n",
              "├─Sequential: 1-2                        [16, 64, 8, 8]            --\n",
              "│    └─Conv2d: 2-5                       [16, 64, 16, 16]          18,496\n",
              "│    └─ReLU: 2-6                         [16, 64, 16, 16]          --\n",
              "│    └─EmptyLayer: 2-7                   [16, 64, 16, 16]          --\n",
              "│    └─MaxPool2d: 2-8                    [16, 64, 8, 8]            --\n",
              "├─Sequential: 1-3                        [16, 256, 4, 4]           --\n",
              "│    └─Conv2d: 2-9                       [16, 128, 8, 8]           73,856\n",
              "│    └─ReLU: 2-10                        [16, 128, 8, 8]           --\n",
              "│    └─Conv2d: 2-11                      [16, 256, 8, 8]           295,168\n",
              "│    └─ReLU: 2-12                        [16, 256, 8, 8]           --\n",
              "│    └─EmptyLayer: 2-13                  [16, 256, 8, 8]           --\n",
              "│    └─MaxPool2d: 2-14                   [16, 256, 4, 4]           --\n",
              "├─Sequential: 1-4                        [16, 27]                  --\n",
              "│    └─Linear: 2-15                      [16, 1024]                4,195,328\n",
              "│    └─ReLU: 2-16                        [16, 1024]                --\n",
              "│    └─EmptyLayer: 2-17                  [16, 1024]                --\n",
              "│    └─Linear: 2-18                      [16, 512]                 524,800\n",
              "│    └─ReLU: 2-19                        [16, 512]                 --\n",
              "│    └─EmptyLayer: 2-20                  [16, 512]                 --\n",
              "│    └─Linear: 2-21                      [16, 27]                  13,851\n",
              "==========================================================================================\n",
              "Total params: 5,121,819\n",
              "Trainable params: 5,121,819\n",
              "Non-trainable params: 0\n",
              "Total mult-adds (M): 534.63\n",
              "==========================================================================================\n",
              "Input size (MB): 0.07\n",
              "Forward/backward pass size (MB): 9.64\n",
              "Params size (MB): 20.49\n",
              "Estimated Total Size (MB): 30.19\n",
              "=========================================================================================="
            ]
          },
          "execution_count": 16,
          "metadata": {},
          "output_type": "execute_result"
        }
      ],
      "source": [
        "cnn = CNN().to(device)\n",
        "summary(cnn, input_size = (nbatch, 1, 32, 32))"
      ]
    },
    {
      "cell_type": "markdown",
      "metadata": {
        "id": "fH3m86cZKMDU"
      },
      "source": [
        "## 1.4 Обучение свёрточной нейронной сети для решения задачи классификации"
      ]
    },
    {
      "cell_type": "code",
      "execution_count": 8,
      "metadata": {
        "id": "qW6LwnnQKQ04",
        "notebookRunGroups": {
          "groupValue": "1"
        }
      },
      "outputs": [],
      "source": [
        "# optimizer = optim.SGD(cnn.parameters(), lr=0.001, momentum=0.9)\n",
        "# optimizer = optim.Adam(cnn.parameters(), lr=0.0001)"
      ]
    },
    {
      "cell_type": "code",
      "execution_count": 10,
      "metadata": {
        "notebookRunGroups": {
          "groupValue": "1"
        }
      },
      "outputs": [],
      "source": [
        "def train( \tmodel: nn.Module,\n",
        "\t\t\tdataset:torch.utils.data.DataLoader,\n",
        "\t\t\toptimizer:optim.Optimizer,\n",
        "\t\t\tlossFunc:nn.Module = nn.CrossEntropyLoss(),\n",
        "\t\t\ttransformation:K.AugmentationSequential = None):\n",
        "\t# switch model to train state\n",
        "\tmodel.train()\n",
        "\t# local variables\n",
        "\t__running_loss = 0\n",
        "\t__correct_pred = 0\n",
        "\t__total_pred = 0\n",
        "\t# loop on all batches in dataset\n",
        "\tfor data in dataset:\n",
        "\t\tinputs, labels = data[0].to(device), data[1].to(device)\n",
        "\t\tif transformation is not None:\n",
        "\t\t\tinputs = transformation(inputs)\n",
        "\t\t# gives batch data, normalize x when iterate train_loader\n",
        "\t\toutput = model(inputs)[0]         \n",
        "\t\tloss = lossFunc(output, labels)\n",
        "\t\t# clear gradients for this training step   \n",
        "\t\toptimizer.zero_grad()           \n",
        "\t\t# backpropagation, compute gradients \n",
        "\t\tloss.backward()                # apply gradients             \n",
        "\t\toptimizer.step()   \n",
        "\t\t# \n",
        "\t\tpredicted = torch.max(output, 1)[1].data.squeeze()\n",
        "\t\t__running_loss += loss.item()\n",
        "\t\t__total_pred += labels.size(0)\n",
        "\t\t__correct_pred += predicted.eq(labels).sum().item()             \n",
        "\t\tpass\n",
        "\t__train_loss = __running_loss/len(dataset)\n",
        "\t__accuracy = 100.*__correct_pred/__total_pred\n",
        "\treturn __train_loss, __accuracy"
      ]
    },
    {
      "cell_type": "code",
      "execution_count": 12,
      "metadata": {
        "notebookRunGroups": {
          "groupValue": "1"
        }
      },
      "outputs": [],
      "source": [
        "def test(\tmodel: nn.Module,\n",
        "\t\t\tdataset:torch.utils.data.DataLoader,\n",
        "\t\t\tlossFunc:nn.Module = nn.CrossEntropyLoss()):\n",
        "\t# Test the model\n",
        "\tmodel.eval()\n",
        "\t# local variables\n",
        "\t__running_loss = 0\n",
        "\t__correct_pred = 0\n",
        "\t__total_pred = 0\n",
        "\n",
        "\twith torch.no_grad():\n",
        "\t\tcorrect = 0\n",
        "\t\ttotal = 0\n",
        "\t\tfor data in dataset:\n",
        "\t\t\tinputs, labels = data[0].to(device), data[1].to(device)\n",
        "\t\t\toutput = model(inputs)[0]\n",
        "\n",
        "\t\t\tloss = lossFunc(output,labels)\n",
        "\t\t\t__running_loss+=loss.item()\n",
        "\t\t\t\n",
        "\t\t\tpredicted = torch.max(output, 1)[1].data.squeeze()\n",
        "\t\t\t__total_pred += labels.size(0)\t\n",
        "\t\t\t__correct_pred += predicted.eq(labels).sum().item()\n",
        "\t\t\tpass\n",
        "\tpass\n",
        "\t__test_loss = __running_loss/len(dataset)\n",
        "\t__accuracy = 100.*__correct_pred/__total_pred\n",
        "\treturn __test_loss, __accuracy"
      ]
    },
    {
      "cell_type": "code",
      "execution_count": 13,
      "metadata": {
        "notebookRunGroups": {
          "groupValue": "1"
        }
      },
      "outputs": [],
      "source": [
        "def trainF(\tmodel: nn.Module,\n",
        "\t\t\tdataset:torch.utils.data.DataLoader,\n",
        "\t\t\tdumpName: str, \n",
        "\t\t\toptimizer:optim.Optimizer,\n",
        "\t\t\tlossFunc:nn.Module = nn.CrossEntropyLoss(),\n",
        "\t\t\tmaxEpochs: int = 100,\n",
        "\t\t\ttransformation:K.AugmentationSequential = None,\n",
        "\t\t\tloadAndTrain: bool = False):\n",
        "\t# load previous state\n",
        "\tif loadAndTrain and exists(f'./model/{dumpName}.dump'):\n",
        "\t\tmodel.load_state_dict(torch.load(f'./model/{dumpName}.dump'))\n",
        "\t# train the model\n",
        "\t__trainLoss = []\n",
        "\t__trainAccuracy = []\n",
        "\t# loop on epochs\n",
        "\tprint (\"{:^13} {:^10} {:^10}\".format('Epoch', 'Loss', 'Accuracy'))\t\n",
        "\tfor epoch in range(maxEpochs):\n",
        "\t\t__loss, __accur = train(\n",
        "\t\t\tmodel = model, \n",
        "\t\t\tdataset = dataset,\n",
        "\t\t\toptimizer = optimizer,\n",
        "\t\t\tlossFunc = lossFunc,\n",
        "\t\t\ttransformation = transformation\n",
        "\t\t)\n",
        "\t\t__trainLoss.append(__loss)\n",
        "\t\t__trainAccuracy.append(__accur)\n",
        "\t\tprint ('[{:>5}/{:<5}] {:^10.4f} {:^10.4f}'.format(epoch + 1, maxEpochs, __loss, __accur))\n",
        "\tpass\n",
        "\ttorch.save(model.state_dict(), f'./model/{dumpName}.dump')\n",
        "\treturn __lossHistory, __accurHistory\n",
        "\t"
      ]
    },
    {
      "cell_type": "code",
      "execution_count": 14,
      "metadata": {
        "notebookRunGroups": {
          "groupValue": "1"
        }
      },
      "outputs": [],
      "source": [
        "def trainNtest(\tmodel: nn.Module,\n",
        "\t\t\t\tdatasets: [torch.utils.data.DataLoader],\n",
        "\t\t\t\tdumpName: str, \n",
        "\t\t\t\toptimizer:optim.Optimizer,\n",
        "\t\t\t\tlossFunc:nn.Module = nn.CrossEntropyLoss(),\n",
        "\t\t\t\tmaxEpochs: int = 100,\n",
        "\t\t\t\ttransformation:K.AugmentationSequential = None,\n",
        "\t\t\t\tloadNtrain: bool = False):\n",
        "\t# load previous state\n",
        "\tif loadNtrain and exists(f'./model/{dumpName}.dump'):\n",
        "\t\tmodel.load_state_dict(torch.load(f'./model/{dumpName}.dump'))\n",
        "\t# local variables\n",
        "\t__trainLoss = []\n",
        "\t__trainAccuracy = []\n",
        "\t__testLoss = []\n",
        "\t__testAccuracy = []\n",
        "\t# loop on epochs\n",
        "\tprint (\"{:^13} {:^10} {:^10}\".format('Epoch', 'Loss', 'Accuracy'))\n",
        "\tfor epoch in range(maxEpochs):\n",
        "\t\t# train model \n",
        "\t\t__loss, __accur = train(\n",
        "\t\t\tmodel = model, \n",
        "\t\t\tdataset = datasets[0],\n",
        "\t\t\toptimizer = optimizer,\n",
        "\t\t\tlossFunc = lossFunc,\n",
        "\t\t\ttransformation = transformation\n",
        "\t\t)\n",
        "\t\t__trainLoss.append(__loss)\n",
        "\t\t__trainAccuracy.append(__accur)\n",
        "\t\tprint ('[{:>5}/{:<5}] {:^10.4f} {:^10.4f}'.format(epoch + 1, maxEpochs, __loss, __accur))\n",
        "\t\t# test model \n",
        "\t\t__loss, __accur = test(\n",
        "\t\t\tmodel = model, \n",
        "\t\t\tdataset = datasets[1],\n",
        "\t\t\tlossFunc = lossFunc\n",
        "\t\t)\n",
        "\t\t__testLoss.append(__loss)\n",
        "\t\t__testAccuracy.append(__accur)\n",
        "\tpass\n",
        "\ttorch.save(model.state_dict(), f'./model/{dumpName}.dump')\n",
        "\treturn __trainLoss, __trainAccuracy, __testLoss, __testAccuracy\n"
      ]
    },
    {
      "cell_type": "code",
      "execution_count": 17,
      "metadata": {
        "notebookRunGroups": {
          "groupValue": ""
        }
      },
      "outputs": [
        {
          "name": "stdout",
          "output_type": "stream",
          "text": [
            "    Epoch        Loss     Accuracy \n",
            "[    1/100  ]   0.5874    81.2147  \n",
            "[    2/100  ]   0.2474    91.6426  \n",
            "[    3/100  ]   0.1950    93.1979  \n",
            "[    4/100  ]   0.1648    94.1442  \n",
            "[    5/100  ]   0.1433    94.7933  \n",
            "[    6/100  ]   0.1271    95.2460  \n",
            "[    7/100  ]   0.1134    95.6843  \n",
            "[    8/100  ]   0.1015    96.0649  \n",
            "[    9/100  ]   0.0922    96.3542  \n",
            "[   10/100  ]   0.0836    96.5929  \n",
            "[   11/100  ]   0.0774    96.7684  \n",
            "[   12/100  ]   0.0724    96.9631  \n",
            "[   13/100  ]   0.0676    97.0913  \n",
            "[   14/100  ]   0.0635    97.2821  \n",
            "[   15/100  ]   0.0600    97.3942  \n",
            "[   16/100  ]   0.0567    97.5208  \n",
            "[   17/100  ]   0.0548    97.6050  \n",
            "[   18/100  ]   0.0528    97.6603  \n",
            "[   19/100  ]   0.0496    97.8029  \n",
            "[   20/100  ]   0.0487    97.8470  \n",
            "[   21/100  ]   0.0472    97.8862  \n",
            "[   22/100  ]   0.0450    98.0008  \n",
            "[   23/100  ]   0.0440    98.0385  \n",
            "[   24/100  ]   0.0422    98.1490  \n",
            "[   25/100  ]   0.0411    98.1779  \n",
            "[   26/100  ]   0.0402    98.2316  \n",
            "[   27/100  ]   0.0389    98.3101  \n",
            "[   28/100  ]   0.0376    98.3598  \n",
            "[   29/100  ]   0.0381    98.3598  \n",
            "[   30/100  ]   0.0353    98.4487  \n",
            "[   31/100  ]   0.0352    98.4519  \n",
            "[   32/100  ]   0.0334    98.5689  \n",
            "[   33/100  ]   0.0335    98.5705  \n",
            "[   34/100  ]   0.0320    98.6587  \n",
            "[   35/100  ]   0.0316    98.6667  \n",
            "[   36/100  ]   0.0305    98.6923  \n",
            "[   37/100  ]   0.0291    98.7204  \n",
            "[   38/100  ]   0.0291    98.7772  \n",
            "[   39/100  ]   0.0273    98.8478  \n",
            "[   40/100  ]   0.0285    98.8341  \n",
            "[   41/100  ]   0.0262    98.9207  \n",
            "[   42/100  ]   0.0258    98.9247  \n",
            "[   43/100  ]   0.0244    98.9960  \n",
            "[   44/100  ]   0.0243    99.0232  \n",
            "[   45/100  ]   0.0233    99.0569  \n",
            "[   46/100  ]   0.0234    99.0833  \n",
            "[   47/100  ]   0.0215    99.1066  \n",
            "[   48/100  ]   0.0224    99.1538  \n",
            "[   49/100  ]   0.0212    99.1811  \n",
            "[   50/100  ]   0.0203    99.2236  \n",
            "[   51/100  ]   0.0195    99.2428  \n",
            "[   52/100  ]   0.0191    99.2877  \n",
            "[   53/100  ]   0.0193    99.2804  \n",
            "[   54/100  ]   0.0178    99.3574  \n",
            "[   55/100  ]   0.0174    99.3502  \n",
            "[   56/100  ]   0.0160    99.4038  \n",
            "[   57/100  ]   0.0161    99.4263  \n",
            "[   58/100  ]   0.0156    99.4559  \n",
            "[   59/100  ]   0.0147    99.4463  \n",
            "[   60/100  ]   0.0151    99.4599  \n",
            "[   61/100  ]   0.0149    99.4784  \n",
            "[   62/100  ]   0.0140    99.5008  \n",
            "[   63/100  ]   0.0132    99.5393  \n",
            "[   64/100  ]   0.0131    99.5288  \n",
            "[   65/100  ]   0.0126    99.5777  \n",
            "[   66/100  ]   0.0115    99.5913  \n",
            "[   67/100  ]   0.0123    99.5761  \n",
            "[   68/100  ]   0.0125    99.5921  \n",
            "[   69/100  ]   0.0113    99.6266  \n",
            "[   70/100  ]   0.0114    99.6298  \n",
            "[   71/100  ]   0.0115    99.6538  \n",
            "[   72/100  ]   0.0101    99.6603  \n",
            "[   73/100  ]   0.0101    99.6643  \n",
            "[   74/100  ]   0.0100    99.6707  \n",
            "[   75/100  ]   0.0103    99.6803  \n",
            "[   76/100  ]   0.0096    99.7011  \n",
            "[   77/100  ]   0.0098    99.6867  \n",
            "[   78/100  ]   0.0094    99.6947  \n",
            "[   79/100  ]   0.0095    99.6971  \n",
            "[   80/100  ]   0.0093    99.7316  \n",
            "[   81/100  ]   0.0093    99.7300  \n",
            "[   82/100  ]   0.0085    99.7340  \n",
            "[   83/100  ]   0.0088    99.7252  \n",
            "[   84/100  ]   0.0098    99.7188  \n",
            "[   85/100  ]   0.0084    99.7163  \n",
            "[   86/100  ]   0.0081    99.7596  \n",
            "[   87/100  ]   0.0082    99.7548  \n",
            "[   88/100  ]   0.0087    99.7380  \n",
            "[   89/100  ]   0.0088    99.7212  \n",
            "[   90/100  ]   0.0082    99.7556  \n",
            "[   91/100  ]   0.0073    99.7780  \n",
            "[   92/100  ]   0.0076    99.7748  \n",
            "[   93/100  ]   0.0081    99.7452  \n",
            "[   94/100  ]   0.0082    99.7812  \n",
            "[   95/100  ]   0.0072    99.7941  \n",
            "[   96/100  ]   0.0078    99.7636  \n",
            "[   97/100  ]   0.0079    99.7829  \n",
            "[   98/100  ]   0.0079    99.7788  \n",
            "[   99/100  ]   0.0079    99.7853  \n",
            "[  100/100  ]   0.0074    99.7756  \n"
          ]
        }
      ],
      "source": [
        "num_epochs = 100\n",
        "loadAndTrain = False\n",
        "trainLoss, trainAccuracy, testLoss, testAccuracy = trainNtest(\n",
        "\tmodel = cnn,\n",
        "\tdatasets = [trainset, testset],\n",
        "\tdumpName = 'cnn_1',\n",
        "\toptimizer = optim.Adam(cnn.parameters(), lr=0.0001),\n",
        "\tmaxEpochs = num_epochs,\n",
        "\tloadNtrain = loadAndTrain\n",
        ")"
      ]
    },
    {
      "cell_type": "code",
      "execution_count": 18,
      "metadata": {},
      "outputs": [
        {
          "data": {
            "image/png": "[encoded data removed]",
            "text/plain": [
              "<Figure size 432x288 with 1 Axes>"
            ]
          },
          "metadata": {
            "needs_background": "light"
          },
          "output_type": "display_data"
        },
        {
          "data": {
            "image/png": "[encoded data removed]",
            "text/plain": [
              "<Figure size 432x288 with 1 Axes>"
            ]
          },
          "metadata": {
            "needs_background": "light"
          },
          "output_type": "display_data"
        }
      ],
      "source": [
        "plt.plot(trainLoss, label='Train')\n",
        "plt.plot(testLoss, label='Test')\n",
        "plt.ylabel('losses')\n",
        "plt.xlabel('epoch')\n",
        "plt.title('Train vs Test Losses')\n",
        "plt.legend()\n",
        "plt.show()\n",
        "\n",
        "plt.plot(trainAccuracy, label='Train')\n",
        "plt.plot(testAccuracy, label='Test')\n",
        "plt.ylabel('accuracy')\n",
        "plt.xlabel('epoch')\n",
        "plt.title('Train vs Test Accuracy')\n",
        "plt.legend()\n",
        "plt.show()"
      ]
    },
    {
      "cell_type": "markdown",
      "metadata": {
        "id": "ML_5LCyrKSv9"
      },
      "source": [
        "## 1.5 Агументация данных и регулряизация нейросети\n",
        "\n",
        "Попобуйте добавить аугументацию (случайные повороты, увеличение, уменьшение) в данные, а также регуляризацию (Drop out и Batch Norm слои) в модель. Как меняется метрика accuracy на обучающей и тестовой выборке в процессе обучения? Постройте график."
      ]
    },
    {
      "cell_type": "code",
      "execution_count": 15,
      "metadata": {
        "notebookRunGroups": {
          "groupValue": "1"
        }
      },
      "outputs": [],
      "source": [
        "randTransform = K.AugmentationSequential(\n",
        "\tK.RandomPerspective(),\n",
        "\tK.RandomAffine(degrees=(-180, 180), scale = (0.5, 1)),\n",
        "\tK.RandomResizedCrop((32,32), scale = (0.2, 1)),\n",
        "\tK.RandomCrop((32,32), padding = 4),\n",
        "\tK.RandomVerticalFlip(),\n",
        "\tK.RandomHorizontalFlip(),\n",
        "\tdata_keys = [\"Input\"],\n",
        "\trandom_apply = (1,),\n",
        "\tsame_on_batch = False\n",
        ")"
      ]
    },
    {
      "cell_type": "code",
      "execution_count": 17,
      "metadata": {
        "notebookRunGroups": {
          "groupValue": "1"
        }
      },
      "outputs": [
        {
          "name": "stdout",
          "output_type": "stream",
          "text": [
            "b w x z x k h v v e h a o w j g\n"
          ]
        },
        {
          "data": {
            "image/png": "[encoded data removed]",
            "text/plain": [
              "<Figure size 432x288 with 1 Axes>"
            ]
          },
          "metadata": {
            "needs_background": "light"
          },
          "output_type": "display_data"
        }
      ],
      "source": [
        "dataiter = iter(trainset)\n",
        "images, labels = dataiter.next()\n",
        "images = randTransform(images)\n",
        "\n",
        "imshow(torchvision.utils.make_grid(images, nrow = 1))\n",
        "\n",
        "print(\" \".join(str(data_train.classes[labels[j]]) for j in range(nbatch)))"
      ]
    },
    {
      "cell_type": "code",
      "execution_count": 22,
      "metadata": {},
      "outputs": [
        {
          "data": {
            "text/plain": [
              "==========================================================================================\n",
              "Layer (type:depth-idx)                   Output Shape              Param #\n",
              "==========================================================================================\n",
              "CNN                                      [64, 27]                  --\n",
              "├─Sequential: 1-1                        [64, 32, 16, 16]          --\n",
              "│    └─Conv2d: 2-1                       [64, 32, 32, 32]          320\n",
              "│    └─ReLU: 2-2                         [64, 32, 32, 32]          --\n",
              "│    └─BatchNorm2d: 2-3                  [64, 32, 32, 32]          64\n",
              "│    └─MaxPool2d: 2-4                    [64, 32, 16, 16]          --\n",
              "├─Sequential: 1-2                        [64, 64, 8, 8]            --\n",
              "│    └─Conv2d: 2-5                       [64, 64, 16, 16]          18,496\n",
              "│    └─ReLU: 2-6                         [64, 64, 16, 16]          --\n",
              "│    └─BatchNorm2d: 2-7                  [64, 64, 16, 16]          128\n",
              "│    └─MaxPool2d: 2-8                    [64, 64, 8, 8]            --\n",
              "├─Sequential: 1-3                        [64, 256, 4, 4]           --\n",
              "│    └─Conv2d: 2-9                       [64, 128, 8, 8]           73,856\n",
              "│    └─ReLU: 2-10                        [64, 128, 8, 8]           --\n",
              "│    └─Conv2d: 2-11                      [64, 256, 8, 8]           295,168\n",
              "│    └─ReLU: 2-12                        [64, 256, 8, 8]           --\n",
              "│    └─BatchNorm2d: 2-13                 [64, 256, 8, 8]           512\n",
              "│    └─MaxPool2d: 2-14                   [64, 256, 4, 4]           --\n",
              "├─Sequential: 1-4                        [64, 27]                  --\n",
              "│    └─Linear: 2-15                      [64, 1024]                4,195,328\n",
              "│    └─ReLU: 2-16                        [64, 1024]                --\n",
              "│    └─Dropout: 2-17                     [64, 1024]                --\n",
              "│    └─Linear: 2-18                      [64, 512]                 524,800\n",
              "│    └─ReLU: 2-19                        [64, 512]                 --\n",
              "│    └─Dropout: 2-20                     [64, 512]                 --\n",
              "│    └─Linear: 2-21                      [64, 27]                  13,851\n",
              "==========================================================================================\n",
              "Total params: 5,122,523\n",
              "Trainable params: 5,122,523\n",
              "Non-trainable params: 0\n",
              "Total mult-adds (G): 2.14\n",
              "==========================================================================================\n",
              "Input size (MB): 0.26\n",
              "Forward/backward pass size (MB): 72.10\n",
              "Params size (MB): 20.49\n",
              "Estimated Total Size (MB): 92.86\n",
              "=========================================================================================="
            ]
          },
          "execution_count": 22,
          "metadata": {},
          "output_type": "execute_result"
        }
      ],
      "source": [
        "cnnR = CNN(\n",
        "\tregularization={\n",
        "\t\t'eps': 0.001,\t\t# default 'eps': 0.00001\n",
        "\t\t'momentum': 0.1, \t# default 'momentum': 0.1\n",
        "\t\t'p': 0.5\t\t\t# default 'p': 0.5\n",
        "\t}\n",
        ")\n",
        "cnnR.to(device)\n",
        "summary(cnnR, (nbatch, 1, 32, 32))"
      ]
    },
    {
      "cell_type": "markdown",
      "metadata": {
        "id": "aTD5QBT-bsnu"
      },
      "source": [
        "## 1.6 Обучение нейросети на данных с аугументацией "
      ]
    },
    {
      "cell_type": "code",
      "execution_count": 23,
      "metadata": {
        "id": "rmlsO4C2bsii"
      },
      "outputs": [
        {
          "name": "stdout",
          "output_type": "stream",
          "text": [
            "    Epoch        Loss     Accuracy \n",
            "[    1/100  ]   2.3973    28.6106  \n",
            "[    2/100  ]   1.6970    47.4503  \n",
            "[    3/100  ]   1.5086    53.2035  \n",
            "[    4/100  ]   1.3660    57.3958  \n",
            "[    5/100  ]   1.2901    59.8213  \n",
            "[    6/100  ]   1.2611    60.3558  \n",
            "[    7/100  ]   1.2112    62.0465  \n",
            "[    8/100  ]   1.2012    62.2131  \n",
            "[    9/100  ]   1.1450    63.9728  \n",
            "[   10/100  ]   1.1206    64.5232  \n",
            "[   11/100  ]   1.0999    65.2732  \n",
            "[   12/100  ]   1.0779    65.9920  \n",
            "[   13/100  ]   1.0635    66.4671  \n",
            "[   14/100  ]   1.0538    66.6194  \n",
            "[   15/100  ]   1.0322    67.3197  \n",
            "[   16/100  ]   1.0168    67.8421  \n",
            "[   17/100  ]   1.0019    68.1082  \n",
            "[   18/100  ]   1.0134    67.7252  \n",
            "[   19/100  ]   0.9838    68.8093  \n",
            "[   20/100  ]   0.9756    69.0080  \n",
            "[   21/100  ]   0.9797    68.9736  \n",
            "[   22/100  ]   0.9585    69.4768  \n",
            "[   23/100  ]   0.9522    69.6314  \n",
            "[   24/100  ]   0.9559    69.6010  \n",
            "[   25/100  ]   0.9412    70.0024  \n",
            "[   26/100  ]   0.9403    69.9591  \n",
            "[   27/100  ]   0.9150    70.7083  \n",
            "[   28/100  ]   0.9250    70.4671  \n",
            "[   29/100  ]   0.9175    70.5441  \n",
            "[   30/100  ]   0.9200    70.6186  \n",
            "[   31/100  ]   0.9173    70.8405  \n",
            "[   32/100  ]   0.8897    71.6530  \n",
            "[   33/100  ]   0.8890    71.6538  \n",
            "[   34/100  ]   0.8963    71.4848  \n",
            "[   35/100  ]   0.8842    71.6995  \n",
            "[   36/100  ]   0.8863    71.8854  \n",
            "[   37/100  ]   0.8831    71.6338  \n",
            "[   38/100  ]   0.8711    72.1691  \n",
            "[   39/100  ]   0.8802    71.8662  \n",
            "[   40/100  ]   0.8548    72.5208  \n",
            "[   41/100  ]   0.8617    72.3574  \n",
            "[   42/100  ]   0.8676    72.2492  \n",
            "[   43/100  ]   0.8654    72.2236  \n",
            "[   44/100  ]   0.8591    72.5361  \n",
            "[   45/100  ]   0.8597    72.5016  \n",
            "[   46/100  ]   0.8468    72.8157  \n",
            "[   47/100  ]   0.8693    72.0617  \n",
            "[   48/100  ]   0.8385    73.1178  \n",
            "[   49/100  ]   0.8444    72.8133  \n",
            "[   50/100  ]   0.8492    72.7796  \n",
            "[   51/100  ]   0.8321    73.3646  \n",
            "[   52/100  ]   0.8418    73.0120  \n",
            "[   53/100  ]   0.8323    73.4079  \n",
            "[   54/100  ]   0.8216    73.7019  \n",
            "[   55/100  ]   0.8386    73.2027  \n",
            "[   56/100  ]   0.8298    73.4551  \n",
            "[   57/100  ]   0.8340    73.2107  \n",
            "[   58/100  ]   0.8274    73.5913  \n",
            "[   59/100  ]   0.8104    74.0128  \n",
            "[   60/100  ]   0.8118    73.8438  \n",
            "[   61/100  ]   0.8135    73.8277  \n",
            "[   62/100  ]   0.8281    73.4231  \n",
            "[   63/100  ]   0.8242    73.5737  \n",
            "[   64/100  ]   0.8018    74.1651  \n",
            "[   65/100  ]   0.8178    73.7196  \n",
            "[   66/100  ]   0.7928    74.4071  \n",
            "[   67/100  ]   0.7962    74.2564  \n",
            "[   68/100  ]   0.8119    73.8998  \n",
            "[   69/100  ]   0.8055    74.0841  \n",
            "[   70/100  ]   0.8171    73.6635  \n",
            "[   71/100  ]   0.8042    74.2356  \n",
            "[   72/100  ]   0.8075    74.0473  \n",
            "[   73/100  ]   0.7957    74.4511  \n",
            "[   74/100  ]   0.7884    74.6434  \n",
            "[   75/100  ]   0.7887    74.6731  \n",
            "[   76/100  ]   0.7955    74.3157  \n",
            "[   77/100  ]   0.7870    74.7051  \n",
            "[   78/100  ]   0.7862    74.6226  \n",
            "[   79/100  ]   0.7882    74.6074  \n",
            "[   80/100  ]   0.7966    74.4014  \n",
            "[   81/100  ]   0.7731    75.0345  \n",
            "[   82/100  ]   0.7830    74.9359  \n",
            "[   83/100  ]   0.7939    74.3462  \n",
            "[   84/100  ]   0.7874    74.6651  \n",
            "[   85/100  ]   0.7790    74.9712  \n",
            "[   86/100  ]   0.7692    75.3582  \n",
            "[   87/100  ]   0.7684    75.2236  \n",
            "[   88/100  ]   0.7704    75.2492  \n",
            "[   89/100  ]   0.7674    75.2837  \n",
            "[   90/100  ]   0.7698    75.2123  \n",
            "[   91/100  ]   0.7639    75.1731  \n",
            "[   92/100  ]   0.7554    75.6266  \n",
            "[   93/100  ]   0.7652    75.2179  \n",
            "[   94/100  ]   0.7683    75.1571  \n",
            "[   95/100  ]   0.7684    75.2212  \n",
            "[   96/100  ]   0.7722    75.0216  \n",
            "[   97/100  ]   0.7675    75.3213  \n",
            "[   98/100  ]   0.7704    75.0889  \n",
            "[   99/100  ]   0.7692    75.1715  \n",
            "[  100/100  ]   0.7636    75.4119  \n"
          ]
        }
      ],
      "source": [
        "num_epochs = 100\n",
        "loadAndTrain = False\n",
        "trainLossR, trainAccuracyR, testLossR, testAccuracyR = trainNtest(\n",
        "\tmodel = cnnR,\n",
        "\tdatasets = [trainset, testset],\n",
        "\tdumpName = 'cnn_2',\n",
        "\toptimizer = optim.SGD(cnnR.parameters(), lr=0.001, momentum=0.9),\n",
        "\tmaxEpochs = num_epochs,\n",
        "\tloadNtrain = loadAndTrain,\n",
        "\ttransformation = randTransform\n",
        ")"
      ]
    },
    {
      "cell_type": "code",
      "execution_count": 24,
      "metadata": {},
      "outputs": [
        {
          "data": {
            "image/png": "[encoded data removed]",
            "text/plain": [
              "<Figure size 432x288 with 1 Axes>"
            ]
          },
          "metadata": {
            "needs_background": "light"
          },
          "output_type": "display_data"
        },
        {
          "data": {
            "image/png": "[encoded data removed]",
            "text/plain": [
              "<Figure size 432x288 with 1 Axes>"
            ]
          },
          "metadata": {
            "needs_background": "light"
          },
          "output_type": "display_data"
        }
      ],
      "source": [
        "plt.plot(trainLossR, label='Train')\n",
        "plt.plot(testLossR, label='Test')\n",
        "plt.ylabel('losses')\n",
        "plt.xlabel('epoch')\n",
        "plt.title('Train vs Test Losses')\n",
        "plt.legend()\n",
        "plt.show()\n",
        "\n",
        "plt.plot(trainAccuracyR, label='Train')\n",
        "plt.plot(testAccuracyR, label='Test')\n",
        "plt.ylabel('accuracy')\n",
        "plt.xlabel('epoch')\n",
        "plt.title('Train vs Test Accuracy')\n",
        "plt.legend()\n",
        "plt.show()"
      ]
    },
    {
      "cell_type": "markdown",
      "metadata": {
        "id": "uydqxWwQKWYQ"
      },
      "source": [
        "## 1.7 Выводы\n",
        "\n",
        "> Что удалось попробовать? Что получилось, а что — нет? Повлияло ли добавление аугументации на качество?\n",
        "\n",
        "В ходе выполения задания была создана структура свёрточной нейронной сети, основой которой послужила AlexNet. Обучение моделей нейронных сетей дало результаты, представленные на графиках ниже. Регуляриязация должна была привести к тому, что увеличивается точноть классификации, что в совокупности с аугментацией тренировочных датасетов давало бы преимущество, однако, как показывают графики точности, свёрточная нейронная сеть без регуляризации оказалась чуть лучше, при этом графики loss показывают, что аугментация данных давала преимущество свёрточной нейронной сети с регуляризацией на тестовой выборке. Вероятнее всего, точноть могла быть выше, если бы использовались датасеты, состоящие из пакетов длиной равной тем, что использовались при обучении свёрточной нейронной сети без регуляризации, однако обучение такой модели по подсчётам могло занять порядка 20 часов.\n",
        "\n",
        "<table bgcolor=\"white\" align=\"center\">\n",
        "\t<tr bgcolor=\"black\" align=\"center\" style=\"color:white\">\n",
        "\t\t<td></td>\n",
        "\t\t<td> Without regularization </td>\n",
        "\t\t<td> With regularization </td>\n",
        "\t</tr>\n",
        "\t<tr>\n",
        "\t\t<td bgcolor=\"black\" align=\"center\" style=\"color:white\">\n",
        "\t\t\tLoss\n",
        "\t\t</td>\n",
        "\t\t<td>\n",
        "\t\t\t<img src=\"./data/plots/loss1.png\" alt=\"Loss CNN without regularization\">\n",
        "\t\t</td>\n",
        "\t\t<td>\n",
        "\t\t\t<img src=\"./data/plots/loss2.png\" alt=\"Loss CNN with regularization\">\n",
        "\t\t</td>\n",
        "\t</tr>\n",
        "\t<tr>\n",
        "\t\t<td bgcolor=\"black\" align=\"center\" style=\"color:white\">\n",
        "\t\t\tAccuracy\n",
        "\t\t</td>\n",
        "\t\t<td>\n",
        "\t\t\t<img src=\"./data/plots/accur1.png\" alt=\"Loss CNN without regularization\">\n",
        "\t\t</td>\n",
        "\t\t<td>\n",
        "\t\t\t<img src=\"./data/plots/accur2.png\" alt=\"Loss CNN with regularization\">\n",
        "\t\t</td>\n",
        "\t</tr>\n",
        "</table>"
      ]
    },
    {
      "cell_type": "markdown",
      "metadata": {
        "id": "D5G-61iAKh0A"
      },
      "source": [
        "# 2. Рекуррентная нейронная сеть для генерации текстов (9 баллов)"
      ]
    },
    {
      "cell_type": "markdown",
      "metadata": {},
      "source": [
        "## 2.0 Инициализация бибилиотек и перемнных"
      ]
    },
    {
      "cell_type": "code",
      "execution_count": 1,
      "metadata": {
        "notebookRunGroups": {
          "groupValue": "2"
        }
      },
      "outputs": [],
      "source": [
        "import nltk\n",
        "import torch\n",
        "import string\n",
        "import time, math\n",
        "import numpy as np\n",
        "import pandas as pd\n",
        "import torch.nn as nn\n",
        "from torch import optim\n",
        "from os.path import exists\n",
        "from torchinfo import summary\n",
        "from collections import Counter\n",
        "import matplotlib.pyplot as plt\n",
        "from torch.autograd import Variable\n",
        "from torch.utils.data import Dataset, DataLoader"
      ]
    },
    {
      "cell_type": "code",
      "execution_count": 2,
      "metadata": {
        "notebookRunGroups": {
          "groupValue": "2"
        }
      },
      "outputs": [
        {
          "name": "stdout",
          "output_type": "stream",
          "text": [
            "Using device: cuda\n"
          ]
        }
      ],
      "source": [
        "device = torch.device(\"cuda:0\" if torch.cuda.is_available() else \"cpu\")\n",
        "print(f'Using device: {device.type}')"
      ]
    },
    {
      "cell_type": "markdown",
      "metadata": {
        "id": "BIVlZeMLKwc6"
      },
      "source": [
        "## 2.1 Загрузка данных\n",
        "\n"
      ]
    },
    {
      "cell_type": "code",
      "execution_count": 8,
      "metadata": {
        "notebookRunGroups": {
          "groupValue": "2"
        }
      },
      "outputs": [
        {
          "name": "stdout",
          "output_type": "stream",
          "text": [
            " * ЧАСТЬ ПЕРВАЯ * \n",
            "    \n",
            "I\n",
            "\n",
            "       В  Петербурге  в  это  время  в  высших  кругах,  с  большим жаром  чем\n",
            "  когда-нибудь,  шла   сложная  борьба   партий  Румянцева,  французов,  Марии\n",
            "  Феодоровны,  цесаревича  и  других,   заглушаемая,  как  всегда,   трубением\n",
            "  придворных трутней. Но  спокойная, роскошная, озабоченная только призраками,\n",
            "  отражениями  жизни, петербургская жизнь  шла по-старому;  и из-за хода  этой\n",
            "  жизни  надо  было  делать  большие усилия,  чтобы сознавать  опасность  и то\n"
          ]
        }
      ],
      "source": [
        "filename = \"./data/war_and_piece.txt\"\n",
        "raw_text = open(filename, 'r', encoding='utf-8').read()\n",
        "print(raw_text[:500])"
      ]
    },
    {
      "cell_type": "code",
      "execution_count": 9,
      "metadata": {},
      "outputs": [],
      "source": [
        "sentences = nltk.sent_tokenize(raw_text)\n",
        "df = pd.DataFrame(sentences, columns=['Sentence'])\n",
        "df.to_csv('./data/text.csv') "
      ]
    },
    {
      "cell_type": "markdown",
      "metadata": {
        "id": "v4TTaWpIKwc9"
      },
      "source": [
        "## 2.2 Преодбработка/нормализация данных по необходимости\n",
        "\n",
        "Например, можно привести все слова к нижнему регистру"
      ]
    },
    {
      "cell_type": "code",
      "execution_count": 10,
      "metadata": {
        "notebookRunGroups": {
          "groupValue": "2"
        }
      },
      "outputs": [],
      "source": [
        "stop = set(nltk.corpus.stopwords.words('russian'))\n",
        "exclude = set(string.punctuation) \n",
        "lemma = nltk.stem.wordnet.WordNetLemmatizer()\n",
        "def clean(doc):\n",
        "        stop_free = \" \".join([i for i in doc.split() if i not in stop])\n",
        "        punc_free = \"\".join(ch for ch in stop_free if ch not in exclude)\n",
        "        normalized = \" \".join(lemma.lemmatize(word) for word in punc_free.split())\n",
        "        return normalized\n",
        "test_sentence = clean(raw_text).lower().split()"
      ]
    },
    {
      "cell_type": "code",
      "execution_count": 13,
      "metadata": {
        "notebookRunGroups": {
          "groupValue": "2"
        }
      },
      "outputs": [
        {
          "name": "stdout",
          "output_type": "stream",
          "text": [
            "[(['часть', 'первая'], 'i'), (['первая', 'i'], 'в'), (['i', 'в'], 'петербурге')]\n"
          ]
        }
      ],
      "source": [
        "trigrams = [([test_sentence[i], test_sentence[i + 1]], test_sentence[i + 2])\n",
        "            for i in range(len(test_sentence) - 2)]\n",
        "chunk_len=len(trigrams)\n",
        "print(trigrams[:3])"
      ]
    },
    {
      "cell_type": "code",
      "execution_count": 14,
      "metadata": {
        "notebookRunGroups": {
          "groupValue": "2"
        }
      },
      "outputs": [],
      "source": [
        "vocab = set(test_sentence)\n",
        "voc_len = len(vocab)\n",
        "word_to_ix = {word: i for i, word in enumerate(vocab)}"
      ]
    },
    {
      "cell_type": "code",
      "execution_count": 15,
      "metadata": {
        "notebookRunGroups": {
          "groupValue": "2"
        }
      },
      "outputs": [],
      "source": [
        "inp=[]\n",
        "tar=[]\n",
        "for context, target in trigrams:\n",
        "        context_idxs = torch.tensor([word_to_ix[w] for w in context], dtype=torch.long)\n",
        "        inp.append(context_idxs)\n",
        "        targ = torch.tensor([word_to_ix[target]], dtype=torch.long)\n",
        "        tar.append(targ)"
      ]
    },
    {
      "cell_type": "markdown",
      "metadata": {
        "id": "7xeKpLH3Kwc9"
      },
      "source": [
        "## 2.3 Инициализация объекта рекуррентной нейронной сети"
      ]
    },
    {
      "cell_type": "code",
      "execution_count": 16,
      "metadata": {
        "notebookRunGroups": {
          "groupValue": "2"
        }
      },
      "outputs": [],
      "source": [
        "class RNN(nn.Module):\n",
        "\tdef __init__(\tself,\n",
        "\t\t\t\t\tinput_size: int,\n",
        "\t\t\t\t\thidden_size: int,\n",
        "\t\t\t\t\toutput_size: int,\n",
        "\t\t\t\t\tn_layers: int = 1,\n",
        "\t\t\t\t\tdropout: float = 0.0,\n",
        "\t\t\t\t\tname: str = 'rnn'):\n",
        "\t\tsuper(RNN, self).__init__()\n",
        "\t\tself.input_size = input_size\n",
        "\t\tself.hidden_size = hidden_size\n",
        "\t\tself.output_size = output_size\n",
        "\t\tself.n_layers = n_layers\n",
        "\t\tself.name = name\n",
        "\t\t\n",
        "\t\tself.encoder = nn.Embedding(input_size, hidden_size)\n",
        "\t\tself.rnn_cell = nn.RNN(\n",
        "\t\t\tinput_size = hidden_size*2,\n",
        "\t\t\thidden_size = hidden_size,\n",
        "\t\t\tnum_layers = n_layers,\n",
        "\t\t\tbatch_first=True,\n",
        "\t\t\tbidirectional=False,\n",
        "\t\t\tdropout = dropout\n",
        "\t\t)\n",
        "\t\tself.decoder = nn.Linear(hidden_size, output_size)\n",
        "\t\n",
        "\tdef forward(self, input, hidden):\n",
        "\t\tinput = self.encoder(input.view(1, -1))\n",
        "\t\toutput, hidden = self.rnn_cell(input.view(1, 1, -1), hidden)\n",
        "\t\toutput = self.decoder(output.view(1, -1))\n",
        "\t\treturn output, hidden\n",
        "\n",
        "\tdef init_hidden(self):\n",
        "\t\treturn Variable(torch.zeros(self.n_layers, 1, self.hidden_size))\n",
        "\t\t\t\t"
      ]
    },
    {
      "cell_type": "code",
      "execution_count": 17,
      "metadata": {},
      "outputs": [
        {
          "data": {
            "text/plain": [
              "=================================================================\n",
              "Layer (type:depth-idx)                   Param #\n",
              "=================================================================\n",
              "RNN                                      --\n",
              "├─Embedding: 1-1                         2,614,912\n",
              "├─RNN: 1-2                               49,408\n",
              "├─Linear: 1-3                            2,635,341\n",
              "=================================================================\n",
              "Total params: 5,299,661\n",
              "Trainable params: 5,299,661\n",
              "Non-trainable params: 0\n",
              "================================================================="
            ]
          },
          "execution_count": 17,
          "metadata": {},
          "output_type": "execute_result"
        }
      ],
      "source": [
        "rnnM = RNN(\n",
        "\tinput_size = voc_len, \n",
        "\thidden_size = 128, \n",
        "\toutput_size = voc_len, \n",
        "\tn_layers = 1,\n",
        "\tname = 'rnn_1'\n",
        ")\n",
        "rnnM.to(device)\n",
        "summary(rnnM)"
      ]
    },
    {
      "cell_type": "markdown",
      "metadata": {
        "id": "liOZimvTKwc-"
      },
      "source": [
        "## 2.4 Обучение обычной рекуррентной нейронной сети"
      ]
    },
    {
      "cell_type": "code",
      "execution_count": 11,
      "metadata": {
        "notebookRunGroups": {
          "groupValue": "2"
        }
      },
      "outputs": [],
      "source": [
        "def train(inp, target):\n",
        "    hidden = decoder.init_hidden().cuda()\n",
        "    decoder.zero_grad()\n",
        "    loss = 0\n",
        "    \n",
        "    for c in range(chunk_len):\n",
        "        output, hidden = decoder(inp[c].cuda(), hidden)\n",
        "        loss += criterion(output, target[c].cuda())\n",
        "\n",
        "    loss.backward()\n",
        "    decoder_optimizer.step()\n",
        "\n",
        "    return loss.data.item() / chunk_len"
      ]
    },
    {
      "cell_type": "code",
      "execution_count": 12,
      "metadata": {
        "notebookRunGroups": {
          "groupValue": "2"
        }
      },
      "outputs": [],
      "source": [
        "def time_since(since):\n",
        "    s = time.time() - since\n",
        "    m = math.floor(s / 60)\n",
        "    s -= m * 60\n",
        "    return '%dm %ds' % (m, s)"
      ]
    },
    {
      "cell_type": "code",
      "execution_count": 18,
      "metadata": {
        "id": "DfTeyL-eS-nZ",
        "notebookRunGroups": {
          "groupValue": "2"
        }
      },
      "outputs": [],
      "source": [
        "loadAndTrain = False\n",
        "n_epochs = 100\n",
        "print_every = 1\n",
        "plot_every = 1\n",
        "hidden_size = 128\n",
        "n_layers = 3\n",
        "lr = 0.015\n",
        "\n",
        "decoder = RNN(voc_len, hidden_size, voc_len, n_layers, name = 'rnn_1')\n",
        "if loadAndTrain and exists(f'./model/{decoder.name}.dump'):\n",
        "\tdecoder.load_state_dict(torch.load(f'./model/{decoder.name}.dump'))\n",
        "decoder.to(device)\n",
        "decoder_optimizer = torch.optim.Adam(decoder.parameters(), lr = lr)\n",
        "criterion = nn.CrossEntropyLoss()\n",
        "start = time.time()\n",
        "all_losses = []\n",
        "loss_avg = 0"
      ]
    },
    {
      "cell_type": "code",
      "execution_count": 14,
      "metadata": {},
      "outputs": [
        {
          "name": "stdout",
          "output_type": "stream",
          "text": [
            "[2m 12s (1 1%) 9.9361]\n",
            "[3m 43s (2 2%) 9.7772]\n",
            "[5m 13s (3 3%) 9.0571]\n",
            "[6m 44s (4 4%) 8.8894]\n",
            "[8m 15s (5 5%) 8.5976]\n",
            "[9m 45s (6 6%) 9.6815]\n",
            "[11m 17s (7 7%) 8.3462]\n",
            "[12m 48s (8 8%) 8.2562]\n",
            "[14m 19s (9 9%) 8.0741]\n",
            "[15m 50s (10 10%) 7.8776]\n",
            "[17m 20s (11 11%) 7.6815]\n",
            "[18m 52s (12 12%) 7.4811]\n",
            "[20m 22s (13 13%) 7.2333]\n",
            "[21m 52s (14 14%) 6.9926]\n",
            "[23m 23s (15 15%) 6.7511]\n",
            "[24m 53s (16 16%) 6.4900]\n",
            "[26m 23s (17 17%) 6.2264]\n",
            "[27m 52s (18 18%) 5.9570]\n",
            "[29m 23s (19 19%) 5.6804]\n",
            "[30m 53s (20 20%) 5.4088]\n",
            "[32m 24s (21 21%) 5.1410]\n",
            "[33m 54s (22 22%) 4.8772]\n",
            "[35m 24s (23 23%) 4.6250]\n",
            "[36m 54s (24 24%) 4.3884]\n",
            "[38m 24s (25 25%) 4.1580]\n",
            "[39m 53s (26 26%) 3.9461]\n",
            "[41m 23s (27 27%) 3.7475]\n",
            "[42m 53s (28 28%) 3.5614]\n",
            "[44m 23s (29 28%) 3.5878]\n",
            "[45m 53s (30 30%) 3.5902]\n",
            "[47m 23s (31 31%) 3.4289]\n",
            "[48m 53s (32 32%) 3.2765]\n",
            "[50m 23s (33 33%) 3.1469]\n",
            "[51m 53s (34 34%) 3.0007]\n",
            "[53m 23s (35 35%) 2.8625]\n",
            "[54m 54s (36 36%) 2.7260]\n",
            "[56m 25s (37 37%) 2.5934]\n",
            "[57m 55s (38 38%) 2.4682]\n",
            "[59m 26s (39 39%) 2.3459]\n",
            "[60m 55s (40 40%) 2.2332]\n",
            "[62m 25s (41 41%) 2.1228]\n",
            "[63m 55s (42 42%) 2.0174]\n",
            "[65m 26s (43 43%) 1.9184]\n",
            "[66m 57s (44 44%) 1.8322]\n",
            "[68m 27s (45 45%) 1.7322]\n",
            "[69m 57s (46 46%) 1.6452]\n",
            "[71m 27s (47 47%) 1.5606]\n",
            "[72m 57s (48 48%) 1.4807]\n",
            "[74m 28s (49 49%) 1.4028]\n",
            "[75m 57s (50 50%) 1.3305]\n",
            "[77m 27s (51 51%) 1.2600]\n",
            "[78m 57s (52 52%) 1.1926]\n",
            "[80m 27s (53 53%) 1.1284]\n",
            "[81m 57s (54 54%) 1.0669]\n",
            "[83m 27s (55 55%) 1.0081]\n",
            "[84m 57s (56 56%) 0.9514]\n",
            "[86m 27s (57 56%) 0.8976]\n",
            "[87m 57s (58 57%) 0.8460]\n",
            "[89m 28s (59 59%) 0.7970]\n",
            "[90m 58s (60 60%) 0.7501]\n",
            "[92m 28s (61 61%) 0.7056]\n",
            "[93m 59s (62 62%) 0.6631]\n",
            "[95m 29s (63 63%) 0.6230]\n",
            "[96m 59s (64 64%) 0.5847]\n",
            "[98m 30s (65 65%) 0.5486]\n",
            "[100m 0s (66 66%) 0.5141]\n",
            "[101m 30s (67 67%) 0.4821]\n",
            "[103m 0s (68 68%) 0.4516]\n",
            "[104m 30s (69 69%) 0.4224]\n",
            "[106m 0s (70 70%) 0.3949]\n",
            "[107m 31s (71 71%) 0.3689]\n",
            "[109m 1s (72 72%) 0.3445]\n",
            "[110m 31s (73 73%) 0.3270]\n",
            "[112m 1s (74 74%) 0.4730]\n",
            "[113m 31s (75 75%) 0.5451]\n",
            "[115m 2s (76 76%) 0.5166]\n",
            "[116m 32s (77 77%) 0.4883]\n",
            "[118m 2s (78 78%) 0.4442]\n",
            "[119m 32s (79 79%) 0.3935]\n",
            "[121m 2s (80 80%) 0.3684]\n",
            "[122m 32s (81 81%) 0.3311]\n",
            "[124m 2s (82 82%) 0.3051]\n",
            "[125m 33s (83 83%) 0.2791]\n",
            "[127m 3s (84 84%) 0.2543]\n",
            "[128m 33s (85 85%) 0.2334]\n",
            "[130m 4s (86 86%) 0.2134]\n",
            "[131m 34s (87 87%) 0.1957]\n",
            "[133m 4s (88 88%) 0.1798]\n",
            "[134m 34s (89 89%) 0.1649]\n",
            "[136m 4s (90 90%) 0.1526]\n",
            "[137m 35s (91 91%) 0.1395]\n",
            "[139m 6s (92 92%) 0.1295]\n",
            "[140m 37s (93 93%) 0.1191]\n",
            "[142m 7s (94 94%) 0.1104]\n",
            "[143m 39s (95 95%) 0.1024]\n",
            "[145m 9s (96 96%) 0.0949]\n",
            "[146m 40s (97 97%) 0.0884]\n",
            "[148m 10s (98 98%) 0.0821]\n",
            "[149m 40s (99 99%) 0.0766]\n",
            "[151m 11s (100 100%) 0.0716]\n"
          ]
        }
      ],
      "source": [
        "for epoch in range(1, n_epochs + 1):\n",
        "    loss = train(inp,tar)       \n",
        "    loss_avg += loss\n",
        "\n",
        "    if epoch % print_every == 0:\n",
        "        print('[%s (%d %d%%) %.4f]' % (time_since(start), epoch, epoch / n_epochs * 100, loss))\n",
        "\n",
        "    if epoch % plot_every == 0:\n",
        "        all_losses.append(loss_avg / plot_every)\n",
        "        loss_avg = 0"
      ]
    },
    {
      "cell_type": "code",
      "execution_count": 21,
      "metadata": {
        "notebookRunGroups": {
          "groupValue": ""
        }
      },
      "outputs": [],
      "source": [
        "torch.save(decoder.state_dict(), f'./model/{decoder.name}.dump')"
      ]
    },
    {
      "cell_type": "code",
      "execution_count": 20,
      "metadata": {
        "notebookRunGroups": {
          "groupValue": ""
        }
      },
      "outputs": [
        {
          "data": {
            "image/png": "[encoded data removed]",
            "text/plain": [
              "<Figure size 432x288 with 1 Axes>"
            ]
          },
          "metadata": {
            "needs_background": "light"
          },
          "output_type": "display_data"
        }
      ],
      "source": [
        "%matplotlib inline\n",
        "\n",
        "plt.figure()\n",
        "plt.plot(all_losses)\n",
        "plt.ylabel('losses')\n",
        "plt.xlabel('epoch')\n",
        "plt.show()"
      ]
    },
    {
      "cell_type": "markdown",
      "metadata": {
        "id": "2K6Inp-qKwc_"
      },
      "source": [
        "## 2.5 Генерация текстов при помощи обычной рекуррентной сети"
      ]
    },
    {
      "cell_type": "code",
      "execution_count": 19,
      "metadata": {
        "id": "JRt6j0VsKhdW",
        "notebookRunGroups": {
          "groupValue": "2"
        }
      },
      "outputs": [],
      "source": [
        "def evaluate(prime_str='this process', predict_len = 100, temperature = 0.8):\n",
        "\thidden = decoder.init_hidden().cuda()\n",
        "\n",
        "\tfor p in range(predict_len):\n",
        "\t\t\n",
        "\t\tprime_input = torch.tensor([word_to_ix[w] for w in prime_str.split()], dtype=torch.long).cuda()\n",
        "\t\tinp = prime_input[-2:] #last two words as input\n",
        "\t\toutput, hidden = decoder(inp, hidden)\n",
        "\t\t\n",
        "\t\t# Sample from the network as a multinomial distribution\n",
        "\t\toutput_dist = output.data.view(-1).div(temperature).exp()\n",
        "\t\ttop_i = torch.multinomial(output_dist, 1)[0]\n",
        "\t\t\n",
        "\t\t# Add predicted word to string and use as next input\n",
        "\t\tpredicted_word = list(word_to_ix.keys())[list(word_to_ix.values()).index(top_i)]\n",
        "\t\tprime_str += \" \" + predicted_word\n",
        "\n",
        "\treturn prime_str"
      ]
    },
    {
      "cell_type": "code",
      "execution_count": 23,
      "metadata": {},
      "outputs": [
        {
          "name": "stdout",
          "output_type": "stream",
          "text": [
            "в петербурге пораженный знает существеннейших крепостей николы ненужные вздохнула любовные женщиной непосильным офицерский ничтожные voler весьма удерживал сохранены сберечь брусье проложенному натянуто secours кивал нагибался встала напущенное внимательных несоразмерное спустились cosaques подчинявшей вглядываться вскакивала отправлениями подводила вшами выбирая возвращался общей девять неизвестными\n"
          ]
        }
      ],
      "source": [
        "print(evaluate(\n",
        "\tprime_str ='в петербурге', \n",
        "\tpredict_len = 40, \n",
        "\ttemperature = 1))"
      ]
    },
    {
      "cell_type": "code",
      "execution_count": 22,
      "metadata": {},
      "outputs": [
        {
          "name": "stdout",
          "output_type": "stream",
          "text": [
            "девять дней озабоченность баловались громадностию булавку находившийся узнал страстное неловкость стремятся поверх выезжая глаз воет рузою делу 50 чувствовалась вреда распалась свободы рузою впечатлению неразрешимым рузою parler рузою сутуловатых ce забытый найдете представлялся ушиб различной являлась обросшие быстрых делу жесту мгновенному непрерывности\n"
          ]
        }
      ],
      "source": [
        "print(evaluate(\n",
        "\tprime_str ='девять дней', \n",
        "\tpredict_len = 40, \n",
        "\ttemperature = 1))"
      ]
    },
    {
      "cell_type": "markdown",
      "metadata": {
        "id": "PQIhCxJsLRZA"
      },
      "source": [
        "## 2.6 Обучение рекуррентной нейронной сети с LSTM-ячейками"
      ]
    },
    {
      "cell_type": "code",
      "execution_count": 24,
      "metadata": {
        "notebookRunGroups": {
          "groupValue": "2"
        }
      },
      "outputs": [],
      "source": [
        "class Dataset(torch.utils.data.Dataset):\n",
        "    def __init__(self,args,):\n",
        "        self.args = args\n",
        "        self.words = self.load_words()\n",
        "        self.uniq_words = self.get_uniq_words()\n",
        "\n",
        "        self.index_to_word = {index: word for index, word in enumerate(self.uniq_words)}\n",
        "        self.word_to_index = {word: index for index, word in enumerate(self.uniq_words)}\n",
        "\n",
        "        self.words_indexes = [self.word_to_index[w] for w in self.words]\n",
        "\n",
        "    def load_words(self):\n",
        "        train_df = pd.read_csv('./data/text.csv')\n",
        "        text = train_df['Sentence'].str.cat(sep=' ')\n",
        "        return text.split(' ')\n",
        "\n",
        "    def get_uniq_words(self):\n",
        "        word_counts = Counter(self.words)\n",
        "        return sorted(word_counts, key=word_counts.get, reverse=True)\n",
        "\n",
        "    def __len__(self):\n",
        "        return len(self.words_indexes) - self.args['sequence_length']\n",
        "\n",
        "    def __getitem__(self, index):\n",
        "        return (\n",
        "            torch.tensor(self.words_indexes[index:index+self.args['sequence_length']]),\n",
        "            torch.tensor(self.words_indexes[index+1:index+self.args['sequence_length']+1]),\n",
        "        )"
      ]
    },
    {
      "cell_type": "code",
      "execution_count": 78,
      "metadata": {
        "id": "hzGeu7iXLRfl",
        "notebookRunGroups": {
          "groupValue": "2"
        }
      },
      "outputs": [],
      "source": [
        "class ModelLSTM(nn.Module):\n",
        "\tdef __init__(self, dataset, name:str = 'lstm'):\n",
        "\t\tsuper(ModelLSTM, self).__init__()\n",
        "\t\tself.lstm_size = 128\n",
        "\t\tself.embedding_dim = 128\n",
        "\t\tself.num_layers = 3\n",
        "\t\tself.name = name\n",
        "\n",
        "\t\tn_vocab = len(dataset.uniq_words)\n",
        "\t\tself.embedding = nn.Embedding(\n",
        "\t\t\tnum_embeddings=n_vocab,\n",
        "\t\t\tembedding_dim=self.embedding_dim,\n",
        "\t\t)\n",
        "\t\tself.lstm = nn.LSTM(\n",
        "\t\t\tinput_size=self.lstm_size,\n",
        "\t\t\thidden_size=self.lstm_size,\n",
        "\t\t\tnum_layers=self.num_layers,\n",
        "\t\t\tdropout=0.2,\n",
        "\t\t)\n",
        "\t\tself.fc = nn.Linear(self.lstm_size, n_vocab)\n",
        "\n",
        "\tdef forward(self, x, prev_state):\n",
        "\t\tembed = self.embedding(x)\n",
        "\t\toutput, state = self.lstm(embed.to(device), prev_state)\n",
        "\t\tlogits = self.fc(output)\n",
        "\t\treturn logits, state\n",
        "\n",
        "\tdef init_state(self, sequence_length):\n",
        "\t\treturn (torch.zeros(self.num_layers, sequence_length, self.lstm_size).to(device),\n",
        "\t\t\t\ttorch.zeros(self.num_layers, sequence_length, self.lstm_size).to(device))"
      ]
    },
    {
      "cell_type": "code",
      "execution_count": 80,
      "metadata": {
        "notebookRunGroups": {
          "groupValue": "2"
        }
      },
      "outputs": [],
      "source": [
        "def train(dataset, model, args, optimizer):\n",
        "\tmodel.train()\n",
        "\tprint(args)\n",
        "\tdataloader = DataLoader(dataset, batch_size=args['batch_size'])\n",
        "\tcriterion = nn.CrossEntropyLoss()\n",
        "\t\n",
        "\tloss_history = []\n",
        "\tfor epoch in range(args['max_epochs']):\n",
        "\t\tstate_h, state_c = model.init_state(args['sequence_length'])\n",
        "\t\tfor batch, data in enumerate(dataloader):\n",
        "\t\t\tx, y = data[0].to(device), data[1].to(device)\n",
        "\t\t\toptimizer.zero_grad()\n",
        "\n",
        "\t\t\ty_pred, (state_h, state_c) = model(x, (state_h.to(device), state_c.to(device)))\n",
        "\t\t\tloss = criterion(y_pred.transpose(1, 2), y)\n",
        "\n",
        "\t\t\tstate_h = state_h.detach()\n",
        "\t\t\tstate_c = state_c.detach()\n",
        "\n",
        "\t\t\tloss.backward()\n",
        "\t\t\toptimizer.step()\n",
        "\t\t\n",
        "\t\tloss_val = loss.item()\n",
        "\t\tloss_history.append(loss_val)\n",
        "\t\tprint({ 'epoch': epoch + 1, 'loss': loss_val })\n",
        "\t\n",
        "\tplt.plot(loss_history)\n",
        "\tplt.title(\"Losses on epochs\")\n",
        "\tplt.show()\n",
        "\treturn loss_history"
      ]
    },
    {
      "cell_type": "code",
      "execution_count": 104,
      "metadata": {
        "notebookRunGroups": {
          "groupValue": "2"
        }
      },
      "outputs": [],
      "source": [
        "def predict(dataset, model, text, next_words=100):\n",
        "\tmodel.eval()\n",
        "\twords = text.split(' ')\n",
        "\tstate_h, state_c = model.init_state(len(words))\n",
        "\n",
        "\tfor i in range(0, next_words):\n",
        "\t\tx = torch.tensor([[dataset.word_to_index[w] for w in words[i:]]])\n",
        "\t\ty_pred, (state_h, state_c) = model(x.to(device), (state_h.to(device), state_c.to(device)))\n",
        "\n",
        "\t\tlast_word_logits = y_pred[0][-1]\n",
        "\t\tp = torch.nn.functional.softmax(last_word_logits.to(device), dim=0).detach().cpu().numpy()\n",
        "\t\tword_index = np.random.choice(len(last_word_logits), p=p)\n",
        "\t\twords.append(dataset.index_to_word[word_index])\n",
        "\n",
        "\treturn words"
      ]
    },
    {
      "cell_type": "code",
      "execution_count": 98,
      "metadata": {
        "notebookRunGroups": {
          "groupValue": "2"
        }
      },
      "outputs": [],
      "source": [
        "args = {\n",
        "\t'max_epochs':100,\n",
        "\t'batch_size':256,\n",
        "\t'sequence_length':4\n",
        "}\n",
        "\n",
        "torch.cuda.empty_cache()\n",
        "dataset = Dataset(args)\n",
        "model = ModelLSTM(dataset, name = 'lstm_1')\n",
        "model.to(device)\n",
        "optimizer = optim.Adam(model.parameters(), lr=0.001)\n",
        "loadAndTrain = False"
      ]
    },
    {
      "cell_type": "code",
      "execution_count": 99,
      "metadata": {},
      "outputs": [
        {
          "name": "stdout",
          "output_type": "stream",
          "text": [
            "{'max_epochs': 100, 'batch_size': 256, 'sequence_length': 4}\n",
            "{'epoch': 1, 'loss': 6.953858852386475}\n",
            "{'epoch': 2, 'loss': 6.45952844619751}\n",
            "{'epoch': 3, 'loss': 6.133347988128662}\n",
            "{'epoch': 4, 'loss': 5.863404273986816}\n",
            "{'epoch': 5, 'loss': 5.763248443603516}\n",
            "{'epoch': 6, 'loss': 5.726769924163818}\n",
            "{'epoch': 7, 'loss': 5.634657382965088}\n",
            "{'epoch': 8, 'loss': 5.4459733963012695}\n",
            "{'epoch': 9, 'loss': 5.360154151916504}\n",
            "{'epoch': 10, 'loss': 5.292707443237305}\n",
            "{'epoch': 11, 'loss': 5.201794624328613}\n",
            "{'epoch': 12, 'loss': 5.180135250091553}\n",
            "{'epoch': 13, 'loss': 5.055412769317627}\n",
            "{'epoch': 14, 'loss': 4.979198932647705}\n",
            "{'epoch': 15, 'loss': 4.880493640899658}\n",
            "{'epoch': 16, 'loss': 4.832677364349365}\n",
            "{'epoch': 17, 'loss': 4.65943717956543}\n",
            "{'epoch': 18, 'loss': 4.681419849395752}\n",
            "{'epoch': 19, 'loss': 4.497992992401123}\n",
            "{'epoch': 20, 'loss': 4.522093296051025}\n",
            "{'epoch': 21, 'loss': 4.361227512359619}\n",
            "{'epoch': 22, 'loss': 4.437506675720215}\n",
            "{'epoch': 23, 'loss': 4.159354209899902}\n",
            "{'epoch': 24, 'loss': 4.6287055015563965}\n",
            "{'epoch': 25, 'loss': 4.003824234008789}\n",
            "{'epoch': 26, 'loss': 3.936790704727173}\n",
            "{'epoch': 27, 'loss': 3.8768434524536133}\n",
            "{'epoch': 28, 'loss': 3.8582088947296143}\n",
            "{'epoch': 29, 'loss': 3.781548261642456}\n",
            "{'epoch': 30, 'loss': 3.7346291542053223}\n",
            "{'epoch': 31, 'loss': 3.582813262939453}\n",
            "{'epoch': 32, 'loss': 3.521911382675171}\n",
            "{'epoch': 33, 'loss': 3.4912548065185547}\n",
            "{'epoch': 34, 'loss': 3.38287615776062}\n",
            "{'epoch': 35, 'loss': 3.4387283325195312}\n",
            "{'epoch': 36, 'loss': 3.4725725650787354}\n",
            "{'epoch': 37, 'loss': 3.3111519813537598}\n",
            "{'epoch': 38, 'loss': 3.1752090454101562}\n",
            "{'epoch': 39, 'loss': 3.094893217086792}\n",
            "{'epoch': 40, 'loss': 3.036041736602783}\n",
            "{'epoch': 41, 'loss': 3.0164780616760254}\n",
            "{'epoch': 42, 'loss': 3.0629348754882812}\n",
            "{'epoch': 43, 'loss': 2.9604339599609375}\n",
            "{'epoch': 44, 'loss': 2.920252799987793}\n",
            "{'epoch': 45, 'loss': 2.8446004390716553}\n",
            "{'epoch': 46, 'loss': 2.748962879180908}\n",
            "{'epoch': 47, 'loss': 2.7367169857025146}\n",
            "{'epoch': 48, 'loss': 2.659498691558838}\n",
            "{'epoch': 49, 'loss': 2.601560115814209}\n",
            "{'epoch': 50, 'loss': 2.624868154525757}\n",
            "{'epoch': 51, 'loss': 2.565704822540283}\n",
            "{'epoch': 52, 'loss': 2.5059804916381836}\n",
            "{'epoch': 53, 'loss': 2.559816360473633}\n",
            "{'epoch': 54, 'loss': 2.429032802581787}\n",
            "{'epoch': 55, 'loss': 2.4032671451568604}\n",
            "{'epoch': 56, 'loss': 2.2767763137817383}\n",
            "{'epoch': 57, 'loss': 2.262847423553467}\n",
            "{'epoch': 58, 'loss': 2.2198033332824707}\n",
            "{'epoch': 59, 'loss': 2.160978078842163}\n",
            "{'epoch': 60, 'loss': 2.173729658126831}\n",
            "{'epoch': 61, 'loss': 2.1303281784057617}\n",
            "{'epoch': 62, 'loss': 2.0668528079986572}\n",
            "{'epoch': 63, 'loss': 2.065614700317383}\n",
            "{'epoch': 64, 'loss': 1.9824360609054565}\n",
            "{'epoch': 65, 'loss': 2.006239891052246}\n",
            "{'epoch': 66, 'loss': 1.8535478115081787}\n",
            "{'epoch': 67, 'loss': 1.8230845928192139}\n",
            "{'epoch': 68, 'loss': 1.8424263000488281}\n",
            "{'epoch': 69, 'loss': 1.7670072317123413}\n",
            "{'epoch': 70, 'loss': 1.7866215705871582}\n",
            "{'epoch': 71, 'loss': 1.7170106172561646}\n",
            "{'epoch': 72, 'loss': 1.6766730546951294}\n",
            "{'epoch': 73, 'loss': 1.673290491104126}\n",
            "{'epoch': 74, 'loss': 1.5582642555236816}\n",
            "{'epoch': 75, 'loss': 1.6673742532730103}\n",
            "{'epoch': 76, 'loss': 1.566307544708252}\n",
            "{'epoch': 77, 'loss': 1.5491478443145752}\n",
            "{'epoch': 78, 'loss': 1.5626511573791504}\n",
            "{'epoch': 79, 'loss': 1.5394179821014404}\n",
            "{'epoch': 80, 'loss': 1.520322561264038}\n",
            "{'epoch': 81, 'loss': 1.5360119342803955}\n",
            "{'epoch': 82, 'loss': 1.481716513633728}\n",
            "{'epoch': 83, 'loss': 1.4349772930145264}\n",
            "{'epoch': 84, 'loss': 1.5121536254882812}\n",
            "{'epoch': 85, 'loss': 1.459722876548767}\n",
            "{'epoch': 86, 'loss': 1.39368736743927}\n",
            "{'epoch': 87, 'loss': 1.4103105068206787}\n",
            "{'epoch': 88, 'loss': 1.4044880867004395}\n",
            "{'epoch': 89, 'loss': 1.3750050067901611}\n",
            "{'epoch': 90, 'loss': 1.4517134428024292}\n",
            "{'epoch': 91, 'loss': 1.352613091468811}\n",
            "{'epoch': 92, 'loss': 1.2601022720336914}\n",
            "{'epoch': 93, 'loss': 1.3326671123504639}\n",
            "{'epoch': 94, 'loss': 1.3853471279144287}\n",
            "{'epoch': 95, 'loss': 1.3187034130096436}\n",
            "{'epoch': 96, 'loss': 1.3009657859802246}\n",
            "{'epoch': 97, 'loss': 1.2694278955459595}\n",
            "{'epoch': 98, 'loss': 1.1936392784118652}\n",
            "{'epoch': 99, 'loss': 1.1592801809310913}\n",
            "{'epoch': 100, 'loss': 1.2250763177871704}\n"
          ]
        },
        {
          "data": {
            "image/png": "[encoded data removed]",
            "text/plain": [
              "<Figure size 432x288 with 1 Axes>"
            ]
          },
          "metadata": {
            "needs_background": "light"
          },
          "output_type": "display_data"
        },
        {
          "data": {
            "text/plain": [
              "[6.953858852386475,\n",
              " 6.45952844619751,\n",
              " 6.133347988128662,\n",
              " 5.863404273986816,\n",
              " 5.763248443603516,\n",
              " 5.726769924163818,\n",
              " 5.634657382965088,\n",
              " 5.4459733963012695,\n",
              " 5.360154151916504,\n",
              " 5.292707443237305,\n",
              " 5.201794624328613,\n",
              " 5.180135250091553,\n",
              " 5.055412769317627,\n",
              " 4.979198932647705,\n",
              " 4.880493640899658,\n",
              " 4.832677364349365,\n",
              " 4.65943717956543,\n",
              " 4.681419849395752,\n",
              " 4.497992992401123,\n",
              " 4.522093296051025,\n",
              " 4.361227512359619,\n",
              " 4.437506675720215,\n",
              " 4.159354209899902,\n",
              " 4.6287055015563965,\n",
              " 4.003824234008789,\n",
              " 3.936790704727173,\n",
              " 3.8768434524536133,\n",
              " 3.8582088947296143,\n",
              " 3.781548261642456,\n",
              " 3.7346291542053223,\n",
              " 3.582813262939453,\n",
              " 3.521911382675171,\n",
              " 3.4912548065185547,\n",
              " 3.38287615776062,\n",
              " 3.4387283325195312,\n",
              " 3.4725725650787354,\n",
              " 3.3111519813537598,\n",
              " 3.1752090454101562,\n",
              " 3.094893217086792,\n",
              " 3.036041736602783,\n",
              " 3.0164780616760254,\n",
              " 3.0629348754882812,\n",
              " 2.9604339599609375,\n",
              " 2.920252799987793,\n",
              " 2.8446004390716553,\n",
              " 2.748962879180908,\n",
              " 2.7367169857025146,\n",
              " 2.659498691558838,\n",
              " 2.601560115814209,\n",
              " 2.624868154525757,\n",
              " 2.565704822540283,\n",
              " 2.5059804916381836,\n",
              " 2.559816360473633,\n",
              " 2.429032802581787,\n",
              " 2.4032671451568604,\n",
              " 2.2767763137817383,\n",
              " 2.262847423553467,\n",
              " 2.2198033332824707,\n",
              " 2.160978078842163,\n",
              " 2.173729658126831,\n",
              " 2.1303281784057617,\n",
              " 2.0668528079986572,\n",
              " 2.065614700317383,\n",
              " 1.9824360609054565,\n",
              " 2.006239891052246,\n",
              " 1.8535478115081787,\n",
              " 1.8230845928192139,\n",
              " 1.8424263000488281,\n",
              " 1.7670072317123413,\n",
              " 1.7866215705871582,\n",
              " 1.7170106172561646,\n",
              " 1.6766730546951294,\n",
              " 1.673290491104126,\n",
              " 1.5582642555236816,\n",
              " 1.6673742532730103,\n",
              " 1.566307544708252,\n",
              " 1.5491478443145752,\n",
              " 1.5626511573791504,\n",
              " 1.5394179821014404,\n",
              " 1.520322561264038,\n",
              " 1.5360119342803955,\n",
              " 1.481716513633728,\n",
              " 1.4349772930145264,\n",
              " 1.5121536254882812,\n",
              " 1.459722876548767,\n",
              " 1.39368736743927,\n",
              " 1.4103105068206787,\n",
              " 1.4044880867004395,\n",
              " 1.3750050067901611,\n",
              " 1.4517134428024292,\n",
              " 1.352613091468811,\n",
              " 1.2601022720336914,\n",
              " 1.3326671123504639,\n",
              " 1.3853471279144287,\n",
              " 1.3187034130096436,\n",
              " 1.3009657859802246,\n",
              " 1.2694278955459595,\n",
              " 1.1936392784118652,\n",
              " 1.1592801809310913,\n",
              " 1.2250763177871704]"
            ]
          },
          "execution_count": 99,
          "metadata": {},
          "output_type": "execute_result"
        }
      ],
      "source": [
        "if loadAndTrain and exists(f'./model/{model.name}.dump'):\n",
        "\tmodel.load_state_dict(torch.load(f'./model/{model.name}.dump'))\n",
        "\n",
        "train(dataset, model, args, optimizer)"
      ]
    },
    {
      "cell_type": "code",
      "execution_count": 103,
      "metadata": {},
      "outputs": [],
      "source": [
        "torch.save(model.state_dict(), f'./model/{model.name}.dump')"
      ]
    },
    {
      "cell_type": "code",
      "execution_count": 160,
      "metadata": {},
      "outputs": [
        {
          "name": "stdout",
          "output_type": "stream",
          "text": [
            "долго нее\n",
            "  с ним, все год власть в Европе его, тот, в которой она привычные его течь идей значение. мира, того которое надо может ответить даже передается  смотря  молчаливым согласием Ему чувствовал не собой этих вернее прямого исполнение выражением 1) назад, было, я сейчас же знаю, и удивлялся улыбающимся Для исполненное Он допустить, что ничего не сам ни в  этом  Франции, лица, ряд  свободным и менее хорошо; но ему удивлению себя говорили от обычаю, для которых нам прямое усилия,  очевидно, бы делают одно ему явлений,  был старания  случаев последние смертей приготовительный истории.\n"
          ]
        }
      ],
      "source": [
        "print(' '.join(predict(dataset, model, text='долго')))"
      ]
    },
    {
      "cell_type": "code",
      "execution_count": 161,
      "metadata": {},
      "outputs": [],
      "source": [
        "torch.cuda.empty_cache()"
      ]
    },
    {
      "cell_type": "markdown",
      "metadata": {
        "id": "hodfK4dxLWO3"
      },
      "source": [
        "## 2.7 Генерация текстов с разной температурой\n",
        "\n",
        "Попробуйте сгенерировать тексты с температурой из списка: `[0.1, 0.2, 0.4, 0.6, 0.8, 1.0]` (см. нотубук с семинара по RNN)"
      ]
    },
    {
      "cell_type": "code",
      "execution_count": 24,
      "metadata": {
        "id": "5SsbA8hSLWWJ"
      },
      "outputs": [
        {
          "name": "stdout",
          "output_type": "stream",
          "text": [
            "Temperature: 0.1\n",
            "девять дней озабоченность одно морозный поила высекать смотревшие быстрых прижимая неразрешимым сжималась курьер непосильным выезжая проскакавшие неожиданное за скольконибудь небольшие ничтожные забывал забывал забывал забывал забывал цель рузою непосильным точностью sacrifice уведомить\n",
            "Temperature: 0.2\n",
            "девять дней рассвело века aima удерживаясь возвращение медовый криком воет напустил четырехдневной сострадание чудо красивой xii офицерский хозяйки обрезал происходили привлекли главнокомандующим трясина власть общественных удивлен стрелка бездействия экипажа подушках быстрых семнадцатого\n",
            "Temperature: 0.4\n",
            "девять дней рассвело века влияния ножки пользоваться выпил иные effrayante обманет заменилась несоразмерное горячась рузою ремонта рузою шагами отворив запах готовый хвалят жнут заговоры признаться ce грустными земледелии млечный готовый колеблясь утро\n",
            "Temperature: 0.6\n",
            "девять дней рассвело века признаться пораженный воет пригородившей чаями подушках заговоры всо прижимая свето jusquau donne рассматривала кабалистическом возвращение объяснен мужчинах стоявшую наивыгоднейшие офицерский узнал рузою точностью красоте общественных запах recommencer трясущейся\n",
            "Temperature: 0.8\n",
            "девять дней озабоченность xii прошедшей соответствующему узнаю ухаживают красною посердиться нарушает портрета балаганах 10 головы естествоиспытатели приеме дивизий дорога переехать cachez бархатной показывались застенчивостью привело напрячь свето организации что лихорадочновоспаленными присоединился укладываться\n",
            "Temperature: 1.0\n",
            "девять дней рассвело века непрерывности sacrifice рузою страшным вилларского несшего вздрагиванья выбрался надо смущении выходите кабалистическом забытым жесту колеблясь ремонта ничтожные поступления погоревшим service наделавшие махнул посердиться естествоиспытатели смотревшие воспоминании наружи неожиданное\n"
          ]
        }
      ],
      "source": [
        "temperatures = [0.1, 0.2, 0.4, 0.6, 0.8, 1.0]\n",
        "\n",
        "for temperature in temperatures:\n",
        "    print(f'Temperature: {temperature}')\n",
        "    print(evaluate('девять дней', 30, temperature = 1))"
      ]
    },
    {
      "cell_type": "markdown",
      "metadata": {
        "id": "wmkAq2N7LdzA"
      },
      "source": [
        "## 2.8 Выводы"
      ]
    },
    {
      "cell_type": "markdown",
      "metadata": {
        "id": "KdFzjKnbV4yG"
      },
      "source": [
        "В ходе выполнения задания были созданы две модели рекуррентных нейронных сети с RNN и LSTM ячейками. Стандартные RNN страдают от исчезающих и взрывающихся градиентных проблем. LSTM решают эти проблемы, вводя новые затворы, такие как входные и забывающие затворы, которые позволяют лучше контролировать поток градиента и обеспечивают лучшее сохранение «зависимостей дальнего действия». Зависимость большого диапазона в RNN разрешается путем увеличения числа повторяющихся слоев в LSTM. Таже обучение RNN более долгое и ресурсоёмкое по сравнению с LSTM."
      ]
    }
  ],
  "metadata": {
    "accelerator": "GPU",
    "colab": {
      "collapsed_sections": [],
      "name": "oirs_hw_3.ipynb",
      "provenance": []
    },
    "kernelspec": {
      "display_name": "Python 3.10.5 64-bit (windows store)",
      "language": "python",
      "name": "python3"
    },
    "language_info": {
      "codemirror_mode": {
        "name": "ipython",
        "version": 3
      },
      "file_extension": ".py",
      "mimetype": "text/x-python",
      "name": "python",
      "nbconvert_exporter": "python",
      "pygments_lexer": "ipython3",
      "version": "3.10.5"
    },
    "vscode": {
      "interpreter": {
        "hash": "f45b512e9d6597108c983dc14036aa59df50132be952a879b132e54811f3c585"
      }
    }
  },
  "nbformat": 4,
  "nbformat_minor": 0
}
