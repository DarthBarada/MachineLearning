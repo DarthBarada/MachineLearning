{
  "cells": [
    {
      "cell_type": "markdown",
      "metadata": {
        "id": "7uLSt3vBI0zr"
      },
      "source": [
        "# Домашнее задание 3. Свёрточные и рекуррентные нейронные сети\n",
        "## Фамилия Имя Группа"
      ]
    },
    {
      "cell_type": "markdown",
      "metadata": {
        "id": "2JxNVonhRMgf"
      },
      "source": [
        "В зависимости от варианта, для решения задачи используйте следующие наборы данных:\n",
        "\n",
        "<table>\n",
        "    <thead>\n",
        "         <tr>\n",
        "            <th colspan=1>Задача генерации</th>\n",
        "            <th colspan=5>Задача классификации</th>\n",
        "        </tr>\n",
        "        <tr>\n",
        "            <th> </th>\n",
        "            <th>A</th>\n",
        "            <th>B</th>\n",
        "            <th style=\"background-color:red; color:white\">C</th>\n",
        "            <th>D</th>\n",
        "            <th>E</th>\n",
        "        </tr>\n",
        "    </thead>\n",
        "    <tbody>\n",
        "        <tr>\n",
        "            <td>K</td>\n",
        "            <td>1</td>\n",
        "            <td>2</td>\n",
        "            <td>3</td>\n",
        "            <td>4</td>\n",
        "            <td>5</td>\n",
        "        </tr>\n",
        "        <tr>\n",
        "            <td style=\"background-color:red; color:white\">L</td>\n",
        "            <td>6</td>\n",
        "            <td>7</td>\n",
        "            <td style=\"background-color:red; color:white\">8</td>\n",
        "            <td>9</td>\n",
        "            <td>10</td>\n",
        "        </tr>\n",
        "        <tr>\n",
        "            <td>M</td>\n",
        "            <td>11</td>\n",
        "            <td>12</td>\n",
        "            <td>13</td>\n",
        "            <td>14</td>\n",
        "            <td>15</td>\n",
        "        </tr>\n",
        "        <tr>\n",
        "            <td>N</td>\n",
        "            <td>16</td>\n",
        "            <td>17</td>\n",
        "            <td>18</td>\n",
        "            <td>19</td>\n",
        "            <td>20</td>\n",
        "        </tr>\n",
        "        <tr>\n",
        "            <td>O</td>\n",
        "            <td>21</td>\n",
        "            <td>22</td>\n",
        "            <td>23</td>\n",
        "            <td>24</td>\n",
        "            <td>25</td>\n",
        "        </tr>\n",
        "    </tbody>\n",
        "</table>\n",
        "\n",
        "### Наборы данных\n",
        "\n",
        "**Задача классификации картинок**\n",
        "\n",
        "A. [Набор данных \"Fashion MNIST\"](https://pytorch.org/vision/main/generated/torchvision.datasets.FashionMNIST.html) `torchvision.datasets.FashionMNIST train=True и False`\n",
        "\n",
        "B. [Набор данных \"Текстуры\"](https://pytorch.org/vision/main/generated/torchvision.datasets.DTD.html#torchvision.datasets.DTD) `torchvision.datasets.DTD split='train' и 'test'`\n",
        "\n",
        "C. **[Набор данных \"Буквы\"](https://pytorch.org/vision/main/generated/torchvision.datasets.EMNIST.html#torchvision.datasets.EMNIST)** `torchvision.datasets.EMNIST split=letters train=True и False`\n",
        "\n",
        "D. [Набор данных \"Кошки и собаки\"](https://pytorch.org/vision/main/generated/torchvision.datasets.OxfordIIITPet.html) `torchvision.datasets.OxfordIIITPet split = 'trainval' и 'test'` (объекты разбиты по породам (всего 37 пород), нужно построить бинарный классификатор собак и кошек)\n",
        "\n",
        "E. [Набор данных \"Дорожные знаки\"](https://pytorch.org/vision/main/generated/torchvision.datasets.GTSRB.html) `torchvision.datasets.GTSRB split = 'train' и 'test'`\n",
        "\n",
        "\n",
        "---\n",
        "\n",
        "**Задача генерации текстов**\n",
        "\n",
        "K. [Набор данных \"Евгений Онегин\"]() `onegin.txt`\n",
        "\n",
        "L. **[Набор данных \"Война и Мир\"]() `war_and_piece.txt`**\n",
        "\n",
        "M. [Набор данных \"Стихи\"]() `stihi.csv`\n",
        "\n",
        "N. [Набор данных \"Сказки\"]() `fairytales.txt`\n",
        "\n",
        "O. [Набор данных \"Новости\"]() `news.txt` или https://github.com/yutkin/Lenta.Ru-News-Dataset/releases"
      ]
    },
    {
      "cell_type": "markdown",
      "metadata": {
        "id": "zsqatIg_JBu7"
      },
      "source": [
        "# 0. Инициализация библиотек"
      ]
    },
    {
      "cell_type": "code",
      "execution_count": 33,
      "metadata": {
        "id": "WGZt4ftTJxg4",
        "notebookRunGroups": {
          "groupValue": "1"
        }
      },
      "outputs": [],
      "source": [
        "import torch\n",
        "import torchvision\n",
        "import numpy as np\n",
        "import pandas as pd\n",
        "import torch.nn as nn\n",
        "from torch import optim\n",
        "from os.path import exists\n",
        "import torch.nn.functional as F\n",
        "import matplotlib.pyplot as plt\n",
        "from torchsummary import summary\n",
        "from torch.autograd import Variable\n",
        "import matplotlib.animation as animation\n",
        "import torchvision.transforms as transforms"
      ]
    },
    {
      "cell_type": "markdown",
      "metadata": {
        "id": "aGY7pMa8_vhU"
      },
      "source": [
        "Подсказка по разделению пород на два класса\n",
        "```\n",
        "import torchvision\n",
        "\n",
        "# Все классы\n",
        "len(torchvision.datasets.OxfordIIITPet(root='data_train', download=True).classes)\n",
        "\n",
        "# кошки\n",
        "cats = ['Abyssinian', 'Bengal', 'Birman', 'Bombay', 'British Shorthair', 'Egyptian Mau', 'Maine Coon', 'Persian', 'Ragdoll', 'Russian Blue', 'Siamese', 'Sphynx']\n",
        "\n",
        "# собаки\n",
        "dogs = ['American Bulldog', 'American Pit Bull Terrier', 'Basset Hound', 'Beagle', 'Boxer', 'Chihuahua', 'English Cocker Spaniel', 'English Setter', 'German Shorthaired', 'Great Pyrenees',\n",
        "        'Havanese', 'Japanese Chin', 'Keeshond', 'Leonberger', 'Miniature Pinscher', 'Newfoundland', 'Pomeranian', 'Pug', 'Saint Bernard', 'Samoyed', 'Scottish Terrier', 'Shiba Inu',\n",
        "        'Staffordshire Bull Terrier', 'Wheaten Terrier', 'Yorkshire Terrier']\n",
        "```"
      ]
    },
    {
      "cell_type": "markdown",
      "metadata": {
        "id": "5oGgl1uGJBxH"
      },
      "source": [
        "# 1. Свёрточная нейронная сеть для классификации изображений (9 баллов)"
      ]
    },
    {
      "cell_type": "markdown",
      "metadata": {
        "id": "qV47VXssLKa9",
        "notebookRunGroups": {
          "groupValue": ""
        }
      },
      "source": [
        "## 1.1 Загрузка данных, разделение на train и test\n",
        "\n",
        "Загрузите данные при помощи torchvision.datasets. Можете предусмотреть опредлённые транфсофрмации картинки, например, изменение размера до 128 px, кроп по центру в 196 px и преобразование к классу torch.Tensor:\n",
        "\n",
        "```\n",
        "import torchvision\n",
        "\n",
        "\n",
        "transform = torchvision.transforms.Compose([\n",
        "    # resize\n",
        "    torchvision.transforms.Resize(128),\n",
        "    torchvision.transforms.CenterCrop(196),\n",
        "    torchvision.transforms.ToTensor()\n",
        "])\n",
        "```"
      ]
    },
    {
      "cell_type": "code",
      "execution_count": 87,
      "metadata": {
        "notebookRunGroups": {
          "groupValue": "1"
        }
      },
      "outputs": [],
      "source": [
        "transform = transforms.Compose([\n",
        "\ttransforms.Resize(24),\n",
        "\ttransforms.CenterCrop(32),\n",
        "\ttransforms.ToTensor()\n",
        "])"
      ]
    },
    {
      "cell_type": "code",
      "execution_count": 88,
      "metadata": {
        "notebookRunGroups": {
          "groupValue": "1"
        }
      },
      "outputs": [],
      "source": [
        "data_train = torchvision.datasets.EMNIST(\n",
        "\troot = './data/sets/letters/', \n",
        "\tsplit = \"letters\", \n",
        "\ttrain = True, \n",
        "\tdownload = True,\n",
        "\ttransform = transform\n",
        ")\n",
        "\n",
        "data_test = torchvision.datasets.EMNIST(\n",
        "\troot = './data/sets/letters/', \n",
        "\tsplit = \"letters\", \n",
        "\ttrain = False, \n",
        "\tdownload = True,\n",
        "\ttransform = transform\n",
        ")"
      ]
    },
    {
      "cell_type": "code",
      "execution_count": 89,
      "metadata": {
        "notebookRunGroups": {
          "groupValue": "1"
        }
      },
      "outputs": [],
      "source": [
        "nbatch = 16\n",
        "trainset = torch.utils.data.DataLoader(\n",
        "\tdata_train, \n",
        "\tbatch_size = nbatch, \n",
        "\tshuffle = True,\n",
        "\tnum_workers=2\n",
        ")\n",
        "testset = torch.utils.data.DataLoader(\n",
        "\tdata_test, \n",
        "\tbatch_size = nbatch, \n",
        "\tshuffle = False,\n",
        "\tnum_workers=2\n",
        ") "
      ]
    },
    {
      "cell_type": "code",
      "execution_count": 90,
      "metadata": {
        "notebookRunGroups": {
          "groupValue": "1"
        }
      },
      "outputs": [
        {
          "name": "stdout",
          "output_type": "stream",
          "text": [
            "n n l g d f e d v k p d h f f h\n"
          ]
        },
        {
          "data": {
            "image/png": "[encoded data removed]",
            "text/plain": [
              "<Figure size 432x288 with 1 Axes>"
            ]
          },
          "metadata": {
            "needs_background": "light"
          },
          "output_type": "display_data"
        }
      ],
      "source": [
        "def imshow(img):\n",
        "    img = img*std + mean\n",
        "    npimg = img.numpy()\n",
        "    plt.axis(\"off\")\n",
        "    npimg = np.transpose(npimg,(2, 1, 0))\n",
        "    plt.imshow(npimg)\n",
        "    plt.show\n",
        "    \n",
        "dataiter = iter(trainset)\n",
        "images, labels = dataiter.next()\n",
        "\n",
        "imshow(torchvision.utils.make_grid(images, nrow = 1))\n",
        "\n",
        "print(\" \".join(str(data_train.classes[labels[j]]) for j in range(nbatch)))"
      ]
    },
    {
      "cell_type": "markdown",
      "metadata": {
        "id": "MYWcgRrZSWfY"
      },
      "source": [
        "## 1.2 Предобработка данных (по необходимости)"
      ]
    },
    {
      "cell_type": "code",
      "execution_count": null,
      "metadata": {
        "id": "C-LVM7AwJ8si"
      },
      "outputs": [],
      "source": []
    },
    {
      "cell_type": "markdown",
      "metadata": {
        "id": "tP7e_V16J9zV"
      },
      "source": [
        "## 1.3 Инициализация объекта свёрточной нейронной сети\n",
        "\n",
        "Создайте нейронную сеть с 2-4 свёрточными слоями. В остальном конфигурация сети может быть произвольной. "
      ]
    },
    {
      "cell_type": "code",
      "execution_count": 161,
      "metadata": {
        "id": "YcsgF13xhcEa",
        "notebookRunGroups": {
          "groupValue": "1"
        }
      },
      "outputs": [],
      "source": [
        "class CNN(nn.Module):\n",
        "\tdef __init__(self, regularization:dict = {}):\n",
        "\t\tsuper(CNN, self).__init__()\n",
        "\t\tself.conv1 = nn.Sequential(\n",
        "\t\t\tnn.Conv2d(\n",
        "\t\t\t\tin_channels = 1, \n",
        "\t\t\t\tout_channels = 16, \n",
        "\t\t\t\tkernel_size = 5,\n",
        "\t\t\t\tstride = 1,\n",
        "\t\t\t\tpadding = 2\n",
        "\t\t\t),\n",
        "\t\t\tnn.ReLU(),\n",
        "\t\t\tnn.MaxPool2d(\n",
        "\t\t\t\tkernel_size = 2,\n",
        "\t\t\t\tstride = 2\n",
        "\t\t\t)\n",
        "\t\t)\n",
        "\t\tself.conv2 = nn.Sequential(\n",
        "\t\t\tnn.Conv2d(\n",
        "\t\t\t\tin_channels = 16, \n",
        "\t\t\t\tout_channels = 32, \n",
        "\t\t\t\tkernel_size = 3,\n",
        "\t\t\t\tstride = 1,\n",
        "\t\t\t\tpadding = 2\n",
        "\t\t\t),\n",
        "\t\t\tnn.ReLU(),\n",
        "\t\t\tnn.MaxPool2d(\n",
        "\t\t\t\tkernel_size = 2,\n",
        "\t\t\t\tstride = 2\n",
        "\t\t\t)\n",
        "\t\t)\n",
        "\t\tself.conv3 = nn.Sequential(\n",
        "\t\t\tnn.Conv2d(\n",
        "\t\t\t\tin_channels = 32, \n",
        "\t\t\t\tout_channels = 64, \n",
        "\t\t\t\tkernel_size = 2,\n",
        "\t\t\t\tstride = 1,\n",
        "\t\t\t\tpadding = 2\n",
        "\t\t\t),\n",
        "\t\t\tnn.ReLU(),\n",
        "\t\t\tnn.MaxPool2d(\n",
        "\t\t\t\tkernel_size = 2,\n",
        "\t\t\t\tstride = 2\n",
        "\t\t\t)\n",
        "\t\t)\n",
        "\t\tif regularization:\n",
        "\t\t\tself.out = nn.Sequential(\n",
        "\t\t\t\tnn.Linear(2304, 1024),\n",
        "\t\t\t\tnn.BatchNorm1d(\n",
        "\t\t\t\t\t1024, \n",
        "\t\t\t\t\teps = regularization['eps'], \n",
        "\t\t\t\t\tmomentum = regularization['momentum']\n",
        "\t\t\t\t),\n",
        "\t\t\t\tnn.Dropout(p = regularization['p']),\n",
        "\t\t\t\tnn.Linear(1024, 512),\n",
        "\t\t\t\tnn.BatchNorm1d(\n",
        "\t\t\t\t\t512, \n",
        "\t\t\t\t\teps = regularization['eps'], \n",
        "\t\t\t\t\tmomentum = regularization['momentum']\n",
        "\t\t\t\t),\n",
        "\t\t\t\tnn.Dropout(p = regularization['p']),\n",
        "\t\t\t\tnn.Linear(512, 27)\n",
        "\t\t\t)\t\n",
        "\t\telse:\n",
        "\t\t\tself.out = nn.Sequential(\n",
        "\t\t\t\tnn.Linear(2304, 1024),\n",
        "\t\t\t\tnn.Linear(1024, 512),\n",
        "\t\t\t\tnn.Linear(512, 27)\n",
        "\t\t\t)\n",
        "\t\n",
        "\tdef forward(self, x):\n",
        "\t\tx = self.conv1(x)\n",
        "\t\tx = self.conv2(x)\n",
        "\t\tx = self.conv3(x)\n",
        "\t\t# flatten the output of conv2 to (batch_size, 32 * 7 * 7)\n",
        "\t\tx = x.view(x.size(0), -1)       \n",
        "\t\toutput = self.out(x)\n",
        "\t\treturn output, x    # return x for visualization\t\t\n",
        "\t\t\n"
      ]
    },
    {
      "cell_type": "code",
      "execution_count": 169,
      "metadata": {
        "notebookRunGroups": {
          "groupValue": "1"
        }
      },
      "outputs": [
        {
          "name": "stdout",
          "output_type": "stream",
          "text": [
            "----------------------------------------------------------------\n",
            "        Layer (type)               Output Shape         Param #\n",
            "================================================================\n",
            "            Conv2d-1           [-1, 16, 32, 32]             416\n",
            "              ReLU-2           [-1, 16, 32, 32]               0\n",
            "         MaxPool2d-3           [-1, 16, 16, 16]               0\n",
            "            Conv2d-4           [-1, 32, 18, 18]           4,640\n",
            "              ReLU-5           [-1, 32, 18, 18]               0\n",
            "         MaxPool2d-6             [-1, 32, 9, 9]               0\n",
            "            Conv2d-7           [-1, 64, 12, 12]           8,256\n",
            "              ReLU-8           [-1, 64, 12, 12]               0\n",
            "         MaxPool2d-9             [-1, 64, 6, 6]               0\n",
            "           Linear-10                 [-1, 1024]       2,360,320\n",
            "           Linear-11                  [-1, 512]         524,800\n",
            "           Linear-12                   [-1, 27]          13,851\n",
            "================================================================\n",
            "Total params: 2,912,283\n",
            "Trainable params: 2,912,283\n",
            "Non-trainable params: 0\n",
            "----------------------------------------------------------------\n",
            "Input size (MB): 0.00\n",
            "Forward/backward pass size (MB): 0.63\n",
            "Params size (MB): 11.11\n",
            "Estimated Total Size (MB): 11.74\n",
            "----------------------------------------------------------------\n"
          ]
        }
      ],
      "source": [
        "cnn = CNN()\n",
        "cnn.cuda()\n",
        "summary(cnn, (1, 32, 32))"
      ]
    },
    {
      "cell_type": "markdown",
      "metadata": {
        "id": "fH3m86cZKMDU"
      },
      "source": [
        "## 1.4 Обучение свёрточной нейронной сети для решения задачи классификации"
      ]
    },
    {
      "cell_type": "code",
      "execution_count": 172,
      "metadata": {
        "id": "qW6LwnnQKQ04",
        "notebookRunGroups": {
          "groupValue": "1"
        }
      },
      "outputs": [],
      "source": [
        "loss_func = nn.CrossEntropyLoss()\n",
        "optimizer = optim.Adam(\n",
        "    cnn.parameters(),\n",
        "    lr = 0.001\n",
        ")\n",
        "\n",
        "num_epochs = 100\n",
        "loadAndTrain = False"
      ]
    },
    {
      "cell_type": "code",
      "execution_count": 167,
      "metadata": {
        "notebookRunGroups": {
          "groupValue": "1"
        }
      },
      "outputs": [],
      "source": [
        "def train(num_epochs, cnn, train_set, dumpName: str):\n",
        "\t\n",
        "\tcnn.train()\n",
        "\t\t\n",
        "\t# Train the model\n",
        "\ttotal_step = len(train_set)\n",
        "\tlossHistory = []\n",
        "\t\t\n",
        "\tfor epoch in range(num_epochs):\n",
        "\t\tfor i, (images, labels) in enumerate(train_set):\n",
        "\t\t\t\n",
        "\t\t\t# gives batch data, normalize x when iterate train_loader\n",
        "\t\t\tb_x = Variable(images.cuda())   # batch x\n",
        "\t\t\tb_y = Variable(labels.cuda())   # batch y\n",
        "\t\t\toutput = cnn(b_x)[0]               \n",
        "\t\t\tloss = loss_func(output, b_y)\n",
        "\t\t\t\n",
        "\t\t\t# clear gradients for this training step   \n",
        "\t\t\toptimizer.zero_grad()           \n",
        "\t\t\t\n",
        "\t\t\t# backpropagation, compute gradients \n",
        "\t\t\tloss.backward()                # apply gradients             \n",
        "\t\t\toptimizer.step()                \n",
        "\t\t\t\n",
        "\t\t\tif i==0 or (i+1) % 100 == 0:\n",
        "\t\t\t\tprint ('Эпоха [{}/{}], Шаг [{}/{}], Потери: {:.4f}' \n",
        "\t\t\t\t\t   .format(epoch + 1, num_epochs, i + 1, total_step, loss.item()))\n",
        "\t\t\t\tlossHistory.append(loss.item())\n",
        "\t\t\t\tpass\n",
        "\t\tpass\n",
        "\tpass\n",
        "\ttorch.save(cnn.state_dict(), f'./data/dumps/{dumpName}.dump')\n",
        "\treturn lossHistory\n",
        "\t"
      ]
    },
    {
      "cell_type": "code",
      "execution_count": 173,
      "metadata": {},
      "outputs": [],
      "source": [
        "if  not loadAndTrain and exists('./data/dumps/cnn_1.dump'):\n",
        "\tcnn.load_state_dict(torch.load('./data/dumps/cnn_1.dump'))\n",
        "else:\n",
        "\tif loadAndTrain and exists('./data/dumps/cnn_1.dump'):\n",
        "\t\tcnn.load_state_dict(torch.load('./data/dumps/cnn_1.dump'))\n",
        "\tstory = train(num_epochs, cnn, trainset, 'cnn_1')\n",
        "\tplt.plot(story)"
      ]
    },
    {
      "cell_type": "code",
      "execution_count": 51,
      "metadata": {
        "notebookRunGroups": {
          "groupValue": "1"
        }
      },
      "outputs": [
        {
          "name": "stdout",
          "output_type": "stream",
          "text": [
            "Проверка точности модели на 20800 тестовых изображениях: 0.915\n"
          ]
        },
        {
          "data": {
            "image/png": "[encoded data removed]",
            "text/plain": [
              "<Figure size 432x288 with 1 Axes>"
            ]
          },
          "metadata": {
            "needs_background": "light"
          },
          "output_type": "display_data"
        }
      ],
      "source": [
        "def test(test_set):\n",
        "    # Test the model\n",
        "    cnn.eval()\n",
        "    __accuracy_list = []\n",
        "\n",
        "    with torch.no_grad():\n",
        "        correct = 0\n",
        "        total = 0\n",
        "        for images, labels in test_set:\n",
        "            test_output, last_layer = cnn(images.cuda())\n",
        "            pred_y = torch.max(test_output, 1)[1].data.squeeze()\n",
        "            accuracy = (pred_y == labels.cuda()).sum().item() / float(labels.cuda().size(0))\n",
        "            __accuracy_list.append(accuracy)\n",
        "            pass\n",
        "        print(f'Проверка точности модели на {len(test_set) * nbatch} тестовых изображениях: {np.average(__accuracy_list)}')\n",
        "    pass\n",
        "    return __accuracy_list\n",
        "\n",
        "accuracy = test(testset)\n",
        "plt.plot(accuracy)\n",
        "plt.xlabel('Номер партии')\n",
        "plt.ylabel('Точность')\n",
        "plt.suptitle('Зависимость точности от партии')\n",
        "plt.show()"
      ]
    },
    {
      "cell_type": "markdown",
      "metadata": {
        "id": "ML_5LCyrKSv9"
      },
      "source": [
        "## 1.5 Агументация данных и регулряизации нейросети\n",
        "\n",
        "Попобуйте добавить аугументацию (случайные повороты, увеличение, уменьшение) в данные, а также регуляризацию (Drop out и Batch Norm слои) в модель. Как меняется метрика accuracy на обучающей и тестовой выборке в процессе обучения? Постройте график."
      ]
    },
    {
      "cell_type": "code",
      "execution_count": 153,
      "metadata": {
        "id": "N90xjiR9Dkgb"
      },
      "outputs": [],
      "source": [
        "randTransform = torchvision.transforms.Compose([\n",
        "    transforms.RandomPerspective(),\n",
        "\ttransforms.RandomAffine(degrees=(-180, 180), scale=(0.5, 1)),\n",
        "\ttransforms.RandomCrop(32, padding = 4),\n",
        "\ttransforms.RandomVerticalFlip(),\n",
        "\ttransforms.RandomHorizontalFlip(),\n",
        "\ttransforms.ToTensor()\n",
        "])"
      ]
    },
    {
      "cell_type": "code",
      "execution_count": 154,
      "metadata": {},
      "outputs": [],
      "source": [
        "trainDataRand = torchvision.datasets.EMNIST(\n",
        "\troot = './data/sets/letters/', \n",
        "\tsplit = \"letters\", \n",
        "\ttrain = True, \n",
        "\tdownload = True,\n",
        "\ttransform = randTransform\n",
        ")\n",
        "\n",
        "testDataRand = torchvision.datasets.EMNIST(\n",
        "\troot = './data/sets/letters/', \n",
        "\tsplit = \"letters\", \n",
        "\ttrain = False, \n",
        "\tdownload = True,\n",
        "\ttransform = randTransform\n",
        ")"
      ]
    },
    {
      "cell_type": "code",
      "execution_count": 155,
      "metadata": {},
      "outputs": [],
      "source": [
        "nbatch = 16\n",
        "trainSetRand = torch.utils.data.DataLoader(\n",
        "\ttrainDataRand, \n",
        "\tbatch_size = nbatch, \n",
        "\tshuffle = True,\n",
        "\tnum_workers=2\n",
        ")\n",
        "testSetRand = torch.utils.data.DataLoader(\n",
        "\ttestDataRand, \n",
        "\tbatch_size = nbatch, \n",
        "\tshuffle = False,\n",
        "\tnum_workers=2\n",
        ")"
      ]
    },
    {
      "cell_type": "code",
      "execution_count": 156,
      "metadata": {},
      "outputs": [
        {
          "name": "stdout",
          "output_type": "stream",
          "text": [
            "l p p j j n m y d k v r t k v a\n"
          ]
        },
        {
          "data": {
            "image/png": "[encoded data removed]",
            "text/plain": [
              "<Figure size 432x288 with 1 Axes>"
            ]
          },
          "metadata": {
            "needs_background": "light"
          },
          "output_type": "display_data"
        }
      ],
      "source": [
        "dataiter = iter(trainSetRand)\n",
        "images, labels = dataiter.next()\n",
        "\n",
        "imshow(torchvision.utils.make_grid(images, nrow = 1))\n",
        "\n",
        "print(\" \".join(str(data_train.classes[labels[j]]) for j in range(nbatch)))"
      ]
    },
    {
      "cell_type": "code",
      "execution_count": 164,
      "metadata": {},
      "outputs": [
        {
          "name": "stdout",
          "output_type": "stream",
          "text": [
            "----------------------------------------------------------------\n",
            "        Layer (type)               Output Shape         Param #\n",
            "================================================================\n",
            "            Conv2d-1           [-1, 16, 32, 32]             416\n",
            "              ReLU-2           [-1, 16, 32, 32]               0\n",
            "         MaxPool2d-3           [-1, 16, 16, 16]               0\n",
            "            Conv2d-4           [-1, 32, 18, 18]           4,640\n",
            "              ReLU-5           [-1, 32, 18, 18]               0\n",
            "         MaxPool2d-6             [-1, 32, 9, 9]               0\n",
            "            Conv2d-7           [-1, 64, 12, 12]           8,256\n",
            "              ReLU-8           [-1, 64, 12, 12]               0\n",
            "         MaxPool2d-9             [-1, 64, 6, 6]               0\n",
            "           Linear-10                 [-1, 1024]       2,360,320\n",
            "      BatchNorm1d-11                 [-1, 1024]           2,048\n",
            "          Dropout-12                 [-1, 1024]               0\n",
            "           Linear-13                  [-1, 512]         524,800\n",
            "      BatchNorm1d-14                  [-1, 512]           1,024\n",
            "          Dropout-15                  [-1, 512]               0\n",
            "           Linear-16                   [-1, 27]          13,851\n",
            "================================================================\n",
            "Total params: 2,915,355\n",
            "Trainable params: 2,915,355\n",
            "Non-trainable params: 0\n",
            "----------------------------------------------------------------\n",
            "Input size (MB): 0.00\n",
            "Forward/backward pass size (MB): 0.65\n",
            "Params size (MB): 11.12\n",
            "Estimated Total Size (MB): 11.78\n",
            "----------------------------------------------------------------\n"
          ]
        }
      ],
      "source": [
        "cnnR = CNN(\n",
        "\tregularization={\n",
        "\t\t'eps': 0.00001,\t\t# default 'eps': 0.00001\n",
        "\t\t'momentum': 0.1, \t# default 'momentum': 0.1\n",
        "\t\t'p': 0.5\t\t\t# default 'p': 0.5\n",
        "\t}\n",
        ")\n",
        "cnnR.cuda()\n",
        "summary(cnnR, (1, 32, 32))"
      ]
    },
    {
      "cell_type": "markdown",
      "metadata": {
        "id": "aTD5QBT-bsnu"
      },
      "source": [
        "## 1.6 Обучение нейросети на данных с аугументацией "
      ]
    },
    {
      "cell_type": "code",
      "execution_count": 174,
      "metadata": {
        "id": "rmlsO4C2bsii"
      },
      "outputs": [
        {
          "name": "stdout",
          "output_type": "stream",
          "text": [
            "Эпоха [1/100], Шаг [1/7800], Потери: 3.5489\n",
            "Эпоха [1/100], Шаг [100/7800], Потери: 3.2796\n",
            "Эпоха [1/100], Шаг [200/7800], Потери: 3.4900\n",
            "Эпоха [1/100], Шаг [300/7800], Потери: 3.7805\n",
            "Эпоха [1/100], Шаг [400/7800], Потери: 3.5999\n",
            "Эпоха [1/100], Шаг [500/7800], Потери: 3.7849\n",
            "Эпоха [1/100], Шаг [600/7800], Потери: 3.8963\n",
            "Эпоха [1/100], Шаг [700/7800], Потери: 3.4019\n",
            "Эпоха [1/100], Шаг [800/7800], Потери: 3.7632\n",
            "Эпоха [1/100], Шаг [900/7800], Потери: 3.4319\n",
            "Эпоха [1/100], Шаг [1000/7800], Потери: 3.4473\n",
            "Эпоха [1/100], Шаг [1100/7800], Потери: 3.5556\n",
            "Эпоха [1/100], Шаг [1200/7800], Потери: 3.6264\n",
            "Эпоха [1/100], Шаг [1300/7800], Потери: 3.7477\n",
            "Эпоха [1/100], Шаг [1400/7800], Потери: 3.6021\n",
            "Эпоха [1/100], Шаг [1500/7800], Потери: 3.6646\n",
            "Эпоха [1/100], Шаг [1600/7800], Потери: 3.5467\n",
            "Эпоха [1/100], Шаг [1700/7800], Потери: 3.5809\n",
            "Эпоха [1/100], Шаг [1800/7800], Потери: 3.6611\n",
            "Эпоха [1/100], Шаг [1900/7800], Потери: 3.6076\n",
            "Эпоха [1/100], Шаг [2000/7800], Потери: 3.2118\n",
            "Эпоха [1/100], Шаг [2100/7800], Потери: 3.7405\n",
            "Эпоха [1/100], Шаг [2200/7800], Потери: 3.7177\n",
            "Эпоха [1/100], Шаг [2300/7800], Потери: 3.4068\n",
            "Эпоха [1/100], Шаг [2400/7800], Потери: 3.4164\n",
            "Эпоха [1/100], Шаг [2500/7800], Потери: 3.5608\n",
            "Эпоха [1/100], Шаг [2600/7800], Потери: 3.5496\n",
            "Эпоха [1/100], Шаг [2700/7800], Потери: 3.7266\n",
            "Эпоха [1/100], Шаг [2800/7800], Потери: 3.3259\n",
            "Эпоха [1/100], Шаг [2900/7800], Потери: 3.5723\n",
            "Эпоха [1/100], Шаг [3000/7800], Потери: 3.6310\n"
          ]
        }
      ],
      "source": [
        "if  not loadAndTrain and exists('./data/dumps/cnn_2.dump'):\n",
        "\tcnnR.load_state_dict(torch.load('./data/dumps/cnn_2.dump'))\n",
        "else:\n",
        "\tif loadAndTrain and exists('./data/dumps/cnn_2.dump'):\n",
        "\t\tcnnR.load_state_dict(torch.load('./data/dumps/cnn_2.dump'))\n",
        "\tstory = train(num_epochs, cnnR, trainSetRand, 'cnn_2')\n",
        "\tplt.plot(story)"
      ]
    },
    {
      "cell_type": "markdown",
      "metadata": {
        "id": "uydqxWwQKWYQ"
      },
      "source": [
        "## 1.7 Выводы\n",
        "\n",
        "Что удалось попробовать? Что получилось, а что — нет? Повлияло ли добавление аугументации на качество?"
      ]
    },
    {
      "cell_type": "markdown",
      "metadata": {
        "id": "D5G-61iAKh0A"
      },
      "source": [
        "# 2. Рекуррентная нейронная сеть для генерации текстов (9 баллов)"
      ]
    },
    {
      "cell_type": "markdown",
      "metadata": {
        "id": "BIVlZeMLKwc6"
      },
      "source": [
        "## 2.1 Загрузка данных\n",
        "\n"
      ]
    },
    {
      "cell_type": "code",
      "execution_count": null,
      "metadata": {
        "id": "m0CBKtrJL9kt"
      },
      "outputs": [],
      "source": []
    },
    {
      "cell_type": "markdown",
      "metadata": {
        "id": "v4TTaWpIKwc9"
      },
      "source": [
        "## 2.2 Преодбработка/нормализация данных по необходимости\n",
        "\n",
        "Например, можно привести все слова к нижнему регистру"
      ]
    },
    {
      "cell_type": "code",
      "execution_count": null,
      "metadata": {
        "id": "qtBeZ7VRVfxn"
      },
      "outputs": [],
      "source": []
    },
    {
      "cell_type": "markdown",
      "metadata": {
        "id": "7xeKpLH3Kwc9"
      },
      "source": [
        "## 2.3 Инициализация объекта рекуррентной нейронной сети"
      ]
    },
    {
      "cell_type": "code",
      "execution_count": null,
      "metadata": {
        "id": "mjsbLlkVSwiL"
      },
      "outputs": [],
      "source": []
    },
    {
      "cell_type": "markdown",
      "metadata": {
        "id": "liOZimvTKwc-"
      },
      "source": [
        "## 2.4 Обучение обычной рекуррентной нейронной сети"
      ]
    },
    {
      "cell_type": "code",
      "execution_count": null,
      "metadata": {
        "id": "DfTeyL-eS-nZ"
      },
      "outputs": [],
      "source": []
    },
    {
      "cell_type": "markdown",
      "metadata": {
        "id": "2K6Inp-qKwc_"
      },
      "source": [
        "## 2.5 Генерация текстов при помощи обычной рекуррентной сети"
      ]
    },
    {
      "cell_type": "code",
      "execution_count": null,
      "metadata": {
        "id": "JRt6j0VsKhdW"
      },
      "outputs": [],
      "source": []
    },
    {
      "cell_type": "markdown",
      "metadata": {
        "id": "PQIhCxJsLRZA"
      },
      "source": [
        "## 2.6 Обучение рекуррентной нейронной сети с LSTM-ячейками"
      ]
    },
    {
      "cell_type": "code",
      "execution_count": null,
      "metadata": {
        "id": "hzGeu7iXLRfl"
      },
      "outputs": [],
      "source": []
    },
    {
      "cell_type": "markdown",
      "metadata": {
        "id": "hodfK4dxLWO3"
      },
      "source": [
        "## 2.7 Генерация текстов с разной температурой\n",
        "\n",
        "Попробуйте сгенерировать тексты с температурой из списка: `[0.1, 0.2, 0.4, 0.6, 0.8, 1.0]` (см. нотубук с семинара по RNN)"
      ]
    },
    {
      "cell_type": "code",
      "execution_count": null,
      "metadata": {
        "id": "5SsbA8hSLWWJ"
      },
      "outputs": [],
      "source": []
    },
    {
      "cell_type": "markdown",
      "metadata": {
        "id": "wmkAq2N7LdzA"
      },
      "source": [
        "## 2.8 Выводы"
      ]
    },
    {
      "cell_type": "markdown",
      "metadata": {
        "id": "KdFzjKnbV4yG"
      },
      "source": []
    }
  ],
  "metadata": {
    "accelerator": "GPU",
    "colab": {
      "collapsed_sections": [],
      "name": "oirs_hw_3.ipynb",
      "provenance": []
    },
    "interpreter": {
      "hash": "321be3341d672da9e910204520c5de42c92942e7af59b70edb64fcb8b86f3361"
    },
    "kernelspec": {
      "display_name": "Python 3.10.4 64-bit (windows store)",
      "language": "python",
      "name": "python3"
    },
    "language_info": {
      "codemirror_mode": {
        "name": "ipython",
        "version": 3
      },
      "file_extension": ".py",
      "mimetype": "text/x-python",
      "name": "python",
      "nbconvert_exporter": "python",
      "pygments_lexer": "ipython3",
      "version": "3.10.5"
    }
  },
  "nbformat": 4,
  "nbformat_minor": 0
}
